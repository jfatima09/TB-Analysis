{
 "cells": [
  {
   "cell_type": "markdown",
   "id": "8484a7fe-b192-4bb0-b878-c8be05b54658",
   "metadata": {},
   "source": [
    "## Regional Tuberclouse Patterns and Patient Distribution Analysis"
   ]
  },
  {
   "cell_type": "markdown",
   "id": "67f751cb-c335-4e35-a4de-7a539d75f1e2",
   "metadata": {},
   "source": [
    "#### Summary\n",
    "This project presents a comprehensive analysis of **Tuberculosis (TB) cases** recorded at a government hospital in **Kishtwar district, Jammu & Kashmir**, using real-world clinical data. The primary objective was to identify trends, high-risk groups, and systemic gaps in diagnosis and treatment processes. Data for this analysis was sourced from the District Tuberculosis Unit (DTU) in Kishtwar.\n",
    "\n",
    "The insights in this report were derived through data analysis techniques, including feature extraction, exploratory data analysis, data visualization, multivariate analysis, and statistical tests like the Chi-square. \n",
    "\n",
    "Key takeaways:\n",
    "\n",
    "- **82.2%** of patients were diagnosed through **public healthcare**, highlighting its dominant role.\n",
    "\n",
    "- **54.9%** of cases occurred in the **18–45 age group**, with a notable **male predominance**.\n",
    "\n",
    "- **Missing or inconsistent data** (e.g., treatment start dates, diagnosis methods) was observed in multiple fields, indicating a need for better record-keeping infrastructure.\n",
    "\n",
    "- Patients came from various parts of Jammu, Doda, and Kashmir, but most were concentrated in Kishtwar."
   ]
  },
  {
   "cell_type": "markdown",
   "id": "c5f52cd0-cb5c-48d8-9708-8bd22c4ff5ca",
   "metadata": {},
   "source": [
    "#### Scope of the report\n",
    "While the dataset was small with only 366 entries and 16 features, which may introduce some bias, the findings offer valuable insights that may be helpful for future district research and healthcare planning efforts. The report focuses solely on the data provided by DTU Kishtwar, which includes information from the TU's DTC Kishtwar, Ramban, and Paddar. Additionally, the shared data lacked several important factors that significantly impact TB, such as patients' smoking or alcohol use, family history, and other relevant aspects."
   ]
  },
  {
   "cell_type": "markdown",
   "id": "3e6f4a04-b537-4765-99cb-b944b375fad9",
   "metadata": {},
   "source": [
    "**Column Descriptions**\n",
    "\n",
    "- **State**: The state where the patient is registered (all entries are from J&K).\n",
    "- **TU**: Treatment Unit managing the case (e.g., Kishtwar, Paddar, Ramban).\n",
    "- **Diagnosed from which Facility**: Name/location of the diagnosing facility.\n",
    "- **Public/Private**: Indicates if the diagnosing facility is public or private.\n",
    "- **Address**: Patient's residential address (used for geographic mapping).\n",
    "- **Diagnosis Date**: Date the patient was diagnosed with TB.\n",
    "- **Age**: Patient’s age (may contain mixed formats).\n",
    "- **Gender**: Gender of the patient (Male/Female/Other).\n",
    "- **Type**: TB case type (New, Trunat (MTB), etc.).\n",
    "- **Site**: TB infection site (Pulmonary, Extrapulmonary, etc.).\n",
    "- **HIV Status**: Patient’s HIV test result (Reactive, Non-reactive, etc.).\n",
    "- **TB Drug Regimen**: The treatment regimen prescribed.\n",
    "- **Tretment Start Date**: When treatment began.\n",
    "- **Weight**: Patient’s weight.\n",
    "- **Diabetic Status**: Indicates if the patient is diabetic or not.\n",
    "- **EP Site**: Specific site of extrapulmonary TB, if applicable.\n",
    "- **nan**: Unnamed column, likely redundant and may be dropped."
   ]
  },
  {
   "cell_type": "code",
   "execution_count": 1,
   "id": "2f56ae60-e350-4b76-9b8a-8206cde6703d",
   "metadata": {},
   "outputs": [],
   "source": [
    "# Importind the libraries "
   ]
  },
  {
   "cell_type": "code",
   "execution_count": 2,
   "id": "7f120a3a-3c61-44c3-8cc3-8913d4d7a5c0",
   "metadata": {},
   "outputs": [],
   "source": [
    "import numpy as np\n",
    "import pandas as pd\n",
    "import seaborn as sns\n",
    "import matplotlib.pyplot as plt"
   ]
  },
  {
   "cell_type": "code",
   "execution_count": 2,
   "id": "f9cddf39-d18b-4a99-8db3-725a2821e1d0",
   "metadata": {},
   "outputs": [],
   "source": [
    "# Data loading "
   ]
  },
  {
   "cell_type": "code",
   "execution_count": 3,
   "id": "26236d71-ee72-4735-9bfd-4c0eb79d50b2",
   "metadata": {},
   "outputs": [],
   "source": [
    "data = pd.read_excel('tb.xlsx')"
   ]
  },
  {
   "cell_type": "code",
   "execution_count": 4,
   "id": "8fffec32-cf0d-4a53-8b43-632f7a242cba",
   "metadata": {},
   "outputs": [
    {
     "data": {
      "text/html": [
       "<div>\n",
       "<style scoped>\n",
       "    .dataframe tbody tr th:only-of-type {\n",
       "        vertical-align: middle;\n",
       "    }\n",
       "\n",
       "    .dataframe tbody tr th {\n",
       "        vertical-align: top;\n",
       "    }\n",
       "\n",
       "    .dataframe thead th {\n",
       "        text-align: right;\n",
       "    }\n",
       "</style>\n",
       "<table border=\"1\" class=\"dataframe\">\n",
       "  <thead>\n",
       "    <tr style=\"text-align: right;\">\n",
       "      <th></th>\n",
       "      <th>Unnamed: 0</th>\n",
       "      <th>TU</th>\n",
       "      <th>Unnamed: 2</th>\n",
       "      <th>Unnamed: 3</th>\n",
       "      <th>Unnamed: 4</th>\n",
       "      <th>Unnamed: 5</th>\n",
       "      <th>Unnamed: 6</th>\n",
       "      <th>Unnamed: 7</th>\n",
       "      <th>Unnamed: 8</th>\n",
       "      <th>Unnamed: 9</th>\n",
       "      <th>Unnamed: 10</th>\n",
       "      <th>Unnamed: 11</th>\n",
       "      <th>Unnamed: 12</th>\n",
       "      <th>Unnamed: 13</th>\n",
       "      <th>Unnamed: 14</th>\n",
       "      <th>Unnamed: 15</th>\n",
       "      <th>Unnamed: 16</th>\n",
       "    </tr>\n",
       "  </thead>\n",
       "  <tbody>\n",
       "    <tr>\n",
       "      <th>0</th>\n",
       "      <td>Spectrum_Current_State</td>\n",
       "      <td>Spectrum_Current_TBU</td>\n",
       "      <td>Spectrum_Diagnosing_District</td>\n",
       "      <td>Spectrum_Modified_Diagnosing_facility_type</td>\n",
       "      <td>Address</td>\n",
       "      <td>Spectrum_Diagnosis_Date</td>\n",
       "      <td>Age</td>\n",
       "      <td>Gender</td>\n",
       "      <td>Type_of_Case</td>\n",
       "      <td>Site_of_TBDisease</td>\n",
       "      <td>Status_of_HIV</td>\n",
       "      <td>Type_of_TB_regimen</td>\n",
       "      <td>Treatment_Initiation_Date</td>\n",
       "      <td>Weight</td>\n",
       "      <td>Status_of_Diabetes</td>\n",
       "      <td>EPSite</td>\n",
       "      <td>NaN</td>\n",
       "    </tr>\n",
       "    <tr>\n",
       "      <th>1</th>\n",
       "      <td>State</td>\n",
       "      <td>TU</td>\n",
       "      <td>Diagnosed from which Facility</td>\n",
       "      <td>Public/Private</td>\n",
       "      <td>Address</td>\n",
       "      <td>Diagnosis Date</td>\n",
       "      <td>Age</td>\n",
       "      <td>Gender</td>\n",
       "      <td>Type</td>\n",
       "      <td>Site</td>\n",
       "      <td>HIV Status</td>\n",
       "      <td>TB Drug Regimen</td>\n",
       "      <td>Tretment Start Date</td>\n",
       "      <td>Weight</td>\n",
       "      <td>Diabetic Status</td>\n",
       "      <td>EP Site</td>\n",
       "      <td>NaN</td>\n",
       "    </tr>\n",
       "    <tr>\n",
       "      <th>2</th>\n",
       "      <td>Jammu &amp; Kashmir</td>\n",
       "      <td>DTC Kishtwar</td>\n",
       "      <td>Jammu</td>\n",
       "      <td>Public</td>\n",
       "      <td>Kishtwar</td>\n",
       "      <td>2024-07-11 00:00:00</td>\n",
       "      <td>70</td>\n",
       "      <td>Male</td>\n",
       "      <td>New</td>\n",
       "      <td>NaN</td>\n",
       "      <td>Unknown</td>\n",
       "      <td>NaN</td>\n",
       "      <td>NaN</td>\n",
       "      <td>NaN</td>\n",
       "      <td>NaN</td>\n",
       "      <td>NaN</td>\n",
       "      <td>NaN</td>\n",
       "    </tr>\n",
       "    <tr>\n",
       "      <th>3</th>\n",
       "      <td>Jammu &amp; Kashmir</td>\n",
       "      <td>DTC Kishtwar</td>\n",
       "      <td>Doda</td>\n",
       "      <td>Public</td>\n",
       "      <td>PIYAS KISHTWAR</td>\n",
       "      <td>2024-08-06 00:00:00</td>\n",
       "      <td>24</td>\n",
       "      <td>Male</td>\n",
       "      <td>New</td>\n",
       "      <td>Pulmonary</td>\n",
       "      <td>Non-Reactive</td>\n",
       "      <td>2HRZE/4HRE</td>\n",
       "      <td>2024-08-06 00:00:00</td>\n",
       "      <td>52</td>\n",
       "      <td>Non-diabetic</td>\n",
       "      <td>NaN</td>\n",
       "      <td>NaN</td>\n",
       "    </tr>\n",
       "    <tr>\n",
       "      <th>4</th>\n",
       "      <td>Jammu &amp; Kashmir</td>\n",
       "      <td>DTC Kishtwar</td>\n",
       "      <td>Doda</td>\n",
       "      <td>Public</td>\n",
       "      <td>SHAKTI NAGAR KISHTWAR</td>\n",
       "      <td>2024-08-03 00:00:00</td>\n",
       "      <td>60</td>\n",
       "      <td>Female</td>\n",
       "      <td>New</td>\n",
       "      <td>Extra Pulmonary</td>\n",
       "      <td>Non-Reactive</td>\n",
       "      <td>2HRZE/4HRE</td>\n",
       "      <td>2024-08-03 00:00:00</td>\n",
       "      <td>58</td>\n",
       "      <td>NaN</td>\n",
       "      <td>Lymph Node</td>\n",
       "      <td>NaN</td>\n",
       "    </tr>\n",
       "    <tr>\n",
       "      <th>...</th>\n",
       "      <td>...</td>\n",
       "      <td>...</td>\n",
       "      <td>...</td>\n",
       "      <td>...</td>\n",
       "      <td>...</td>\n",
       "      <td>...</td>\n",
       "      <td>...</td>\n",
       "      <td>...</td>\n",
       "      <td>...</td>\n",
       "      <td>...</td>\n",
       "      <td>...</td>\n",
       "      <td>...</td>\n",
       "      <td>...</td>\n",
       "      <td>...</td>\n",
       "      <td>...</td>\n",
       "      <td>...</td>\n",
       "      <td>...</td>\n",
       "    </tr>\n",
       "    <tr>\n",
       "      <th>910</th>\n",
       "      <td>Jammu &amp; Kashmir</td>\n",
       "      <td>DTC Kishtwar</td>\n",
       "      <td>Doda</td>\n",
       "      <td>Public</td>\n",
       "      <td>PATH GAM MARWAH KISHTWAR</td>\n",
       "      <td>2024-04-04 00:00:00</td>\n",
       "      <td>35</td>\n",
       "      <td>Female</td>\n",
       "      <td>CBNAAT</td>\n",
       "      <td>New</td>\n",
       "      <td>Pulmonary</td>\n",
       "      <td>NaN</td>\n",
       "      <td>NaN</td>\n",
       "      <td>160</td>\n",
       "      <td>49</td>\n",
       "      <td>2024-09-19 00:00:00</td>\n",
       "      <td>1.0</td>\n",
       "    </tr>\n",
       "    <tr>\n",
       "      <th>911</th>\n",
       "      <td>Jammu &amp; Kashmir</td>\n",
       "      <td>PADDER</td>\n",
       "      <td>Doda</td>\n",
       "      <td>Public</td>\n",
       "      <td>LAGRI PADDER</td>\n",
       "      <td>2024-03-29 00:00:00</td>\n",
       "      <td>40</td>\n",
       "      <td>Male</td>\n",
       "      <td>Microscopy ZN and Fluorescent</td>\n",
       "      <td>New</td>\n",
       "      <td>Pulmonary</td>\n",
       "      <td>NaN</td>\n",
       "      <td>NaN</td>\n",
       "      <td>160</td>\n",
       "      <td>47</td>\n",
       "      <td>2024-09-13 00:00:00</td>\n",
       "      <td>1.0</td>\n",
       "    </tr>\n",
       "    <tr>\n",
       "      <th>912</th>\n",
       "      <td>Jammu &amp; Kashmir</td>\n",
       "      <td>Doda</td>\n",
       "      <td>Doda</td>\n",
       "      <td>Public</td>\n",
       "      <td>Panthan ward no 7</td>\n",
       "      <td>2024-04-04 00:00:00</td>\n",
       "      <td>15</td>\n",
       "      <td>Female</td>\n",
       "      <td>Trunat (MTB)</td>\n",
       "      <td>New</td>\n",
       "      <td>Pulmonary</td>\n",
       "      <td>NaN</td>\n",
       "      <td>CURED</td>\n",
       "      <td>102</td>\n",
       "      <td>33</td>\n",
       "      <td>2024-09-20 00:00:00</td>\n",
       "      <td>1.0</td>\n",
       "    </tr>\n",
       "    <tr>\n",
       "      <th>913</th>\n",
       "      <td>Jammu &amp; Kashmir</td>\n",
       "      <td>DTC Kishtwar</td>\n",
       "      <td>Doda</td>\n",
       "      <td>Public</td>\n",
       "      <td>DOOL KISHTWAR</td>\n",
       "      <td>2024-04-03 00:00:00</td>\n",
       "      <td>19</td>\n",
       "      <td>Female</td>\n",
       "      <td>Microscopy ZN and Fluorescent</td>\n",
       "      <td>New</td>\n",
       "      <td>Pulmonary</td>\n",
       "      <td>NaN</td>\n",
       "      <td>NaN</td>\n",
       "      <td>160</td>\n",
       "      <td>47</td>\n",
       "      <td>2024-09-18 00:00:00</td>\n",
       "      <td>1.0</td>\n",
       "    </tr>\n",
       "    <tr>\n",
       "      <th>914</th>\n",
       "      <td>Jammu &amp; Kashmir</td>\n",
       "      <td>UKHERAL</td>\n",
       "      <td>Doda</td>\n",
       "      <td>PRIVATE</td>\n",
       "      <td>sarbagni</td>\n",
       "      <td>2024-04-01 00:00:00</td>\n",
       "      <td>17</td>\n",
       "      <td>Male</td>\n",
       "      <td>Chest X Ray</td>\n",
       "      <td>New</td>\n",
       "      <td>Extra Pulmonary</td>\n",
       "      <td>NaN</td>\n",
       "      <td>TREATMENT_COMPLETE</td>\n",
       "      <td>144</td>\n",
       "      <td>42</td>\n",
       "      <td>2024-09-17 00:00:00</td>\n",
       "      <td>1.0</td>\n",
       "    </tr>\n",
       "  </tbody>\n",
       "</table>\n",
       "<p>915 rows × 17 columns</p>\n",
       "</div>"
      ],
      "text/plain": [
       "                 Unnamed: 0                    TU  \\\n",
       "0    Spectrum_Current_State  Spectrum_Current_TBU   \n",
       "1                     State                    TU   \n",
       "2           Jammu & Kashmir          DTC Kishtwar   \n",
       "3           Jammu & Kashmir          DTC Kishtwar   \n",
       "4           Jammu & Kashmir          DTC Kishtwar   \n",
       "..                      ...                   ...   \n",
       "910         Jammu & Kashmir          DTC Kishtwar   \n",
       "911         Jammu & Kashmir                PADDER   \n",
       "912         Jammu & Kashmir                  Doda   \n",
       "913         Jammu & Kashmir          DTC Kishtwar   \n",
       "914         Jammu & Kashmir               UKHERAL   \n",
       "\n",
       "                        Unnamed: 2  \\\n",
       "0     Spectrum_Diagnosing_District   \n",
       "1    Diagnosed from which Facility   \n",
       "2                            Jammu   \n",
       "3                             Doda   \n",
       "4                             Doda   \n",
       "..                             ...   \n",
       "910                           Doda   \n",
       "911                           Doda   \n",
       "912                           Doda   \n",
       "913                           Doda   \n",
       "914                           Doda   \n",
       "\n",
       "                                     Unnamed: 3                Unnamed: 4  \\\n",
       "0    Spectrum_Modified_Diagnosing_facility_type                   Address   \n",
       "1                                Public/Private                   Address   \n",
       "2                                        Public                  Kishtwar   \n",
       "3                                        Public            PIYAS KISHTWAR   \n",
       "4                                        Public     SHAKTI NAGAR KISHTWAR   \n",
       "..                                          ...                       ...   \n",
       "910                                      Public  PATH GAM MARWAH KISHTWAR   \n",
       "911                                      Public              LAGRI PADDER   \n",
       "912                                      Public         Panthan ward no 7   \n",
       "913                                      Public             DOOL KISHTWAR   \n",
       "914                                     PRIVATE                  sarbagni   \n",
       "\n",
       "                  Unnamed: 5 Unnamed: 6 Unnamed: 7  \\\n",
       "0    Spectrum_Diagnosis_Date        Age     Gender   \n",
       "1             Diagnosis Date        Age     Gender   \n",
       "2        2024-07-11 00:00:00         70       Male   \n",
       "3        2024-08-06 00:00:00         24       Male   \n",
       "4        2024-08-03 00:00:00         60     Female   \n",
       "..                       ...        ...        ...   \n",
       "910      2024-04-04 00:00:00         35     Female   \n",
       "911      2024-03-29 00:00:00         40       Male   \n",
       "912      2024-04-04 00:00:00         15     Female   \n",
       "913      2024-04-03 00:00:00         19     Female   \n",
       "914      2024-04-01 00:00:00         17       Male   \n",
       "\n",
       "                        Unnamed: 8         Unnamed: 9      Unnamed: 10  \\\n",
       "0                     Type_of_Case  Site_of_TBDisease    Status_of_HIV   \n",
       "1                             Type               Site       HIV Status   \n",
       "2                              New                NaN          Unknown   \n",
       "3                              New          Pulmonary     Non-Reactive   \n",
       "4                              New    Extra Pulmonary     Non-Reactive   \n",
       "..                             ...                ...              ...   \n",
       "910                         CBNAAT                New        Pulmonary   \n",
       "911  Microscopy ZN and Fluorescent                New        Pulmonary   \n",
       "912                   Trunat (MTB)                New        Pulmonary   \n",
       "913  Microscopy ZN and Fluorescent                New        Pulmonary   \n",
       "914                    Chest X Ray                New  Extra Pulmonary   \n",
       "\n",
       "            Unnamed: 11                Unnamed: 12 Unnamed: 13  \\\n",
       "0    Type_of_TB_regimen  Treatment_Initiation_Date      Weight   \n",
       "1       TB Drug Regimen        Tretment Start Date      Weight   \n",
       "2                   NaN                        NaN         NaN   \n",
       "3            2HRZE/4HRE        2024-08-06 00:00:00          52   \n",
       "4            2HRZE/4HRE        2024-08-03 00:00:00          58   \n",
       "..                  ...                        ...         ...   \n",
       "910                 NaN                        NaN         160   \n",
       "911                 NaN                        NaN         160   \n",
       "912                 NaN                      CURED         102   \n",
       "913                 NaN                        NaN         160   \n",
       "914                 NaN         TREATMENT_COMPLETE         144   \n",
       "\n",
       "            Unnamed: 14          Unnamed: 15  Unnamed: 16  \n",
       "0    Status_of_Diabetes               EPSite          NaN  \n",
       "1       Diabetic Status              EP Site          NaN  \n",
       "2                   NaN                  NaN          NaN  \n",
       "3          Non-diabetic                  NaN          NaN  \n",
       "4                   NaN           Lymph Node          NaN  \n",
       "..                  ...                  ...          ...  \n",
       "910                  49  2024-09-19 00:00:00          1.0  \n",
       "911                  47  2024-09-13 00:00:00          1.0  \n",
       "912                  33  2024-09-20 00:00:00          1.0  \n",
       "913                  47  2024-09-18 00:00:00          1.0  \n",
       "914                  42  2024-09-17 00:00:00          1.0  \n",
       "\n",
       "[915 rows x 17 columns]"
      ]
     },
     "execution_count": 4,
     "metadata": {},
     "output_type": "execute_result"
    }
   ],
   "source": [
    "data"
   ]
  },
  {
   "cell_type": "code",
   "execution_count": 5,
   "id": "a2dd32fb-622c-4bb3-87a6-fd52ff8ecadb",
   "metadata": {},
   "outputs": [
    {
     "name": "stdout",
     "output_type": "stream",
     "text": [
      "<class 'pandas.core.frame.DataFrame'>\n",
      "RangeIndex: 915 entries, 0 to 914\n",
      "Data columns (total 17 columns):\n",
      " #   Column       Non-Null Count  Dtype  \n",
      "---  ------       --------------  -----  \n",
      " 0   Unnamed: 0   915 non-null    object \n",
      " 1   TU           915 non-null    object \n",
      " 2   Unnamed: 2   915 non-null    object \n",
      " 3   Unnamed: 3   915 non-null    object \n",
      " 4   Unnamed: 4   915 non-null    object \n",
      " 5   Unnamed: 5   915 non-null    object \n",
      " 6   Unnamed: 6   915 non-null    object \n",
      " 7   Unnamed: 7   915 non-null    object \n",
      " 8   Unnamed: 8   911 non-null    object \n",
      " 9   Unnamed: 9   830 non-null    object \n",
      " 10  Unnamed: 10  878 non-null    object \n",
      " 11  Unnamed: 11  46 non-null     object \n",
      " 12  Unnamed: 12  458 non-null    object \n",
      " 13  Unnamed: 13  880 non-null    object \n",
      " 14  Unnamed: 14  880 non-null    object \n",
      " 15  Unnamed: 15  890 non-null    object \n",
      " 16  Unnamed: 16  868 non-null    float64\n",
      "dtypes: float64(1), object(16)\n",
      "memory usage: 121.7+ KB\n"
     ]
    }
   ],
   "source": [
    "data.info()"
   ]
  },
  {
   "cell_type": "code",
   "execution_count": 6,
   "id": "dd71fb4f-c604-45dd-9ad9-bf74df6a5e3a",
   "metadata": {},
   "outputs": [
    {
     "data": {
      "text/plain": [
       "0"
      ]
     },
     "execution_count": 6,
     "metadata": {},
     "output_type": "execute_result"
    }
   ],
   "source": [
    "data.duplicated().sum()"
   ]
  },
  {
   "cell_type": "code",
   "execution_count": 7,
   "id": "4f33890e-f22b-46c2-a1ee-91c369a1e780",
   "metadata": {
    "scrolled": true
   },
   "outputs": [
    {
     "data": {
      "text/plain": [
       "Unnamed: 0       0\n",
       "TU               0\n",
       "Unnamed: 2       0\n",
       "Unnamed: 3       0\n",
       "Unnamed: 4       0\n",
       "Unnamed: 5       0\n",
       "Unnamed: 6       0\n",
       "Unnamed: 7       0\n",
       "Unnamed: 8       4\n",
       "Unnamed: 9      85\n",
       "Unnamed: 10     37\n",
       "Unnamed: 11    869\n",
       "Unnamed: 12    457\n",
       "Unnamed: 13     35\n",
       "Unnamed: 14     35\n",
       "Unnamed: 15     25\n",
       "Unnamed: 16     47\n",
       "dtype: int64"
      ]
     },
     "execution_count": 7,
     "metadata": {},
     "output_type": "execute_result"
    }
   ],
   "source": [
    "data.isna().sum()"
   ]
  },
  {
   "cell_type": "markdown",
   "id": "6db15c84-a920-4d00-8a1b-e76addf095a9",
   "metadata": {},
   "source": [
    "##### Initial Observations:\n",
    "- Column names are inconsistent and should be renamed for clarity.\n",
    "\n",
    "- The dataset contains a significant number of null (missing) values.\n",
    "\n",
    "- No duplicate records were found."
   ]
  },
  {
   "cell_type": "markdown",
   "id": "a1c995d6-9a2f-4728-979f-a9c6ef024327",
   "metadata": {},
   "source": [
    "## 1. Data Cleaning"
   ]
  },
  {
   "cell_type": "code",
   "execution_count": 8,
   "id": "a86da032-2265-46fc-a632-a81307f2ac83",
   "metadata": {
    "scrolled": true
   },
   "outputs": [
    {
     "data": {
      "text/html": [
       "<div>\n",
       "<style scoped>\n",
       "    .dataframe tbody tr th:only-of-type {\n",
       "        vertical-align: middle;\n",
       "    }\n",
       "\n",
       "    .dataframe tbody tr th {\n",
       "        vertical-align: top;\n",
       "    }\n",
       "\n",
       "    .dataframe thead th {\n",
       "        text-align: right;\n",
       "    }\n",
       "</style>\n",
       "<table border=\"1\" class=\"dataframe\">\n",
       "  <thead>\n",
       "    <tr style=\"text-align: right;\">\n",
       "      <th></th>\n",
       "      <th>Unnamed: 0</th>\n",
       "      <th>TU</th>\n",
       "      <th>Unnamed: 2</th>\n",
       "      <th>Unnamed: 3</th>\n",
       "      <th>Unnamed: 4</th>\n",
       "      <th>Unnamed: 5</th>\n",
       "      <th>Unnamed: 6</th>\n",
       "      <th>Unnamed: 7</th>\n",
       "      <th>Unnamed: 8</th>\n",
       "      <th>Unnamed: 9</th>\n",
       "      <th>Unnamed: 10</th>\n",
       "      <th>Unnamed: 11</th>\n",
       "      <th>Unnamed: 12</th>\n",
       "      <th>Unnamed: 13</th>\n",
       "      <th>Unnamed: 14</th>\n",
       "      <th>Unnamed: 15</th>\n",
       "      <th>Unnamed: 16</th>\n",
       "    </tr>\n",
       "  </thead>\n",
       "  <tbody>\n",
       "    <tr>\n",
       "      <th>0</th>\n",
       "      <td>Spectrum_Current_State</td>\n",
       "      <td>Spectrum_Current_TBU</td>\n",
       "      <td>Spectrum_Diagnosing_District</td>\n",
       "      <td>Spectrum_Modified_Diagnosing_facility_type</td>\n",
       "      <td>Address</td>\n",
       "      <td>Spectrum_Diagnosis_Date</td>\n",
       "      <td>Age</td>\n",
       "      <td>Gender</td>\n",
       "      <td>Type_of_Case</td>\n",
       "      <td>Site_of_TBDisease</td>\n",
       "      <td>Status_of_HIV</td>\n",
       "      <td>Type_of_TB_regimen</td>\n",
       "      <td>Treatment_Initiation_Date</td>\n",
       "      <td>Weight</td>\n",
       "      <td>Status_of_Diabetes</td>\n",
       "      <td>EPSite</td>\n",
       "      <td>NaN</td>\n",
       "    </tr>\n",
       "    <tr>\n",
       "      <th>1</th>\n",
       "      <td>State</td>\n",
       "      <td>TU</td>\n",
       "      <td>Diagnosed from which Facility</td>\n",
       "      <td>Public/Private</td>\n",
       "      <td>Address</td>\n",
       "      <td>Diagnosis Date</td>\n",
       "      <td>Age</td>\n",
       "      <td>Gender</td>\n",
       "      <td>Type</td>\n",
       "      <td>Site</td>\n",
       "      <td>HIV Status</td>\n",
       "      <td>TB Drug Regimen</td>\n",
       "      <td>Tretment Start Date</td>\n",
       "      <td>Weight</td>\n",
       "      <td>Diabetic Status</td>\n",
       "      <td>EP Site</td>\n",
       "      <td>NaN</td>\n",
       "    </tr>\n",
       "    <tr>\n",
       "      <th>2</th>\n",
       "      <td>Jammu &amp; Kashmir</td>\n",
       "      <td>DTC Kishtwar</td>\n",
       "      <td>Jammu</td>\n",
       "      <td>Public</td>\n",
       "      <td>Kishtwar</td>\n",
       "      <td>2024-07-11 00:00:00</td>\n",
       "      <td>70</td>\n",
       "      <td>Male</td>\n",
       "      <td>New</td>\n",
       "      <td>NaN</td>\n",
       "      <td>Unknown</td>\n",
       "      <td>NaN</td>\n",
       "      <td>NaN</td>\n",
       "      <td>NaN</td>\n",
       "      <td>NaN</td>\n",
       "      <td>NaN</td>\n",
       "      <td>NaN</td>\n",
       "    </tr>\n",
       "    <tr>\n",
       "      <th>3</th>\n",
       "      <td>Jammu &amp; Kashmir</td>\n",
       "      <td>DTC Kishtwar</td>\n",
       "      <td>Doda</td>\n",
       "      <td>Public</td>\n",
       "      <td>PIYAS KISHTWAR</td>\n",
       "      <td>2024-08-06 00:00:00</td>\n",
       "      <td>24</td>\n",
       "      <td>Male</td>\n",
       "      <td>New</td>\n",
       "      <td>Pulmonary</td>\n",
       "      <td>Non-Reactive</td>\n",
       "      <td>2HRZE/4HRE</td>\n",
       "      <td>2024-08-06 00:00:00</td>\n",
       "      <td>52</td>\n",
       "      <td>Non-diabetic</td>\n",
       "      <td>NaN</td>\n",
       "      <td>NaN</td>\n",
       "    </tr>\n",
       "    <tr>\n",
       "      <th>4</th>\n",
       "      <td>Jammu &amp; Kashmir</td>\n",
       "      <td>DTC Kishtwar</td>\n",
       "      <td>Doda</td>\n",
       "      <td>Public</td>\n",
       "      <td>SHAKTI NAGAR KISHTWAR</td>\n",
       "      <td>2024-08-03 00:00:00</td>\n",
       "      <td>60</td>\n",
       "      <td>Female</td>\n",
       "      <td>New</td>\n",
       "      <td>Extra Pulmonary</td>\n",
       "      <td>Non-Reactive</td>\n",
       "      <td>2HRZE/4HRE</td>\n",
       "      <td>2024-08-03 00:00:00</td>\n",
       "      <td>58</td>\n",
       "      <td>NaN</td>\n",
       "      <td>Lymph Node</td>\n",
       "      <td>NaN</td>\n",
       "    </tr>\n",
       "  </tbody>\n",
       "</table>\n",
       "</div>"
      ],
      "text/plain": [
       "               Unnamed: 0                    TU  \\\n",
       "0  Spectrum_Current_State  Spectrum_Current_TBU   \n",
       "1                   State                    TU   \n",
       "2         Jammu & Kashmir          DTC Kishtwar   \n",
       "3         Jammu & Kashmir          DTC Kishtwar   \n",
       "4         Jammu & Kashmir          DTC Kishtwar   \n",
       "\n",
       "                      Unnamed: 2                                  Unnamed: 3  \\\n",
       "0   Spectrum_Diagnosing_District  Spectrum_Modified_Diagnosing_facility_type   \n",
       "1  Diagnosed from which Facility                              Public/Private   \n",
       "2                          Jammu                                      Public   \n",
       "3                           Doda                                      Public   \n",
       "4                           Doda                                      Public   \n",
       "\n",
       "              Unnamed: 4               Unnamed: 5 Unnamed: 6 Unnamed: 7  \\\n",
       "0                Address  Spectrum_Diagnosis_Date        Age     Gender   \n",
       "1                Address           Diagnosis Date        Age     Gender   \n",
       "2               Kishtwar      2024-07-11 00:00:00         70       Male   \n",
       "3         PIYAS KISHTWAR      2024-08-06 00:00:00         24       Male   \n",
       "4  SHAKTI NAGAR KISHTWAR      2024-08-03 00:00:00         60     Female   \n",
       "\n",
       "     Unnamed: 8         Unnamed: 9    Unnamed: 10         Unnamed: 11  \\\n",
       "0  Type_of_Case  Site_of_TBDisease  Status_of_HIV  Type_of_TB_regimen   \n",
       "1          Type               Site     HIV Status     TB Drug Regimen   \n",
       "2           New                NaN        Unknown                 NaN   \n",
       "3           New          Pulmonary   Non-Reactive          2HRZE/4HRE   \n",
       "4           New    Extra Pulmonary   Non-Reactive          2HRZE/4HRE   \n",
       "\n",
       "                 Unnamed: 12 Unnamed: 13         Unnamed: 14 Unnamed: 15  \\\n",
       "0  Treatment_Initiation_Date      Weight  Status_of_Diabetes      EPSite   \n",
       "1        Tretment Start Date      Weight     Diabetic Status     EP Site   \n",
       "2                        NaN         NaN                 NaN         NaN   \n",
       "3        2024-08-06 00:00:00          52        Non-diabetic         NaN   \n",
       "4        2024-08-03 00:00:00          58                 NaN  Lymph Node   \n",
       "\n",
       "   Unnamed: 16  \n",
       "0          NaN  \n",
       "1          NaN  \n",
       "2          NaN  \n",
       "3          NaN  \n",
       "4          NaN  "
      ]
     },
     "execution_count": 8,
     "metadata": {},
     "output_type": "execute_result"
    }
   ],
   "source": [
    "data.head()"
   ]
  },
  {
   "cell_type": "code",
   "execution_count": 9,
   "id": "68a21327-1ebe-480a-b7d0-51a55e0f8fa3",
   "metadata": {},
   "outputs": [
    {
     "data": {
      "text/plain": [
       "Unnamed: 0                             State\n",
       "TU                                        TU\n",
       "Unnamed: 2     Diagnosed from which Facility\n",
       "Unnamed: 3                    Public/Private\n",
       "Unnamed: 4                           Address\n",
       "Unnamed: 5                    Diagnosis Date\n",
       "Unnamed: 6                               Age\n",
       "Unnamed: 7                            Gender\n",
       "Unnamed: 8                              Type\n",
       "Unnamed: 9                              Site\n",
       "Unnamed: 10                       HIV Status\n",
       "Unnamed: 11                  TB Drug Regimen\n",
       "Unnamed: 12              Tretment Start Date\n",
       "Unnamed: 13                           Weight\n",
       "Unnamed: 14                  Diabetic Status\n",
       "Unnamed: 15                          EP Site\n",
       "Unnamed: 16                              NaN\n",
       "Name: 1, dtype: object"
      ]
     },
     "execution_count": 9,
     "metadata": {},
     "output_type": "execute_result"
    }
   ],
   "source": [
    "data.iloc[1]"
   ]
  },
  {
   "cell_type": "code",
   "execution_count": 10,
   "id": "2638b3c6-2d6d-4497-9aae-e67c60924bca",
   "metadata": {
    "scrolled": true
   },
   "outputs": [
    {
     "data": {
      "text/plain": [
       "Unnamed: 0         Jammu & Kashmir\n",
       "TU                    DTC Kishtwar\n",
       "Unnamed: 2                   Jammu\n",
       "Unnamed: 3                  Public\n",
       "Unnamed: 4                Kishtwar\n",
       "Unnamed: 5     2024-07-11 00:00:00\n",
       "Unnamed: 6                      70\n",
       "Unnamed: 7                    Male\n",
       "Unnamed: 8                     New\n",
       "Unnamed: 9                     NaN\n",
       "Unnamed: 10                Unknown\n",
       "Unnamed: 11                    NaN\n",
       "Unnamed: 12                    NaN\n",
       "Unnamed: 13                    NaN\n",
       "Unnamed: 14                    NaN\n",
       "Unnamed: 15                    NaN\n",
       "Unnamed: 16                    NaN\n",
       "Name: 2, dtype: object"
      ]
     },
     "execution_count": 10,
     "metadata": {},
     "output_type": "execute_result"
    }
   ],
   "source": [
    "data.iloc[2]"
   ]
  },
  {
   "cell_type": "markdown",
   "id": "9ca3a306-3316-4308-843c-a2b78a217748",
   "metadata": {},
   "source": [
    "##### 1.1 Removing Duplicate Header Rows\n",
    "\n",
    "> The first two rows contain redundant header-like content and will be removed.  \n",
    "> The actual column headers are set using the second row."
   ]
  },
  {
   "cell_type": "code",
   "execution_count": 11,
   "id": "0c18bea0-589c-4051-9339-3c78f33a58e9",
   "metadata": {},
   "outputs": [],
   "source": [
    "data.columns = data.iloc[1]"
   ]
  },
  {
   "cell_type": "code",
   "execution_count": 12,
   "id": "2e31d949-9312-42be-9001-55e251ee3959",
   "metadata": {},
   "outputs": [],
   "source": [
    "data = data.iloc[2:]"
   ]
  },
  {
   "cell_type": "code",
   "execution_count": 13,
   "id": "302caa42-735a-475c-98e3-3b23c5a0acb7",
   "metadata": {},
   "outputs": [],
   "source": [
    "data.reset_index(drop = True, inplace = True)"
   ]
  },
  {
   "cell_type": "code",
   "execution_count": 14,
   "id": "25786252-6311-4cb9-ba2f-40b6f94ae309",
   "metadata": {},
   "outputs": [
    {
     "data": {
      "text/html": [
       "<div>\n",
       "<style scoped>\n",
       "    .dataframe tbody tr th:only-of-type {\n",
       "        vertical-align: middle;\n",
       "    }\n",
       "\n",
       "    .dataframe tbody tr th {\n",
       "        vertical-align: top;\n",
       "    }\n",
       "\n",
       "    .dataframe thead th {\n",
       "        text-align: right;\n",
       "    }\n",
       "</style>\n",
       "<table border=\"1\" class=\"dataframe\">\n",
       "  <thead>\n",
       "    <tr style=\"text-align: right;\">\n",
       "      <th>1</th>\n",
       "      <th>State</th>\n",
       "      <th>TU</th>\n",
       "      <th>Diagnosed from which Facility</th>\n",
       "      <th>Public/Private</th>\n",
       "      <th>Address</th>\n",
       "      <th>Diagnosis Date</th>\n",
       "      <th>Age</th>\n",
       "      <th>Gender</th>\n",
       "      <th>Type</th>\n",
       "      <th>Site</th>\n",
       "      <th>HIV Status</th>\n",
       "      <th>TB Drug Regimen</th>\n",
       "      <th>Tretment Start Date</th>\n",
       "      <th>Weight</th>\n",
       "      <th>Diabetic Status</th>\n",
       "      <th>EP Site</th>\n",
       "      <th>NaN</th>\n",
       "    </tr>\n",
       "  </thead>\n",
       "  <tbody>\n",
       "    <tr>\n",
       "      <th>0</th>\n",
       "      <td>Jammu &amp; Kashmir</td>\n",
       "      <td>DTC Kishtwar</td>\n",
       "      <td>Jammu</td>\n",
       "      <td>Public</td>\n",
       "      <td>Kishtwar</td>\n",
       "      <td>2024-07-11 00:00:00</td>\n",
       "      <td>70</td>\n",
       "      <td>Male</td>\n",
       "      <td>New</td>\n",
       "      <td>NaN</td>\n",
       "      <td>Unknown</td>\n",
       "      <td>NaN</td>\n",
       "      <td>NaN</td>\n",
       "      <td>NaN</td>\n",
       "      <td>NaN</td>\n",
       "      <td>NaN</td>\n",
       "      <td>NaN</td>\n",
       "    </tr>\n",
       "    <tr>\n",
       "      <th>1</th>\n",
       "      <td>Jammu &amp; Kashmir</td>\n",
       "      <td>DTC Kishtwar</td>\n",
       "      <td>Doda</td>\n",
       "      <td>Public</td>\n",
       "      <td>PIYAS KISHTWAR</td>\n",
       "      <td>2024-08-06 00:00:00</td>\n",
       "      <td>24</td>\n",
       "      <td>Male</td>\n",
       "      <td>New</td>\n",
       "      <td>Pulmonary</td>\n",
       "      <td>Non-Reactive</td>\n",
       "      <td>2HRZE/4HRE</td>\n",
       "      <td>2024-08-06 00:00:00</td>\n",
       "      <td>52</td>\n",
       "      <td>Non-diabetic</td>\n",
       "      <td>NaN</td>\n",
       "      <td>NaN</td>\n",
       "    </tr>\n",
       "    <tr>\n",
       "      <th>2</th>\n",
       "      <td>Jammu &amp; Kashmir</td>\n",
       "      <td>DTC Kishtwar</td>\n",
       "      <td>Doda</td>\n",
       "      <td>Public</td>\n",
       "      <td>SHAKTI NAGAR KISHTWAR</td>\n",
       "      <td>2024-08-03 00:00:00</td>\n",
       "      <td>60</td>\n",
       "      <td>Female</td>\n",
       "      <td>New</td>\n",
       "      <td>Extra Pulmonary</td>\n",
       "      <td>Non-Reactive</td>\n",
       "      <td>2HRZE/4HRE</td>\n",
       "      <td>2024-08-03 00:00:00</td>\n",
       "      <td>58</td>\n",
       "      <td>NaN</td>\n",
       "      <td>Lymph Node</td>\n",
       "      <td>NaN</td>\n",
       "    </tr>\n",
       "    <tr>\n",
       "      <th>3</th>\n",
       "      <td>Jammu &amp; Kashmir</td>\n",
       "      <td>DTC Kishtwar</td>\n",
       "      <td>Doda</td>\n",
       "      <td>PRIVATE</td>\n",
       "      <td>WARDA KISHTWAR</td>\n",
       "      <td>2024-07-10 00:00:00</td>\n",
       "      <td>19</td>\n",
       "      <td>Female</td>\n",
       "      <td>NaN</td>\n",
       "      <td>Pulmonary</td>\n",
       "      <td>Non-Reactive</td>\n",
       "      <td>2HRZE/4HRE</td>\n",
       "      <td>2024-07-10 00:00:00</td>\n",
       "      <td>38</td>\n",
       "      <td>Non-diabetic</td>\n",
       "      <td>NaN</td>\n",
       "      <td>NaN</td>\n",
       "    </tr>\n",
       "    <tr>\n",
       "      <th>4</th>\n",
       "      <td>Jammu &amp; Kashmir</td>\n",
       "      <td>DTC Kishtwar</td>\n",
       "      <td>Doda</td>\n",
       "      <td>Public</td>\n",
       "      <td>PADYARNA KISHTWAR</td>\n",
       "      <td>2024-07-31 00:00:00</td>\n",
       "      <td>18</td>\n",
       "      <td>Female</td>\n",
       "      <td>New</td>\n",
       "      <td>Pulmonary</td>\n",
       "      <td>Non-Reactive</td>\n",
       "      <td>2HRZE/4HRE</td>\n",
       "      <td>2024-07-31 00:00:00</td>\n",
       "      <td>32</td>\n",
       "      <td>Non-diabetic</td>\n",
       "      <td>NaN</td>\n",
       "      <td>NaN</td>\n",
       "    </tr>\n",
       "    <tr>\n",
       "      <th>...</th>\n",
       "      <td>...</td>\n",
       "      <td>...</td>\n",
       "      <td>...</td>\n",
       "      <td>...</td>\n",
       "      <td>...</td>\n",
       "      <td>...</td>\n",
       "      <td>...</td>\n",
       "      <td>...</td>\n",
       "      <td>...</td>\n",
       "      <td>...</td>\n",
       "      <td>...</td>\n",
       "      <td>...</td>\n",
       "      <td>...</td>\n",
       "      <td>...</td>\n",
       "      <td>...</td>\n",
       "      <td>...</td>\n",
       "      <td>...</td>\n",
       "    </tr>\n",
       "    <tr>\n",
       "      <th>908</th>\n",
       "      <td>Jammu &amp; Kashmir</td>\n",
       "      <td>DTC Kishtwar</td>\n",
       "      <td>Doda</td>\n",
       "      <td>Public</td>\n",
       "      <td>PATH GAM MARWAH KISHTWAR</td>\n",
       "      <td>2024-04-04 00:00:00</td>\n",
       "      <td>35</td>\n",
       "      <td>Female</td>\n",
       "      <td>CBNAAT</td>\n",
       "      <td>New</td>\n",
       "      <td>Pulmonary</td>\n",
       "      <td>NaN</td>\n",
       "      <td>NaN</td>\n",
       "      <td>160</td>\n",
       "      <td>49</td>\n",
       "      <td>2024-09-19 00:00:00</td>\n",
       "      <td>1.0</td>\n",
       "    </tr>\n",
       "    <tr>\n",
       "      <th>909</th>\n",
       "      <td>Jammu &amp; Kashmir</td>\n",
       "      <td>PADDER</td>\n",
       "      <td>Doda</td>\n",
       "      <td>Public</td>\n",
       "      <td>LAGRI PADDER</td>\n",
       "      <td>2024-03-29 00:00:00</td>\n",
       "      <td>40</td>\n",
       "      <td>Male</td>\n",
       "      <td>Microscopy ZN and Fluorescent</td>\n",
       "      <td>New</td>\n",
       "      <td>Pulmonary</td>\n",
       "      <td>NaN</td>\n",
       "      <td>NaN</td>\n",
       "      <td>160</td>\n",
       "      <td>47</td>\n",
       "      <td>2024-09-13 00:00:00</td>\n",
       "      <td>1.0</td>\n",
       "    </tr>\n",
       "    <tr>\n",
       "      <th>910</th>\n",
       "      <td>Jammu &amp; Kashmir</td>\n",
       "      <td>Doda</td>\n",
       "      <td>Doda</td>\n",
       "      <td>Public</td>\n",
       "      <td>Panthan ward no 7</td>\n",
       "      <td>2024-04-04 00:00:00</td>\n",
       "      <td>15</td>\n",
       "      <td>Female</td>\n",
       "      <td>Trunat (MTB)</td>\n",
       "      <td>New</td>\n",
       "      <td>Pulmonary</td>\n",
       "      <td>NaN</td>\n",
       "      <td>CURED</td>\n",
       "      <td>102</td>\n",
       "      <td>33</td>\n",
       "      <td>2024-09-20 00:00:00</td>\n",
       "      <td>1.0</td>\n",
       "    </tr>\n",
       "    <tr>\n",
       "      <th>911</th>\n",
       "      <td>Jammu &amp; Kashmir</td>\n",
       "      <td>DTC Kishtwar</td>\n",
       "      <td>Doda</td>\n",
       "      <td>Public</td>\n",
       "      <td>DOOL KISHTWAR</td>\n",
       "      <td>2024-04-03 00:00:00</td>\n",
       "      <td>19</td>\n",
       "      <td>Female</td>\n",
       "      <td>Microscopy ZN and Fluorescent</td>\n",
       "      <td>New</td>\n",
       "      <td>Pulmonary</td>\n",
       "      <td>NaN</td>\n",
       "      <td>NaN</td>\n",
       "      <td>160</td>\n",
       "      <td>47</td>\n",
       "      <td>2024-09-18 00:00:00</td>\n",
       "      <td>1.0</td>\n",
       "    </tr>\n",
       "    <tr>\n",
       "      <th>912</th>\n",
       "      <td>Jammu &amp; Kashmir</td>\n",
       "      <td>UKHERAL</td>\n",
       "      <td>Doda</td>\n",
       "      <td>PRIVATE</td>\n",
       "      <td>sarbagni</td>\n",
       "      <td>2024-04-01 00:00:00</td>\n",
       "      <td>17</td>\n",
       "      <td>Male</td>\n",
       "      <td>Chest X Ray</td>\n",
       "      <td>New</td>\n",
       "      <td>Extra Pulmonary</td>\n",
       "      <td>NaN</td>\n",
       "      <td>TREATMENT_COMPLETE</td>\n",
       "      <td>144</td>\n",
       "      <td>42</td>\n",
       "      <td>2024-09-17 00:00:00</td>\n",
       "      <td>1.0</td>\n",
       "    </tr>\n",
       "  </tbody>\n",
       "</table>\n",
       "<p>913 rows × 17 columns</p>\n",
       "</div>"
      ],
      "text/plain": [
       "1              State            TU Diagnosed from which Facility  \\\n",
       "0    Jammu & Kashmir  DTC Kishtwar                         Jammu   \n",
       "1    Jammu & Kashmir  DTC Kishtwar                          Doda   \n",
       "2    Jammu & Kashmir  DTC Kishtwar                          Doda   \n",
       "3    Jammu & Kashmir  DTC Kishtwar                          Doda   \n",
       "4    Jammu & Kashmir  DTC Kishtwar                          Doda   \n",
       "..               ...           ...                           ...   \n",
       "908  Jammu & Kashmir  DTC Kishtwar                          Doda   \n",
       "909  Jammu & Kashmir        PADDER                          Doda   \n",
       "910  Jammu & Kashmir          Doda                          Doda   \n",
       "911  Jammu & Kashmir  DTC Kishtwar                          Doda   \n",
       "912  Jammu & Kashmir       UKHERAL                          Doda   \n",
       "\n",
       "1   Public/Private                   Address       Diagnosis Date Age  Gender  \\\n",
       "0           Public                  Kishtwar  2024-07-11 00:00:00  70    Male   \n",
       "1           Public            PIYAS KISHTWAR  2024-08-06 00:00:00  24    Male   \n",
       "2           Public     SHAKTI NAGAR KISHTWAR  2024-08-03 00:00:00  60  Female   \n",
       "3          PRIVATE            WARDA KISHTWAR  2024-07-10 00:00:00  19  Female   \n",
       "4           Public         PADYARNA KISHTWAR  2024-07-31 00:00:00  18  Female   \n",
       "..             ...                       ...                  ...  ..     ...   \n",
       "908         Public  PATH GAM MARWAH KISHTWAR  2024-04-04 00:00:00  35  Female   \n",
       "909         Public              LAGRI PADDER  2024-03-29 00:00:00  40    Male   \n",
       "910         Public         Panthan ward no 7  2024-04-04 00:00:00  15  Female   \n",
       "911         Public             DOOL KISHTWAR  2024-04-03 00:00:00  19  Female   \n",
       "912        PRIVATE                  sarbagni  2024-04-01 00:00:00  17    Male   \n",
       "\n",
       "1                             Type             Site       HIV Status  \\\n",
       "0                              New              NaN          Unknown   \n",
       "1                              New        Pulmonary     Non-Reactive   \n",
       "2                              New  Extra Pulmonary     Non-Reactive   \n",
       "3                              NaN        Pulmonary     Non-Reactive   \n",
       "4                              New        Pulmonary     Non-Reactive   \n",
       "..                             ...              ...              ...   \n",
       "908                         CBNAAT              New        Pulmonary   \n",
       "909  Microscopy ZN and Fluorescent              New        Pulmonary   \n",
       "910                   Trunat (MTB)              New        Pulmonary   \n",
       "911  Microscopy ZN and Fluorescent              New        Pulmonary   \n",
       "912                    Chest X Ray              New  Extra Pulmonary   \n",
       "\n",
       "1   TB Drug Regimen  Tretment Start Date Weight Diabetic Status  \\\n",
       "0               NaN                  NaN    NaN             NaN   \n",
       "1        2HRZE/4HRE  2024-08-06 00:00:00     52    Non-diabetic   \n",
       "2        2HRZE/4HRE  2024-08-03 00:00:00     58             NaN   \n",
       "3        2HRZE/4HRE  2024-07-10 00:00:00     38    Non-diabetic   \n",
       "4        2HRZE/4HRE  2024-07-31 00:00:00     32    Non-diabetic   \n",
       "..              ...                  ...    ...             ...   \n",
       "908             NaN                  NaN    160              49   \n",
       "909             NaN                  NaN    160              47   \n",
       "910             NaN                CURED    102              33   \n",
       "911             NaN                  NaN    160              47   \n",
       "912             NaN   TREATMENT_COMPLETE    144              42   \n",
       "\n",
       "1                EP Site  NaN  \n",
       "0                    NaN  NaN  \n",
       "1                    NaN  NaN  \n",
       "2             Lymph Node  NaN  \n",
       "3                    NaN  NaN  \n",
       "4                    NaN  NaN  \n",
       "..                   ...  ...  \n",
       "908  2024-09-19 00:00:00  1.0  \n",
       "909  2024-09-13 00:00:00  1.0  \n",
       "910  2024-09-20 00:00:00  1.0  \n",
       "911  2024-09-18 00:00:00  1.0  \n",
       "912  2024-09-17 00:00:00  1.0  \n",
       "\n",
       "[913 rows x 17 columns]"
      ]
     },
     "execution_count": 14,
     "metadata": {},
     "output_type": "execute_result"
    }
   ],
   "source": [
    "data"
   ]
  },
  {
   "cell_type": "code",
   "execution_count": 15,
   "id": "44a77286-42b0-44b6-ad8b-35fbfa3dd3a5",
   "metadata": {},
   "outputs": [
    {
     "name": "stdout",
     "output_type": "stream",
     "text": [
      "<class 'pandas.core.frame.DataFrame'>\n",
      "RangeIndex: 913 entries, 0 to 912\n",
      "Data columns (total 17 columns):\n",
      " #   Column                         Non-Null Count  Dtype  \n",
      "---  ------                         --------------  -----  \n",
      " 0   State                          913 non-null    object \n",
      " 1   TU                             913 non-null    object \n",
      " 2   Diagnosed from which Facility  913 non-null    object \n",
      " 3   Public/Private                 913 non-null    object \n",
      " 4   Address                        913 non-null    object \n",
      " 5   Diagnosis Date                 913 non-null    object \n",
      " 6   Age                            913 non-null    object \n",
      " 7   Gender                         913 non-null    object \n",
      " 8   Type                           909 non-null    object \n",
      " 9   Site                           828 non-null    object \n",
      " 10  HIV Status                     876 non-null    object \n",
      " 11  TB Drug Regimen                44 non-null     object \n",
      " 12  Tretment Start Date            456 non-null    object \n",
      " 13  Weight                         878 non-null    object \n",
      " 14  Diabetic Status                878 non-null    object \n",
      " 15  EP Site                        888 non-null    object \n",
      " 16  nan                            868 non-null    float64\n",
      "dtypes: float64(1), object(16)\n",
      "memory usage: 121.4+ KB\n"
     ]
    }
   ],
   "source": [
    "data.info()"
   ]
  },
  {
   "cell_type": "code",
   "execution_count": 16,
   "id": "92354cb4-06cb-46e5-aabe-80f897bcea4b",
   "metadata": {},
   "outputs": [
    {
     "data": {
      "text/plain": [
       "array(['DTC Kishtwar', 'PADDER', 'UKHERAL', 'Doda', 'BHADERWAH', 'Ramban',\n",
       "       'GOOL', 'GANDOH', 'THATHRI', 'CHATROO', 'BATOTE', 'ASSAR'],\n",
       "      dtype=object)"
      ]
     },
     "execution_count": 16,
     "metadata": {},
     "output_type": "execute_result"
    }
   ],
   "source": [
    "data['TU'].unique()"
   ]
  },
  {
   "cell_type": "markdown",
   "id": "44b8c3c6-b13f-4f87-a160-ee49b7f5f21c",
   "metadata": {},
   "source": [
    "##### 1.2 Regional focus\n",
    "> While the dataset includes information from various units across the state, this analysis will focus specifically on the Kishtwar, Padar,and Ramban regions."
   ]
  },
  {
   "cell_type": "code",
   "execution_count": 17,
   "id": "89096381-8ab2-4fc5-965d-0da38d4e2890",
   "metadata": {},
   "outputs": [],
   "source": [
    "data = data[data['TU'].isin(['DTC Kishtwar', 'PADDER','Ramban'])]"
   ]
  },
  {
   "cell_type": "code",
   "execution_count": 18,
   "id": "c085b40f-20e8-4f18-bfe1-419258790464",
   "metadata": {},
   "outputs": [
    {
     "name": "stdout",
     "output_type": "stream",
     "text": [
      "<class 'pandas.core.frame.DataFrame'>\n",
      "Index: 366 entries, 0 to 911\n",
      "Data columns (total 17 columns):\n",
      " #   Column                         Non-Null Count  Dtype  \n",
      "---  ------                         --------------  -----  \n",
      " 0   State                          366 non-null    object \n",
      " 1   TU                             366 non-null    object \n",
      " 2   Diagnosed from which Facility  366 non-null    object \n",
      " 3   Public/Private                 366 non-null    object \n",
      " 4   Address                        366 non-null    object \n",
      " 5   Diagnosis Date                 366 non-null    object \n",
      " 6   Age                            366 non-null    object \n",
      " 7   Gender                         366 non-null    object \n",
      " 8   Type                           362 non-null    object \n",
      " 9   Site                           331 non-null    object \n",
      " 10  HIV Status                     349 non-null    object \n",
      " 11  TB Drug Regimen                44 non-null     object \n",
      " 12  Tretment Start Date            163 non-null    object \n",
      " 13  Weight                         348 non-null    object \n",
      " 14  Diabetic Status                348 non-null    object \n",
      " 15  EP Site                        341 non-null    object \n",
      " 16  nan                            321 non-null    float64\n",
      "dtypes: float64(1), object(16)\n",
      "memory usage: 51.5+ KB\n"
     ]
    }
   ],
   "source": [
    "data.info()"
   ]
  },
  {
   "cell_type": "code",
   "execution_count": 19,
   "id": "eb86d6e3-438a-4f35-94de-e320f4782054",
   "metadata": {},
   "outputs": [
    {
     "data": {
      "text/plain": [
       "(366, 17)"
      ]
     },
     "execution_count": 19,
     "metadata": {},
     "output_type": "execute_result"
    }
   ],
   "source": [
    "data.shape"
   ]
  },
  {
   "cell_type": "code",
   "execution_count": 20,
   "id": "8f947993-e3e9-4e8c-9e98-da7e1f7aec80",
   "metadata": {},
   "outputs": [],
   "source": [
    "# Renaming the nan columns as it is not accessible otherwise "
   ]
  },
  {
   "cell_type": "code",
   "execution_count": 21,
   "id": "bc0db5be-649f-4f2c-a10c-bccd0adc5ead",
   "metadata": {
    "scrolled": true
   },
   "outputs": [
    {
     "name": "stderr",
     "output_type": "stream",
     "text": [
      "C:\\Users\\jozyf\\AppData\\Local\\Temp\\ipykernel_19652\\1089802500.py:1: SettingWithCopyWarning: \n",
      "A value is trying to be set on a copy of a slice from a DataFrame\n",
      "\n",
      "See the caveats in the documentation: https://pandas.pydata.org/pandas-docs/stable/user_guide/indexing.html#returning-a-view-versus-a-copy\n",
      "  data.rename(columns={data.columns[-1]: 'col_x'}, inplace=True)\n"
     ]
    }
   ],
   "source": [
    "data.rename(columns={data.columns[-1]: 'col_x'}, inplace=True)"
   ]
  },
  {
   "cell_type": "markdown",
   "id": "293437c0-bc0b-4e9a-ae80-5ef48c87eb46",
   "metadata": {},
   "source": [
    "##### 1.3 Handling missing values of categorical column. "
   ]
  },
  {
   "cell_type": "code",
   "execution_count": 22,
   "id": "d57644d3-f577-4984-993c-df457e84e8f1",
   "metadata": {},
   "outputs": [
    {
     "data": {
      "text/plain": [
       "1\n",
       "State                              0\n",
       "TU                                 0\n",
       "Diagnosed from which Facility      0\n",
       "Public/Private                     0\n",
       "Address                            0\n",
       "Diagnosis Date                     0\n",
       "Age                                0\n",
       "Gender                             0\n",
       "Type                               4\n",
       "Site                              35\n",
       "HIV Status                        17\n",
       "TB Drug Regimen                  322\n",
       "Tretment Start Date              203\n",
       "Weight                            18\n",
       "Diabetic Status                   18\n",
       "EP Site                           25\n",
       "col_x                             45\n",
       "dtype: int64"
      ]
     },
     "execution_count": 22,
     "metadata": {},
     "output_type": "execute_result"
    }
   ],
   "source": [
    "data.isna().sum()"
   ]
  },
  {
   "cell_type": "code",
   "execution_count": 23,
   "id": "9aeb4f55-4351-46f0-9a6d-ec1887d47cba",
   "metadata": {},
   "outputs": [],
   "source": [
    "data = data[data['Type'].notna()]"
   ]
  },
  {
   "cell_type": "code",
   "execution_count": 24,
   "id": "add8504f-9e63-4a87-938a-879befd0eb11",
   "metadata": {
    "scrolled": true
   },
   "outputs": [
    {
     "data": {
      "text/plain": [
       "4.696132596685083"
      ]
     },
     "execution_count": 24,
     "metadata": {},
     "output_type": "execute_result"
    }
   ],
   "source": [
    "100* data['HIV Status'].isna().sum()/len(data)"
   ]
  },
  {
   "cell_type": "markdown",
   "id": "95cbf8fa-5211-4ac2-996b-750515638f83",
   "metadata": {},
   "source": [
    "##### 1.4 Missing value imputation \n",
    "> The HIV Status column has a relatively low percentage of missing values (4.69% of the total data). Therefore, it is reasonable to impute these missing entries with a placeholder value such as \"Missing data\" for consistency."
   ]
  },
  {
   "cell_type": "code",
   "execution_count": 25,
   "id": "35080fa7-0bd6-4530-89cf-96ae45714898",
   "metadata": {},
   "outputs": [],
   "source": [
    "data['HIV Status'] = data['HIV Status'].fillna('missing data')"
   ]
  },
  {
   "cell_type": "code",
   "execution_count": 26,
   "id": "93aa0dfa-0e5b-438c-893b-a534b5814bae",
   "metadata": {},
   "outputs": [
    {
     "data": {
      "text/plain": [
       "TB Drug Regimen\n",
       "2HRZE/4HRE    40\n",
       "Name: count, dtype: int64"
      ]
     },
     "execution_count": 26,
     "metadata": {},
     "output_type": "execute_result"
    }
   ],
   "source": [
    "data['TB Drug Regimen'].value_counts()"
   ]
  },
  {
   "cell_type": "code",
   "execution_count": 27,
   "id": "70473e78-9573-4bd7-a03a-05288dab98f8",
   "metadata": {},
   "outputs": [
    {
     "data": {
      "text/plain": [
       "State\n",
       "Jammu & Kashmir    362\n",
       "Name: count, dtype: int64"
      ]
     },
     "execution_count": 27,
     "metadata": {},
     "output_type": "execute_result"
    }
   ],
   "source": [
    "data['State'].value_counts()"
   ]
  },
  {
   "cell_type": "code",
   "execution_count": 28,
   "id": "042e1e8c-38c2-4bee-9f32-1985452e0022",
   "metadata": {
    "scrolled": true
   },
   "outputs": [],
   "source": [
    "# dropping state column as it has no significant information \n",
    "data.drop(columns = 'State', inplace = True)"
   ]
  },
  {
   "cell_type": "markdown",
   "id": "319dbc68-5496-4b41-8797-cc3db29f90c3",
   "metadata": {},
   "source": [
    "#### 1.5 Data conversion to lower case\n",
    "> To ensure consistency and avoid duplication due to case sensitivity, converting all data to lowercase."
   ]
  },
  {
   "cell_type": "code",
   "execution_count": 29,
   "id": "0781e934-d1d7-4bba-ab6b-5cf122616d30",
   "metadata": {},
   "outputs": [
    {
     "data": {
      "text/plain": [
       "Index(['TU', 'Diagnosed from which Facility', 'Public/Private', 'Address',\n",
       "       'Diagnosis Date', 'Age', 'Gender', 'Type', 'Site', 'HIV Status',\n",
       "       'TB Drug Regimen', 'Tretment Start Date', 'Weight', 'Diabetic Status',\n",
       "       'EP Site', 'col_x'],\n",
       "      dtype='object', name=1)"
      ]
     },
     "execution_count": 29,
     "metadata": {},
     "output_type": "execute_result"
    }
   ],
   "source": [
    "data.columns"
   ]
  },
  {
   "cell_type": "code",
   "execution_count": 30,
   "id": "655fa55a-1381-4bcd-85ab-48004a63e4f3",
   "metadata": {},
   "outputs": [],
   "source": [
    "temp_col = ['TU', 'Diagnosed from which Facility', 'Public/Private', 'Address',\n",
    "            'Gender', 'Type', 'Site', 'HIV Status']\n",
    "for col in temp_col:\n",
    "    data[col] = data[col].astype(str).str.lower()"
   ]
  },
  {
   "cell_type": "code",
   "execution_count": 31,
   "id": "60d4f485-0c2f-4ed9-be6f-f5a8ad56162f",
   "metadata": {},
   "outputs": [
    {
     "name": "stdout",
     "output_type": "stream",
     "text": [
      "TU\n",
      "dtc kishtwar    182\n",
      "ramban          153\n",
      "padder           27\n",
      "Name: count, dtype: int64\n",
      "**************************************************\n",
      "Diagnosed from which Facility\n",
      "doda          233\n",
      "jammu          82\n",
      "anantnag       20\n",
      "srinagar       15\n",
      "udhampur        5\n",
      "chandigarh      4\n",
      "baramulla       2\n",
      "kathua          1\n",
      "Name: count, dtype: int64\n",
      "**************************************************\n",
      "Public/Private\n",
      "public     301\n",
      "private     61\n",
      "Name: count, dtype: int64\n",
      "**************************************************\n",
      "Address\n",
      "kishtwar                                                        9\n",
      "ramban                                                          8\n",
      "dool kishtwar                                                   8\n",
      "kanga                                                           5\n",
      "ganote                                                          3\n",
      "                                                               ..\n",
      "ramban panchayat balhota                                        1\n",
      "gwarian sigdi kishtwar                                          1\n",
      "banderna kishtwar                                               1\n",
      "hora tattani saroor kukerwas dist kishtwar thesil drabshalla    1\n",
      "lagri padder                                                    1\n",
      "Name: count, Length: 309, dtype: int64\n",
      "**************************************************\n",
      "Gender\n",
      "male      223\n",
      "female    139\n",
      "Name: count, dtype: int64\n",
      "**************************************************\n",
      "Type\n",
      "other                            89\n",
      "trunat (mtb-rif)                 86\n",
      "chest x ray                      47\n",
      "microscopy zn and fluorescent    46\n",
      "new                              32\n",
      "cbnaat                           18\n",
      "cytopathology                    17\n",
      "trunat (mtb)                     13\n",
      "retreatment: recurrent            9\n",
      "histopathology                    3\n",
      "f line lpa                        2\n",
      "Name: count, dtype: int64\n",
      "**************************************************\n",
      "Site\n",
      "new                       263\n",
      "nan                        35\n",
      "pulmonary                  22\n",
      "extra pulmonary            18\n",
      "retreatment: recurrent     14\n",
      "retreatment: others        10\n",
      "Name: count, dtype: int64\n",
      "**************************************************\n",
      "HIV Status\n",
      "pulmonary          193\n",
      "extra pulmonary    111\n",
      "non-reactive        39\n",
      "missing data        17\n",
      "unknown              2\n",
      "Name: count, dtype: int64\n",
      "**************************************************\n"
     ]
    }
   ],
   "source": [
    "for i in temp_col:\n",
    "    print(data[i].value_counts())\n",
    "    print('*'*50)"
   ]
  },
  {
   "cell_type": "markdown",
   "id": "3df4fcc6-0e18-436f-ac6f-ab2a7236f271",
   "metadata": {},
   "source": [
    "#### 1.6 Converting the 'Diagnosis Date' to datetime data type."
   ]
  },
  {
   "cell_type": "code",
   "execution_count": 32,
   "id": "3572df3c-d8a3-43a2-aba7-f99548155ad8",
   "metadata": {},
   "outputs": [
    {
     "data": {
      "text/plain": [
       "array([datetime.datetime(2024, 7, 11, 0, 0),\n",
       "       datetime.datetime(2024, 8, 6, 0, 0),\n",
       "       datetime.datetime(2024, 8, 3, 0, 0),\n",
       "       datetime.datetime(2024, 7, 31, 0, 0),\n",
       "       datetime.datetime(2024, 7, 15, 0, 0),\n",
       "       datetime.datetime(2024, 8, 28, 0, 0),\n",
       "       datetime.datetime(2024, 7, 2, 0, 0),\n",
       "       datetime.datetime(2024, 8, 19, 0, 0),\n",
       "       datetime.datetime(2024, 8, 10, 0, 0),\n",
       "       datetime.datetime(2024, 8, 27, 0, 0),\n",
       "       datetime.datetime(2024, 8, 1, 0, 0),\n",
       "       datetime.datetime(2024, 7, 12, 0, 0),\n",
       "       datetime.datetime(2024, 7, 19, 0, 0),\n",
       "       datetime.datetime(2024, 7, 8, 0, 0),\n",
       "       datetime.datetime(2024, 7, 10, 0, 0),\n",
       "       datetime.datetime(2024, 7, 16, 0, 0),\n",
       "       datetime.datetime(2024, 7, 28, 0, 0),\n",
       "       datetime.datetime(2024, 8, 5, 0, 0),\n",
       "       datetime.datetime(2024, 8, 21, 0, 0),\n",
       "       datetime.datetime(2024, 8, 24, 0, 0),\n",
       "       datetime.datetime(2024, 7, 17, 0, 0),\n",
       "       datetime.datetime(2024, 8, 7, 0, 0),\n",
       "       datetime.datetime(2024, 7, 22, 0, 0),\n",
       "       datetime.datetime(2024, 7, 18, 0, 0),\n",
       "       datetime.datetime(2024, 7, 6, 0, 0),\n",
       "       datetime.datetime(2024, 1, 1, 0, 0),\n",
       "       datetime.datetime(2023, 12, 18, 0, 0),\n",
       "       datetime.datetime(2024, 1, 8, 0, 0),\n",
       "       datetime.datetime(2024, 1, 11, 0, 0),\n",
       "       datetime.datetime(2024, 1, 17, 0, 0),\n",
       "       datetime.datetime(2024, 1, 12, 0, 0),\n",
       "       datetime.datetime(2024, 1, 20, 0, 0),\n",
       "       datetime.datetime(2024, 1, 23, 0, 0),\n",
       "       datetime.datetime(2023, 12, 5, 0, 0),\n",
       "       datetime.datetime(2024, 1, 16, 0, 0),\n",
       "       datetime.datetime(2024, 1, 25, 0, 0),\n",
       "       datetime.datetime(2024, 1, 28, 0, 0),\n",
       "       datetime.datetime(2024, 1, 29, 0, 0),\n",
       "       datetime.datetime(2024, 3, 11, 0, 0),\n",
       "       datetime.datetime(2024, 1, 31, 0, 0),\n",
       "       datetime.datetime(2024, 1, 19, 0, 0),\n",
       "       datetime.datetime(2024, 2, 5, 0, 0),\n",
       "       datetime.datetime(2024, 2, 9, 0, 0),\n",
       "       datetime.datetime(2024, 2, 10, 0, 0),\n",
       "       datetime.datetime(2024, 2, 12, 0, 0),\n",
       "       datetime.datetime(2024, 2, 13, 0, 0),\n",
       "       datetime.datetime(2024, 2, 16, 0, 0),\n",
       "       datetime.datetime(2024, 2, 19, 0, 0),\n",
       "       datetime.datetime(2024, 2, 23, 0, 0),\n",
       "       datetime.datetime(2024, 2, 22, 0, 0),\n",
       "       datetime.datetime(2024, 2, 21, 0, 0),\n",
       "       datetime.datetime(2024, 3, 9, 0, 0),\n",
       "       datetime.datetime(2024, 2, 29, 0, 0),\n",
       "       datetime.datetime(2024, 2, 8, 0, 0),\n",
       "       datetime.datetime(2024, 2, 3, 0, 0),\n",
       "       datetime.datetime(2024, 2, 27, 0, 0),\n",
       "       datetime.datetime(2024, 2, 26, 0, 0),\n",
       "       datetime.datetime(2024, 3, 2, 0, 0),\n",
       "       datetime.datetime(2024, 2, 2, 0, 0),\n",
       "       datetime.datetime(2024, 3, 1, 0, 0),\n",
       "       datetime.datetime(2024, 3, 6, 0, 0),\n",
       "       datetime.datetime(2024, 3, 7, 0, 0),\n",
       "       datetime.datetime(2024, 3, 13, 0, 0),\n",
       "       datetime.datetime(2024, 3, 8, 0, 0),\n",
       "       datetime.datetime(2024, 3, 16, 0, 0),\n",
       "       datetime.datetime(2024, 3, 14, 0, 0),\n",
       "       datetime.datetime(2024, 3, 19, 0, 0),\n",
       "       datetime.datetime(2024, 4, 7, 0, 0),\n",
       "       datetime.datetime(2024, 3, 26, 0, 0),\n",
       "       datetime.datetime(2024, 3, 27, 0, 0),\n",
       "       datetime.datetime(2024, 3, 12, 0, 0),\n",
       "       datetime.datetime(2023, 12, 30, 0, 0),\n",
       "       datetime.datetime(2024, 3, 4, 0, 0),\n",
       "       datetime.datetime(2024, 3, 3, 0, 0),\n",
       "       datetime.datetime(2024, 2, 28, 0, 0),\n",
       "       datetime.datetime(2024, 2, 20, 0, 0),\n",
       "       datetime.datetime(2024, 2, 6, 0, 0),\n",
       "       datetime.datetime(2024, 5, 8, 0, 0),\n",
       "       datetime.datetime(2024, 1, 6, 0, 0),\n",
       "       datetime.datetime(2024, 1, 18, 0, 0),\n",
       "       datetime.datetime(2024, 1, 27, 0, 0),\n",
       "       datetime.datetime(2024, 1, 24, 0, 0),\n",
       "       datetime.datetime(2024, 5, 12, 0, 0),\n",
       "       datetime.datetime(2024, 1, 15, 0, 0),\n",
       "       datetime.datetime(2024, 1, 10, 0, 0),\n",
       "       datetime.datetime(2024, 1, 9, 0, 0),\n",
       "       datetime.datetime(2024, 1, 5, 0, 0),\n",
       "       datetime.datetime(2023, 12, 14, 0, 0),\n",
       "       datetime.datetime(2024, 1, 4, 0, 0),\n",
       "       datetime.datetime(2024, 5, 22, 0, 0),\n",
       "       datetime.datetime(2024, 1, 3, 0, 0),\n",
       "       datetime.datetime(2024, 3, 29, 0, 0),\n",
       "       datetime.datetime(2024, 3, 23, 0, 0),\n",
       "       datetime.datetime(2024, 3, 21, 0, 0),\n",
       "       datetime.datetime(2024, 3, 22, 0, 0),\n",
       "       datetime.datetime(2024, 3, 28, 0, 0),\n",
       "       datetime.datetime(2024, 4, 12, 0, 0),\n",
       "       datetime.datetime(2024, 3, 15, 0, 0),\n",
       "       datetime.datetime(2024, 3, 18, 0, 0),\n",
       "       datetime.datetime(2024, 5, 18, 0, 0),\n",
       "       datetime.datetime(2024, 3, 5, 0, 0),\n",
       "       datetime.datetime(2024, 3, 30, 0, 0),\n",
       "       datetime.datetime(2024, 4, 3, 0, 0),\n",
       "       datetime.datetime(2024, 4, 4, 0, 0),\n",
       "       datetime.datetime(2024, 4, 2, 0, 0),\n",
       "       datetime.datetime(2024, 5, 25, 0, 0),\n",
       "       datetime.datetime(2024, 4, 6, 0, 0),\n",
       "       datetime.datetime(2024, 4, 8, 0, 0),\n",
       "       datetime.datetime(2024, 4, 16, 0, 0),\n",
       "       datetime.datetime(2024, 4, 20, 0, 0),\n",
       "       datetime.datetime(2024, 4, 22, 0, 0),\n",
       "       datetime.datetime(2024, 4, 23, 0, 0),\n",
       "       datetime.datetime(2024, 4, 19, 0, 0),\n",
       "       datetime.datetime(2024, 4, 25, 0, 0),\n",
       "       datetime.datetime(2024, 4, 27, 0, 0),\n",
       "       datetime.datetime(2024, 6, 12, 0, 0),\n",
       "       datetime.datetime(2024, 4, 30, 0, 0),\n",
       "       datetime.datetime(2024, 4, 29, 0, 0),\n",
       "       datetime.datetime(2024, 4, 24, 0, 0),\n",
       "       datetime.datetime(2024, 5, 1, 0, 0),\n",
       "       datetime.datetime(2024, 5, 4, 0, 0),\n",
       "       datetime.datetime(2024, 5, 3, 0, 0),\n",
       "       datetime.datetime(2024, 5, 2, 0, 0),\n",
       "       datetime.datetime(2024, 5, 6, 0, 0),\n",
       "       datetime.datetime(2024, 5, 7, 0, 0),\n",
       "       datetime.datetime(2024, 5, 9, 0, 0),\n",
       "       datetime.datetime(2024, 5, 11, 0, 0),\n",
       "       datetime.datetime(2024, 5, 15, 0, 0),\n",
       "       datetime.datetime(2024, 5, 14, 0, 0),\n",
       "       datetime.datetime(2024, 6, 1, 0, 0),\n",
       "       datetime.datetime(2024, 5, 27, 0, 0),\n",
       "       datetime.datetime(2024, 5, 23, 0, 0),\n",
       "       datetime.datetime(2024, 6, 7, 0, 0),\n",
       "       datetime.datetime(2024, 6, 10, 0, 0),\n",
       "       datetime.datetime(2024, 6, 8, 0, 0),\n",
       "       datetime.datetime(2024, 6, 11, 0, 0),\n",
       "       datetime.datetime(2024, 6, 14, 0, 0),\n",
       "       datetime.datetime(2024, 6, 6, 0, 0),\n",
       "       datetime.datetime(2024, 6, 21, 0, 0),\n",
       "       datetime.datetime(2024, 6, 24, 0, 0),\n",
       "       datetime.datetime(2024, 5, 30, 0, 0),\n",
       "       datetime.datetime(2024, 6, 25, 0, 0),\n",
       "       datetime.datetime(2024, 7, 4, 0, 0),\n",
       "       datetime.datetime(2024, 6, 27, 0, 0),\n",
       "       datetime.datetime(2024, 6, 26, 0, 0),\n",
       "       datetime.datetime(2024, 6, 28, 0, 0),\n",
       "       datetime.datetime(2024, 6, 5, 0, 0),\n",
       "       datetime.datetime(2024, 5, 16, 0, 0),\n",
       "       datetime.datetime(2024, 5, 29, 0, 0),\n",
       "       datetime.datetime(2024, 6, 3, 0, 0),\n",
       "       datetime.datetime(2024, 6, 4, 0, 0),\n",
       "       datetime.datetime(2024, 5, 20, 0, 0),\n",
       "       datetime.datetime(2024, 5, 28, 0, 0),\n",
       "       datetime.datetime(2024, 5, 31, 0, 0),\n",
       "       datetime.datetime(2024, 5, 21, 0, 0),\n",
       "       datetime.datetime(2024, 5, 10, 0, 0),\n",
       "       datetime.datetime(2024, 4, 26, 0, 0),\n",
       "       datetime.datetime(2024, 4, 18, 0, 0),\n",
       "       datetime.datetime(2024, 4, 11, 0, 0),\n",
       "       datetime.datetime(2024, 4, 9, 0, 0),\n",
       "       datetime.datetime(2024, 3, 20, 0, 0)], dtype=object)"
      ]
     },
     "execution_count": 32,
     "metadata": {},
     "output_type": "execute_result"
    }
   ],
   "source": [
    "data['Diagnosis Date'].unique()"
   ]
  },
  {
   "cell_type": "code",
   "execution_count": 33,
   "id": "ec3c35fe-fb49-480c-8521-a3edb3e1cd61",
   "metadata": {},
   "outputs": [],
   "source": [
    "data['Diagnosis Date'] = pd.to_datetime(data['Diagnosis Date'], errors='coerce')"
   ]
  },
  {
   "cell_type": "code",
   "execution_count": 34,
   "id": "3bfa8a65-652d-4e83-b871-8b2902ca1f01",
   "metadata": {},
   "outputs": [
    {
     "data": {
      "text/plain": [
       "0     2024-07-11\n",
       "1     2024-08-06\n",
       "2     2024-08-03\n",
       "4     2024-07-31\n",
       "5     2024-07-11\n",
       "         ...    \n",
       "906   2024-03-20\n",
       "907   2024-03-29\n",
       "908   2024-04-04\n",
       "909   2024-03-29\n",
       "911   2024-04-03\n",
       "Name: Diagnosis Date, Length: 362, dtype: datetime64[ns]"
      ]
     },
     "execution_count": 34,
     "metadata": {},
     "output_type": "execute_result"
    }
   ],
   "source": [
    "data['Diagnosis Date']"
   ]
  },
  {
   "cell_type": "code",
   "execution_count": 35,
   "id": "6aa8b25a-56e6-4a6e-ba2c-7dee27262cb5",
   "metadata": {},
   "outputs": [
    {
     "data": {
      "text/plain": [
       "array([nan, datetime.datetime(2024, 8, 6, 0, 0),\n",
       "       datetime.datetime(2024, 8, 3, 0, 0),\n",
       "       datetime.datetime(2024, 7, 31, 0, 0),\n",
       "       datetime.datetime(2024, 7, 29, 0, 0),\n",
       "       datetime.datetime(2024, 7, 15, 0, 0),\n",
       "       datetime.datetime(2024, 8, 28, 0, 0),\n",
       "       datetime.datetime(2024, 7, 2, 0, 0),\n",
       "       datetime.datetime(2024, 8, 19, 0, 0),\n",
       "       datetime.datetime(2024, 8, 10, 0, 0),\n",
       "       datetime.datetime(2024, 8, 27, 0, 0),\n",
       "       datetime.datetime(2024, 8, 1, 0, 0),\n",
       "       datetime.datetime(2024, 7, 12, 0, 0),\n",
       "       datetime.datetime(2024, 8, 7, 0, 0),\n",
       "       datetime.datetime(2024, 7, 19, 0, 0),\n",
       "       datetime.datetime(2024, 7, 8, 0, 0),\n",
       "       datetime.datetime(2024, 7, 20, 0, 0),\n",
       "       datetime.datetime(2024, 7, 10, 0, 0),\n",
       "       datetime.datetime(2024, 7, 16, 0, 0),\n",
       "       datetime.datetime(2024, 7, 11, 0, 0),\n",
       "       datetime.datetime(2024, 8, 5, 0, 0),\n",
       "       datetime.datetime(2024, 8, 21, 0, 0),\n",
       "       datetime.datetime(2024, 8, 24, 0, 0),\n",
       "       datetime.datetime(2024, 7, 18, 0, 0),\n",
       "       datetime.datetime(2024, 7, 22, 0, 0),\n",
       "       datetime.datetime(2024, 7, 6, 0, 0), 'TREATMENT_COMPLETE', 'CURED',\n",
       "       'DIED', 'NOT_EVALUATED', 'WRONGLY_DIAGNOSED', 'LOST_TO_FOLLOW_UP',\n",
       "       'UNTRACEABLE_INCORRECT_ADDRESS', 'TREATMENT_REGIMEN_CHANGED'],\n",
       "      dtype=object)"
      ]
     },
     "execution_count": 35,
     "metadata": {},
     "output_type": "execute_result"
    }
   ],
   "source": [
    "data['Tretment Start Date'].unique()"
   ]
  },
  {
   "cell_type": "markdown",
   "id": "ef279c36-fe4b-4513-bfff-7135b1c69a94",
   "metadata": {},
   "source": [
    "#### 1.7 Feature Extraction from 'Treatment Start Date' \n",
    "> The 'Tretment Start Date' column contains mixed data types, both datetime entries and textual values, where the datetime values indicate the start of treatment. Thus creating a new column 'Treatment Status' where datetime will be replaced with label \"started\", while all other text values will be retained as-is."
   ]
  },
  {
   "cell_type": "code",
   "execution_count": 36,
   "id": "66272834-53f1-407b-9563-704d27f0176c",
   "metadata": {},
   "outputs": [],
   "source": [
    "def status(cell):\n",
    "    outcome = ['TREATMENT_COMPLETE', 'CURED','DIED', 'NOT_EVALUATED', 'WRONGLY_DIAGNOSED', 'LOST_TO_FOLLOW_UP', 'UNTRACEABLE_INCORRECT_ADDRESS', 'TREATMENT_REGIMEN_CHANGED']\n",
    "    if cell in outcome:\n",
    "        return cell\n",
    "    elif pd.isna(cell):\n",
    "        return 'missing data'\n",
    "    else:\n",
    "        return 'started'"
   ]
  },
  {
   "cell_type": "code",
   "execution_count": 37,
   "id": "9c939336-bf99-47c8-8414-fefd5ef86bfb",
   "metadata": {},
   "outputs": [],
   "source": [
    "data['Tretment Status'] = data['Tretment Start Date'].apply(status)"
   ]
  },
  {
   "cell_type": "markdown",
   "id": "5471a6b8-9cb2-48b2-be0a-675d7afe08b8",
   "metadata": {},
   "source": [
    "#### 1.8 \n",
    "> Replacing the values in the column that indicate patient discharge with 0, in order to retain only the datetime entries for further analysis."
   ]
  },
  {
   "cell_type": "code",
   "execution_count": 38,
   "id": "685b6653-16ba-41bd-933d-2ba4a560d8e3",
   "metadata": {},
   "outputs": [],
   "source": [
    "data['Tretment Start Date'] = data['Tretment Start Date'].apply(lambda x: 0 if x in ['TREATMENT_COMPLETE', 'CURED',\n",
    "       'DIED', 'NOT_EVALUATED', 'WRONGLY_DIAGNOSED', 'LOST_TO_FOLLOW_UP',\n",
    "       'UNTRACEABLE_INCORRECT_ADDRESS', 'TREATMENT_REGIMEN_CHANGED'] else x)"
   ]
  },
  {
   "cell_type": "code",
   "execution_count": 39,
   "id": "5533404e-784e-4187-9bab-42f39f503e97",
   "metadata": {},
   "outputs": [],
   "source": [
    "data['Tretment Start Date'] = pd.to_datetime(data['Tretment Start Date'], errors = 'coerce')"
   ]
  },
  {
   "cell_type": "code",
   "execution_count": 40,
   "id": "a75c38f0-9bcd-47ce-a1c8-dc919b2152bf",
   "metadata": {},
   "outputs": [
    {
     "data": {
      "text/plain": [
       "0            NaT\n",
       "1     2024-08-06\n",
       "2     2024-08-03\n",
       "4     2024-07-31\n",
       "5     2024-07-29\n",
       "         ...    \n",
       "906   1970-01-01\n",
       "907          NaT\n",
       "908          NaT\n",
       "909          NaT\n",
       "911          NaT\n",
       "Name: Tretment Start Date, Length: 362, dtype: datetime64[ns]"
      ]
     },
     "execution_count": 40,
     "metadata": {},
     "output_type": "execute_result"
    }
   ],
   "source": [
    "data['Tretment Start Date']"
   ]
  },
  {
   "cell_type": "code",
   "execution_count": 41,
   "id": "e025410f-a8f8-401b-81ce-e6906ecff299",
   "metadata": {},
   "outputs": [
    {
     "data": {
      "text/plain": [
       "Tretment Status\n",
       "missing data                     203\n",
       "CURED                             54\n",
       "TREATMENT_COMPLETE                43\n",
       "started                           40\n",
       "DIED                               6\n",
       "NOT_EVALUATED                      6\n",
       "WRONGLY_DIAGNOSED                  6\n",
       "TREATMENT_REGIMEN_CHANGED          2\n",
       "LOST_TO_FOLLOW_UP                  1\n",
       "UNTRACEABLE_INCORRECT_ADDRESS      1\n",
       "Name: count, dtype: int64"
      ]
     },
     "execution_count": 41,
     "metadata": {},
     "output_type": "execute_result"
    }
   ],
   "source": [
    "data['Tretment Status'].value_counts()"
   ]
  },
  {
   "cell_type": "markdown",
   "id": "39587e18-bd74-40e2-821e-0c9e34f89f3d",
   "metadata": {},
   "source": [
    "#### 1.9 Converting 'Weight' columns containing numeric values stored as strings, to integer data types."
   ]
  },
  {
   "cell_type": "code",
   "execution_count": 42,
   "id": "278cffcc-899d-41a5-85bd-2932ebfcf7b3",
   "metadata": {},
   "outputs": [
    {
     "data": {
      "text/plain": [
       "array([nan, 52, 58, 32, 43, 60, 42, 47, 53, 49, 61, 40, 35, 44, 21, 36,\n",
       "       97, 50, 64, 48, 54, 66, 46, 39, 33, 63, 24, 5, 169, 165, 156, 170,\n",
       "       178, 162, 160, 152, 153, 158, 90, 172, 159, 145, 155, 142, 157,\n",
       "       182, 88, 130, 166, 175, 180, 163, 168, 136, 167, 151, 148, 164,\n",
       "       179, 176, 181, 96, 89, 185, 188, 184, 187, 150, 108, 149, 120, 82,\n",
       "       123, 138, 144, 98, 70, 122, 183], dtype=object)"
      ]
     },
     "execution_count": 42,
     "metadata": {},
     "output_type": "execute_result"
    }
   ],
   "source": [
    "data['Weight'].unique()"
   ]
  },
  {
   "cell_type": "code",
   "execution_count": 43,
   "id": "391c26c7-62f9-42f0-82f9-b857388a5773",
   "metadata": {},
   "outputs": [],
   "source": [
    "data['Weight'] = data['Weight'].astype(float)"
   ]
  },
  {
   "cell_type": "code",
   "execution_count": 44,
   "id": "eace6af5-5233-4d3a-9948-d219835ccea3",
   "metadata": {},
   "outputs": [
    {
     "data": {
      "text/plain": [
       "18"
      ]
     },
     "execution_count": 44,
     "metadata": {},
     "output_type": "execute_result"
    }
   ],
   "source": [
    "data['Weight'].isna().sum()"
   ]
  },
  {
   "cell_type": "code",
   "execution_count": 45,
   "id": "4cdc50ee-b2c3-4e65-a965-15b67b6e0ab7",
   "metadata": {},
   "outputs": [
    {
     "data": {
      "text/plain": [
       "4.972375690607735"
      ]
     },
     "execution_count": 45,
     "metadata": {},
     "output_type": "execute_result"
    }
   ],
   "source": [
    "100 * data['Weight'].isna().sum()/len(data)"
   ]
  },
  {
   "cell_type": "markdown",
   "id": "20a5d739-7306-4059-8b82-5beaeb8aebf5",
   "metadata": {},
   "source": [
    "#### 1.10 \n",
    "> Convertion of the 'Weight' column introduced some null values (4.97 % of the total data), so it is safe to replace it with mean of that column."
   ]
  },
  {
   "cell_type": "code",
   "execution_count": 46,
   "id": "ee8bb366-9763-4a11-b24e-4f0716864d6c",
   "metadata": {},
   "outputs": [],
   "source": [
    "data['Weight'] = data['Weight'].fillna(round(data['Weight'].mean(),2))"
   ]
  },
  {
   "cell_type": "code",
   "execution_count": 47,
   "id": "9ef0e035-f18f-49d5-9328-c551fd889c84",
   "metadata": {
    "scrolled": true
   },
   "outputs": [
    {
     "data": {
      "text/plain": [
       "Diabetic Status\n",
       "Non-diabetic    38\n",
       "45              28\n",
       "52              20\n",
       "NaN             18\n",
       "50              18\n",
       "55              18\n",
       "48              15\n",
       "60              15\n",
       "49              14\n",
       "42              14\n",
       "64              14\n",
       "40              13\n",
       "47              10\n",
       "54               9\n",
       "43               7\n",
       "58               6\n",
       "59               6\n",
       "44               6\n",
       "51               6\n",
       "62               6\n",
       "46               6\n",
       "35               5\n",
       "67               4\n",
       "57               4\n",
       "29               3\n",
       "56               3\n",
       "36               3\n",
       "63               3\n",
       "34               3\n",
       "80               3\n",
       "70               3\n",
       "41               3\n",
       "75               2\n",
       "74               2\n",
       "37               2\n",
       "61               2\n",
       "20               2\n",
       "38               2\n",
       "76               2\n",
       "39               2\n",
       "30               2\n",
       "69               2\n",
       "53               1\n",
       "16               1\n",
       "72               1\n",
       "68               1\n",
       "7                1\n",
       "12               1\n",
       "11               1\n",
       "71               1\n",
       "Diabetic         1\n",
       "73               1\n",
       "23               1\n",
       "28               1\n",
       "94               1\n",
       "21               1\n",
       "66               1\n",
       "15               1\n",
       "8                1\n",
       "25               1\n",
       "Name: count, dtype: int64"
      ]
     },
     "execution_count": 47,
     "metadata": {},
     "output_type": "execute_result"
    }
   ],
   "source": [
    "data['Diabetic Status'].value_counts(dropna = False)"
   ]
  },
  {
   "cell_type": "code",
   "execution_count": 48,
   "id": "566141fd-a829-4e83-a638-628be1dd99e9",
   "metadata": {},
   "outputs": [
    {
     "data": {
      "text/plain": [
       "EP Site\n",
       "NaN                       23\n",
       "Bone (Excluding Spine)     6\n",
       "2024-10-08 00:00:00        6\n",
       "2024-10-31 00:00:00        5\n",
       "2024-08-19 00:00:00        5\n",
       "                          ..\n",
       "2024-08-01 00:00:00        1\n",
       "2024-03-01 00:00:00        1\n",
       "2024-06-15 00:00:00        1\n",
       "2024-03-06 00:00:00        1\n",
       "2024-09-24 00:00:00        1\n",
       "Name: count, Length: 169, dtype: int64"
      ]
     },
     "execution_count": 48,
     "metadata": {},
     "output_type": "execute_result"
    }
   ],
   "source": [
    "data['EP Site'].value_counts(dropna = False)"
   ]
  },
  {
   "cell_type": "code",
   "execution_count": 49,
   "id": "c24cb949-0fd9-4154-bc95-4c56c261496b",
   "metadata": {},
   "outputs": [
    {
     "data": {
      "text/plain": [
       "array([nan, 'Lymph Node', 'Abdominal', 'Bone (Excluding Spine)',\n",
       "       'Pleural', 'Spinal', datetime.datetime(2024, 6, 25, 0, 0),\n",
       "       datetime.datetime(2024, 10, 31, 0, 0),\n",
       "       datetime.datetime(2024, 6, 24, 0, 0),\n",
       "       datetime.datetime(2024, 9, 30, 0, 0),\n",
       "       datetime.datetime(2024, 6, 27, 0, 0),\n",
       "       datetime.datetime(2024, 7, 31, 0, 0),\n",
       "       datetime.datetime(2024, 6, 29, 0, 0),\n",
       "       datetime.datetime(2024, 7, 6, 0, 0),\n",
       "       datetime.datetime(2025, 1, 17, 0, 0),\n",
       "       datetime.datetime(2024, 7, 9, 0, 0),\n",
       "       datetime.datetime(2024, 5, 21, 0, 0),\n",
       "       datetime.datetime(2024, 7, 17, 0, 0),\n",
       "       datetime.datetime(2024, 3, 22, 0, 0),\n",
       "       datetime.datetime(2024, 1, 25, 0, 0),\n",
       "       datetime.datetime(2024, 8, 7, 0, 0),\n",
       "       datetime.datetime(2024, 7, 15, 0, 0),\n",
       "       datetime.datetime(2024, 9, 15, 0, 0),\n",
       "       datetime.datetime(2024, 11, 1, 0, 0),\n",
       "       datetime.datetime(2024, 7, 22, 0, 0),\n",
       "       datetime.datetime(2024, 1, 19, 0, 0),\n",
       "       datetime.datetime(2024, 12, 31, 0, 0),\n",
       "       datetime.datetime(2024, 7, 26, 0, 0),\n",
       "       datetime.datetime(2024, 7, 27, 0, 0),\n",
       "       datetime.datetime(2024, 7, 29, 0, 0),\n",
       "       datetime.datetime(2024, 8, 2, 0, 0),\n",
       "       datetime.datetime(2024, 8, 3, 0, 0),\n",
       "       datetime.datetime(2024, 8, 6, 0, 0),\n",
       "       datetime.datetime(2024, 8, 9, 0, 0),\n",
       "       datetime.datetime(2024, 8, 8, 0, 0),\n",
       "       datetime.datetime(2024, 8, 17, 0, 0),\n",
       "       datetime.datetime(2024, 3, 9, 0, 0),\n",
       "       datetime.datetime(2024, 8, 10, 0, 0),\n",
       "       datetime.datetime(2024, 2, 3, 0, 0),\n",
       "       datetime.datetime(2024, 8, 13, 0, 0),\n",
       "       datetime.datetime(2024, 8, 12, 0, 0),\n",
       "       datetime.datetime(2025, 1, 31, 0, 0),\n",
       "       datetime.datetime(2024, 8, 18, 0, 0),\n",
       "       datetime.datetime(2024, 7, 19, 0, 0),\n",
       "       datetime.datetime(2024, 8, 14, 0, 0),\n",
       "       datetime.datetime(2024, 8, 26, 0, 0),\n",
       "       datetime.datetime(2024, 8, 27, 0, 0),\n",
       "       datetime.datetime(2024, 8, 21, 0, 0),\n",
       "       datetime.datetime(2024, 8, 22, 0, 0),\n",
       "       datetime.datetime(2024, 8, 28, 0, 0),\n",
       "       datetime.datetime(2024, 8, 23, 0, 0),\n",
       "       datetime.datetime(2024, 8, 31, 0, 0),\n",
       "       datetime.datetime(2024, 8, 25, 0, 0),\n",
       "       datetime.datetime(2024, 9, 1, 0, 0),\n",
       "       datetime.datetime(2024, 8, 30, 0, 0),\n",
       "       datetime.datetime(2024, 9, 5, 0, 0),\n",
       "       datetime.datetime(2024, 9, 4, 0, 0),\n",
       "       datetime.datetime(2024, 9, 23, 0, 0),\n",
       "       datetime.datetime(2024, 9, 10, 0, 0),\n",
       "       datetime.datetime(2024, 9, 11, 0, 0),\n",
       "       datetime.datetime(2025, 3, 31, 0, 0),\n",
       "       datetime.datetime(2024, 3, 6, 0, 0),\n",
       "       datetime.datetime(2024, 8, 24, 0, 0),\n",
       "       datetime.datetime(2024, 6, 15, 0, 0),\n",
       "       datetime.datetime(2024, 8, 20, 0, 0),\n",
       "       datetime.datetime(2024, 8, 16, 0, 0),\n",
       "       datetime.datetime(2024, 8, 19, 0, 0),\n",
       "       datetime.datetime(2024, 3, 1, 0, 0),\n",
       "       datetime.datetime(2024, 7, 10, 0, 0),\n",
       "       datetime.datetime(2024, 8, 1, 0, 0),\n",
       "       datetime.datetime(2024, 7, 25, 0, 0),\n",
       "       datetime.datetime(2024, 7, 24, 0, 0),\n",
       "       datetime.datetime(2024, 1, 20, 0, 0),\n",
       "       datetime.datetime(2024, 7, 20, 0, 0),\n",
       "       datetime.datetime(2024, 10, 10, 0, 0),\n",
       "       datetime.datetime(2024, 8, 15, 0, 0),\n",
       "       datetime.datetime(2024, 7, 21, 0, 0),\n",
       "       datetime.datetime(2024, 1, 31, 0, 0),\n",
       "       datetime.datetime(2024, 7, 18, 0, 0),\n",
       "       datetime.datetime(2024, 10, 23, 0, 0),\n",
       "       datetime.datetime(2024, 1, 28, 0, 0),\n",
       "       datetime.datetime(2024, 7, 16, 0, 0),\n",
       "       datetime.datetime(2024, 1, 24, 0, 0),\n",
       "       datetime.datetime(2024, 10, 28, 0, 0),\n",
       "       datetime.datetime(2024, 1, 23, 0, 0),\n",
       "       datetime.datetime(2024, 7, 5, 0, 0),\n",
       "       datetime.datetime(2024, 7, 2, 0, 0),\n",
       "       datetime.datetime(2024, 7, 3, 0, 0),\n",
       "       datetime.datetime(2024, 7, 1, 0, 0),\n",
       "       datetime.datetime(2024, 6, 28, 0, 0),\n",
       "       datetime.datetime(2025, 2, 28, 0, 0),\n",
       "       datetime.datetime(2024, 6, 22, 0, 0),\n",
       "       datetime.datetime(2024, 5, 30, 0, 0),\n",
       "       datetime.datetime(2024, 6, 21, 0, 0),\n",
       "       datetime.datetime(2024, 11, 6, 0, 0),\n",
       "       datetime.datetime(2024, 9, 13, 0, 0),\n",
       "       datetime.datetime(2024, 9, 7, 0, 0),\n",
       "       datetime.datetime(2024, 9, 6, 0, 0),\n",
       "       datetime.datetime(2024, 3, 28, 0, 0),\n",
       "       datetime.datetime(2024, 4, 12, 0, 0),\n",
       "       datetime.datetime(2024, 9, 3, 0, 0),\n",
       "       datetime.datetime(2024, 9, 20, 0, 0),\n",
       "       datetime.datetime(2024, 4, 11, 0, 0),\n",
       "       datetime.datetime(2024, 11, 2, 0, 0),\n",
       "       datetime.datetime(2024, 4, 3, 0, 0),\n",
       "       datetime.datetime(2024, 9, 19, 0, 0),\n",
       "       datetime.datetime(2024, 9, 12, 0, 0),\n",
       "       datetime.datetime(2024, 9, 18, 0, 0),\n",
       "       datetime.datetime(2024, 11, 9, 0, 0),\n",
       "       datetime.datetime(2024, 9, 17, 0, 0),\n",
       "       datetime.datetime(2024, 9, 21, 0, 0),\n",
       "       datetime.datetime(2024, 4, 16, 0, 0),\n",
       "       datetime.datetime(2024, 10, 5, 0, 0),\n",
       "       datetime.datetime(2024, 10, 7, 0, 0),\n",
       "       datetime.datetime(2024, 10, 8, 0, 0),\n",
       "       datetime.datetime(2024, 10, 9, 0, 0),\n",
       "       datetime.datetime(2024, 10, 16, 0, 0),\n",
       "       datetime.datetime(2024, 4, 27, 0, 0),\n",
       "       datetime.datetime(2024, 11, 30, 0, 0),\n",
       "       datetime.datetime(2024, 10, 15, 0, 0),\n",
       "       datetime.datetime(2024, 10, 1, 0, 0),\n",
       "       datetime.datetime(2024, 10, 17, 0, 0),\n",
       "       datetime.datetime(2024, 10, 24, 0, 0),\n",
       "       datetime.datetime(2024, 10, 19, 0, 0),\n",
       "       datetime.datetime(2024, 10, 18, 0, 0),\n",
       "       datetime.datetime(2024, 10, 21, 0, 0),\n",
       "       datetime.datetime(2024, 10, 22, 0, 0),\n",
       "       datetime.datetime(2024, 10, 26, 0, 0),\n",
       "       datetime.datetime(2024, 10, 30, 0, 0),\n",
       "       datetime.datetime(2024, 10, 29, 0, 0),\n",
       "       datetime.datetime(2024, 11, 16, 0, 0),\n",
       "       datetime.datetime(2025, 3, 27, 0, 0),\n",
       "       datetime.datetime(2024, 11, 12, 0, 0),\n",
       "       datetime.datetime(2024, 11, 11, 0, 0),\n",
       "       datetime.datetime(2024, 5, 31, 0, 0),\n",
       "       datetime.datetime(2024, 11, 22, 0, 0),\n",
       "       datetime.datetime(2024, 11, 25, 0, 0),\n",
       "       datetime.datetime(2024, 11, 23, 0, 0),\n",
       "       datetime.datetime(2024, 11, 27, 0, 0),\n",
       "       datetime.datetime(2024, 6, 14, 0, 0),\n",
       "       datetime.datetime(2024, 11, 28, 0, 0),\n",
       "       datetime.datetime(2024, 11, 29, 0, 0),\n",
       "       datetime.datetime(2024, 11, 21, 0, 0),\n",
       "       datetime.datetime(2024, 12, 6, 0, 0),\n",
       "       datetime.datetime(2024, 12, 11, 0, 0),\n",
       "       datetime.datetime(2024, 12, 9, 0, 0),\n",
       "       datetime.datetime(2024, 11, 19, 0, 0),\n",
       "       datetime.datetime(2024, 11, 17, 0, 0),\n",
       "       datetime.datetime(2024, 12, 13, 0, 0),\n",
       "       datetime.datetime(2024, 12, 10, 0, 0),\n",
       "       datetime.datetime(2024, 12, 19, 0, 0),\n",
       "       datetime.datetime(2024, 12, 12, 0, 0),\n",
       "       datetime.datetime(2024, 12, 16, 0, 0),\n",
       "       datetime.datetime(2024, 6, 26, 0, 0),\n",
       "       datetime.datetime(2024, 11, 14, 0, 0),\n",
       "       datetime.datetime(2024, 11, 26, 0, 0),\n",
       "       datetime.datetime(2024, 11, 18, 0, 0),\n",
       "       datetime.datetime(2024, 11, 20, 0, 0),\n",
       "       datetime.datetime(2024, 11, 4, 0, 0),\n",
       "       datetime.datetime(2024, 11, 15, 0, 0),\n",
       "       datetime.datetime(2024, 11, 13, 0, 0),\n",
       "       datetime.datetime(2024, 11, 7, 0, 0),\n",
       "       datetime.datetime(2024, 11, 5, 0, 0),\n",
       "       datetime.datetime(2024, 11, 3, 0, 0),\n",
       "       datetime.datetime(2024, 10, 25, 0, 0),\n",
       "       datetime.datetime(2024, 10, 12, 0, 0),\n",
       "       datetime.datetime(2024, 10, 11, 0, 0),\n",
       "       datetime.datetime(2024, 9, 26, 0, 0),\n",
       "       datetime.datetime(2024, 9, 24, 0, 0)], dtype=object)"
      ]
     },
     "execution_count": 49,
     "metadata": {},
     "output_type": "execute_result"
    }
   ],
   "source": [
    "data['EP Site'].unique()"
   ]
  },
  {
   "cell_type": "markdown",
   "id": "9947c739-c792-4ba6-8d08-16c98b8a1a74",
   "metadata": {},
   "source": [
    "#### 1.11\n",
    "> Dropping 'Diabetic Status' and 'EP Site' as they seem to have data entry error. "
   ]
  },
  {
   "cell_type": "code",
   "execution_count": 50,
   "id": "491fb663-2ffa-4370-8d4e-e2ea387cbaf9",
   "metadata": {},
   "outputs": [],
   "source": [
    "data.drop(columns = ['Diabetic Status','EP Site'], inplace = True)"
   ]
  },
  {
   "cell_type": "code",
   "execution_count": 51,
   "id": "bcf492f3-6dae-4bd3-aded-4d7a9fea1575",
   "metadata": {},
   "outputs": [
    {
     "data": {
      "text/plain": [
       "col_x\n",
       "1.0    321\n",
       "NaN     41\n",
       "Name: count, dtype: int64"
      ]
     },
     "execution_count": 51,
     "metadata": {},
     "output_type": "execute_result"
    }
   ],
   "source": [
    "data['col_x'].value_counts(dropna = False)"
   ]
  },
  {
   "cell_type": "code",
   "execution_count": 52,
   "id": "5d2f37de-3f55-476b-820c-5472d8feab1d",
   "metadata": {},
   "outputs": [],
   "source": [
    "data['col_x'].fillna(0, inplace = True)"
   ]
  },
  {
   "cell_type": "code",
   "execution_count": 53,
   "id": "f8a5d417-9646-4586-b6a9-9bfb3944d62e",
   "metadata": {},
   "outputs": [
    {
     "data": {
      "text/plain": [
       "1\n",
       "TU                                 0\n",
       "Diagnosed from which Facility      0\n",
       "Public/Private                     0\n",
       "Address                            0\n",
       "Diagnosis Date                     0\n",
       "Age                                0\n",
       "Gender                             0\n",
       "Type                               0\n",
       "Site                               0\n",
       "HIV Status                         0\n",
       "TB Drug Regimen                  322\n",
       "Tretment Start Date              203\n",
       "Weight                             0\n",
       "col_x                              0\n",
       "Tretment Status                    0\n",
       "dtype: int64"
      ]
     },
     "execution_count": 53,
     "metadata": {},
     "output_type": "execute_result"
    }
   ],
   "source": [
    "data.isna().sum()"
   ]
  },
  {
   "cell_type": "code",
   "execution_count": 55,
   "id": "ad2120a2-5edc-4fe4-b539-5ab40f913181",
   "metadata": {},
   "outputs": [
    {
     "data": {
      "text/html": [
       "<div>\n",
       "<style scoped>\n",
       "    .dataframe tbody tr th:only-of-type {\n",
       "        vertical-align: middle;\n",
       "    }\n",
       "\n",
       "    .dataframe tbody tr th {\n",
       "        vertical-align: top;\n",
       "    }\n",
       "\n",
       "    .dataframe thead th {\n",
       "        text-align: right;\n",
       "    }\n",
       "</style>\n",
       "<table border=\"1\" class=\"dataframe\">\n",
       "  <thead>\n",
       "    <tr style=\"text-align: right;\">\n",
       "      <th>1</th>\n",
       "      <th>Diagnosis Date</th>\n",
       "      <th>Tretment Start Date</th>\n",
       "      <th>Weight</th>\n",
       "      <th>col_x</th>\n",
       "    </tr>\n",
       "  </thead>\n",
       "  <tbody>\n",
       "    <tr>\n",
       "      <th>count</th>\n",
       "      <td>362</td>\n",
       "      <td>159</td>\n",
       "      <td>362.000000</td>\n",
       "      <td>362.000000</td>\n",
       "    </tr>\n",
       "    <tr>\n",
       "      <th>mean</th>\n",
       "      <td>2024-04-13 21:56:41.104972288</td>\n",
       "      <td>1983-09-24 15:50:56.603773568</td>\n",
       "      <td>146.014309</td>\n",
       "      <td>0.886740</td>\n",
       "    </tr>\n",
       "    <tr>\n",
       "      <th>min</th>\n",
       "      <td>2023-12-05 00:00:00</td>\n",
       "      <td>1970-01-01 00:00:00</td>\n",
       "      <td>5.000000</td>\n",
       "      <td>0.000000</td>\n",
       "    </tr>\n",
       "    <tr>\n",
       "      <th>25%</th>\n",
       "      <td>2024-02-28 06:00:00</td>\n",
       "      <td>1970-01-01 00:00:00</td>\n",
       "      <td>152.000000</td>\n",
       "      <td>1.000000</td>\n",
       "    </tr>\n",
       "    <tr>\n",
       "      <th>50%</th>\n",
       "      <td>2024-04-08 00:00:00</td>\n",
       "      <td>1970-01-01 00:00:00</td>\n",
       "      <td>160.000000</td>\n",
       "      <td>1.000000</td>\n",
       "    </tr>\n",
       "    <tr>\n",
       "      <th>75%</th>\n",
       "      <td>2024-05-31 18:00:00</td>\n",
       "      <td>1997-04-02 00:00:00</td>\n",
       "      <td>165.000000</td>\n",
       "      <td>1.000000</td>\n",
       "    </tr>\n",
       "    <tr>\n",
       "      <th>max</th>\n",
       "      <td>2024-08-28 00:00:00</td>\n",
       "      <td>2024-08-28 00:00:00</td>\n",
       "      <td>188.000000</td>\n",
       "      <td>1.000000</td>\n",
       "    </tr>\n",
       "    <tr>\n",
       "      <th>std</th>\n",
       "      <td>NaN</td>\n",
       "      <td>NaN</td>\n",
       "      <td>39.937241</td>\n",
       "      <td>0.317349</td>\n",
       "    </tr>\n",
       "  </tbody>\n",
       "</table>\n",
       "</div>"
      ],
      "text/plain": [
       "1                     Diagnosis Date            Tretment Start Date  \\\n",
       "count                            362                            159   \n",
       "mean   2024-04-13 21:56:41.104972288  1983-09-24 15:50:56.603773568   \n",
       "min              2023-12-05 00:00:00            1970-01-01 00:00:00   \n",
       "25%              2024-02-28 06:00:00            1970-01-01 00:00:00   \n",
       "50%              2024-04-08 00:00:00            1970-01-01 00:00:00   \n",
       "75%              2024-05-31 18:00:00            1997-04-02 00:00:00   \n",
       "max              2024-08-28 00:00:00            2024-08-28 00:00:00   \n",
       "std                              NaN                            NaN   \n",
       "\n",
       "1          Weight       col_x  \n",
       "count  362.000000  362.000000  \n",
       "mean   146.014309    0.886740  \n",
       "min      5.000000    0.000000  \n",
       "25%    152.000000    1.000000  \n",
       "50%    160.000000    1.000000  \n",
       "75%    165.000000    1.000000  \n",
       "max    188.000000    1.000000  \n",
       "std     39.937241    0.317349  "
      ]
     },
     "execution_count": 55,
     "metadata": {},
     "output_type": "execute_result"
    }
   ],
   "source": [
    "data.describe()"
   ]
  },
  {
   "cell_type": "markdown",
   "id": "2a63f74d-56e8-4aaf-b38e-420556372b0f",
   "metadata": {},
   "source": [
    "**Note:** TB Drug Regimen, Tretment Start Date still have null values but will treat them after analyizing its relation with other columns."
   ]
  },
  {
   "cell_type": "markdown",
   "id": "4bb527c5-8c6a-4c49-b1c4-07e498bd00d6",
   "metadata": {},
   "source": [
    "## 2. Univariate analysis "
   ]
  },
  {
   "cell_type": "code",
   "execution_count": 54,
   "id": "3659780f-6d65-41f8-b11b-9032060964f9",
   "metadata": {},
   "outputs": [
    {
     "data": {
      "text/html": [
       "<div>\n",
       "<style scoped>\n",
       "    .dataframe tbody tr th:only-of-type {\n",
       "        vertical-align: middle;\n",
       "    }\n",
       "\n",
       "    .dataframe tbody tr th {\n",
       "        vertical-align: top;\n",
       "    }\n",
       "\n",
       "    .dataframe thead th {\n",
       "        text-align: right;\n",
       "    }\n",
       "</style>\n",
       "<table border=\"1\" class=\"dataframe\">\n",
       "  <thead>\n",
       "    <tr style=\"text-align: right;\">\n",
       "      <th>1</th>\n",
       "      <th>TU</th>\n",
       "      <th>Diagnosed from which Facility</th>\n",
       "      <th>Public/Private</th>\n",
       "      <th>Address</th>\n",
       "      <th>Diagnosis Date</th>\n",
       "      <th>Age</th>\n",
       "      <th>Gender</th>\n",
       "      <th>Type</th>\n",
       "      <th>Site</th>\n",
       "      <th>HIV Status</th>\n",
       "      <th>TB Drug Regimen</th>\n",
       "      <th>Tretment Start Date</th>\n",
       "      <th>Weight</th>\n",
       "      <th>col_x</th>\n",
       "      <th>Tretment Status</th>\n",
       "    </tr>\n",
       "  </thead>\n",
       "  <tbody>\n",
       "    <tr>\n",
       "      <th>0</th>\n",
       "      <td>dtc kishtwar</td>\n",
       "      <td>jammu</td>\n",
       "      <td>public</td>\n",
       "      <td>kishtwar</td>\n",
       "      <td>2024-07-11</td>\n",
       "      <td>70</td>\n",
       "      <td>male</td>\n",
       "      <td>new</td>\n",
       "      <td>nan</td>\n",
       "      <td>unknown</td>\n",
       "      <td>NaN</td>\n",
       "      <td>NaT</td>\n",
       "      <td>146.01</td>\n",
       "      <td>0.0</td>\n",
       "      <td>missing data</td>\n",
       "    </tr>\n",
       "    <tr>\n",
       "      <th>1</th>\n",
       "      <td>dtc kishtwar</td>\n",
       "      <td>doda</td>\n",
       "      <td>public</td>\n",
       "      <td>piyas kishtwar</td>\n",
       "      <td>2024-08-06</td>\n",
       "      <td>24</td>\n",
       "      <td>male</td>\n",
       "      <td>new</td>\n",
       "      <td>pulmonary</td>\n",
       "      <td>non-reactive</td>\n",
       "      <td>2HRZE/4HRE</td>\n",
       "      <td>2024-08-06</td>\n",
       "      <td>52.00</td>\n",
       "      <td>0.0</td>\n",
       "      <td>started</td>\n",
       "    </tr>\n",
       "    <tr>\n",
       "      <th>2</th>\n",
       "      <td>dtc kishtwar</td>\n",
       "      <td>doda</td>\n",
       "      <td>public</td>\n",
       "      <td>shakti nagar kishtwar</td>\n",
       "      <td>2024-08-03</td>\n",
       "      <td>60</td>\n",
       "      <td>female</td>\n",
       "      <td>new</td>\n",
       "      <td>extra pulmonary</td>\n",
       "      <td>non-reactive</td>\n",
       "      <td>2HRZE/4HRE</td>\n",
       "      <td>2024-08-03</td>\n",
       "      <td>58.00</td>\n",
       "      <td>0.0</td>\n",
       "      <td>started</td>\n",
       "    </tr>\n",
       "    <tr>\n",
       "      <th>4</th>\n",
       "      <td>dtc kishtwar</td>\n",
       "      <td>doda</td>\n",
       "      <td>public</td>\n",
       "      <td>padyarna kishtwar</td>\n",
       "      <td>2024-07-31</td>\n",
       "      <td>18</td>\n",
       "      <td>female</td>\n",
       "      <td>new</td>\n",
       "      <td>pulmonary</td>\n",
       "      <td>non-reactive</td>\n",
       "      <td>2HRZE/4HRE</td>\n",
       "      <td>2024-07-31</td>\n",
       "      <td>32.00</td>\n",
       "      <td>0.0</td>\n",
       "      <td>started</td>\n",
       "    </tr>\n",
       "    <tr>\n",
       "      <th>5</th>\n",
       "      <td>dtc kishtwar</td>\n",
       "      <td>chandigarh</td>\n",
       "      <td>public</td>\n",
       "      <td>vill- beramata p.o- kisthwar teh- distt- kisth...</td>\n",
       "      <td>2024-07-11</td>\n",
       "      <td>48</td>\n",
       "      <td>male</td>\n",
       "      <td>new</td>\n",
       "      <td>pulmonary</td>\n",
       "      <td>non-reactive</td>\n",
       "      <td>2HRZE/4HRE</td>\n",
       "      <td>2024-07-29</td>\n",
       "      <td>43.00</td>\n",
       "      <td>0.0</td>\n",
       "      <td>started</td>\n",
       "    </tr>\n",
       "  </tbody>\n",
       "</table>\n",
       "</div>"
      ],
      "text/plain": [
       "1            TU Diagnosed from which Facility Public/Private  \\\n",
       "0  dtc kishtwar                         jammu         public   \n",
       "1  dtc kishtwar                          doda         public   \n",
       "2  dtc kishtwar                          doda         public   \n",
       "4  dtc kishtwar                          doda         public   \n",
       "5  dtc kishtwar                    chandigarh         public   \n",
       "\n",
       "1                                            Address Diagnosis Date Age  \\\n",
       "0                                           kishtwar     2024-07-11  70   \n",
       "1                                     piyas kishtwar     2024-08-06  24   \n",
       "2                              shakti nagar kishtwar     2024-08-03  60   \n",
       "4                                  padyarna kishtwar     2024-07-31  18   \n",
       "5  vill- beramata p.o- kisthwar teh- distt- kisth...     2024-07-11  48   \n",
       "\n",
       "1  Gender Type             Site    HIV Status TB Drug Regimen  \\\n",
       "0    male  new              nan       unknown             NaN   \n",
       "1    male  new        pulmonary  non-reactive      2HRZE/4HRE   \n",
       "2  female  new  extra pulmonary  non-reactive      2HRZE/4HRE   \n",
       "4  female  new        pulmonary  non-reactive      2HRZE/4HRE   \n",
       "5    male  new        pulmonary  non-reactive      2HRZE/4HRE   \n",
       "\n",
       "1 Tretment Start Date  Weight  col_x Tretment Status  \n",
       "0                 NaT  146.01    0.0    missing data  \n",
       "1          2024-08-06   52.00    0.0         started  \n",
       "2          2024-08-03   58.00    0.0         started  \n",
       "4          2024-07-31   32.00    0.0         started  \n",
       "5          2024-07-29   43.00    0.0         started  "
      ]
     },
     "execution_count": 54,
     "metadata": {},
     "output_type": "execute_result"
    }
   ],
   "source": [
    "data.head()"
   ]
  },
  {
   "cell_type": "code",
   "execution_count": 55,
   "id": "36fd0547-1258-4109-a6e9-356d96571e9b",
   "metadata": {
    "scrolled": true
   },
   "outputs": [
    {
     "data": {
      "text/plain": [
       "Index(['TU', 'Diagnosed from which Facility', 'Public/Private', 'Address',\n",
       "       'Diagnosis Date', 'Age', 'Gender', 'Type', 'Site', 'HIV Status',\n",
       "       'TB Drug Regimen', 'Tretment Start Date', 'Weight', 'col_x',\n",
       "       'Tretment Status'],\n",
       "      dtype='object', name=1)"
      ]
     },
     "execution_count": 55,
     "metadata": {},
     "output_type": "execute_result"
    }
   ],
   "source": [
    "data.columns"
   ]
  },
  {
   "cell_type": "code",
   "execution_count": 7,
   "id": "3d1c4f7b-5453-4576-8bce-3a8865cd4800",
   "metadata": {},
   "outputs": [
    {
     "ename": "NameError",
     "evalue": "name 'data' is not defined",
     "output_type": "error",
     "traceback": [
      "\u001b[1;31m---------------------------------------------------------------------------\u001b[0m",
      "\u001b[1;31mNameError\u001b[0m                                 Traceback (most recent call last)",
      "Cell \u001b[1;32mIn[7], line 1\u001b[0m\n\u001b[1;32m----> 1\u001b[0m \u001b[38;5;28;01mfor\u001b[39;00m i \u001b[38;5;129;01min\u001b[39;00m data\u001b[38;5;241m.\u001b[39mcolumns():\n\u001b[0;32m      2\u001b[0m     \u001b[38;5;28mprint\u001b[39m(data[i]\u001b[38;5;241m.\u001b[39mvalue_counts())\n\u001b[0;32m      3\u001b[0m     \u001b[38;5;28mprint\u001b[39m(\u001b[38;5;124m'\u001b[39m\u001b[38;5;124m*\u001b[39m\u001b[38;5;124m'\u001b[39m\u001b[38;5;241m*\u001b[39m\u001b[38;5;241m50\u001b[39m)\n",
      "\u001b[1;31mNameError\u001b[0m: name 'data' is not defined"
     ]
    }
   ],
   "source": [
    "for i in data.columns():\n",
    "    print(data[i].value_counts())\n",
    "    print('*'*50)"
   ]
  },
  {
   "cell_type": "markdown",
   "id": "2ad2ff44-88a2-47ce-a235-fdcde3416e9a",
   "metadata": {},
   "source": [
    "#### 2.1 Data visualization "
   ]
  },
  {
   "cell_type": "markdown",
   "id": "0e88c126-d414-4f16-af1e-3d6e3c122611",
   "metadata": {},
   "source": [
    "> Plotting the address-wise distribution of **TB cases** to explore the spread across different regions."
   ]
  },
  {
   "cell_type": "code",
   "execution_count": 56,
   "id": "7f5386f9-5fb0-449a-be34-be1a69e5fda6",
   "metadata": {},
   "outputs": [
    {
     "data": {
      "image/png": "[encoded data removed]",
      "text/plain": [
       "<Figure size 800x800 with 1 Axes>"
      ]
     },
     "metadata": {},
     "output_type": "display_data"
    }
   ],
   "source": [
    "fig, ax = plt.subplots(figsize=(8,8))\n",
    "wedges, texts, autotexts = ax.pie(data['TU'].value_counts(), \n",
    "                                  labels=data['TU'].value_counts().index,\n",
    "                                  autopct='%1.1f%%',\n",
    "                                  startangle=90,\n",
    "                                  colors=sns.color_palette('Set2'),\n",
    "                                  wedgeprops=dict(width=0.2))\n",
    "\n",
    "plt.setp(autotexts, size=12, weight=\"bold\", color=\"black\")\n",
    "ax.set_title('TB Address Distribution', fontsize=16)\n",
    "plt.show()"
   ]
  },
  {
   "cell_type": "markdown",
   "id": "6db3c855-8a0e-4bc3-adba-5e29a56ab8ac",
   "metadata": {},
   "source": [
    "> Plotting individual bar charts for each categorical column to better understand the distribution of categories within the dataset."
   ]
  },
  {
   "cell_type": "code",
   "execution_count": 57,
   "id": "0343d9b4-7fdc-43b0-a565-21c4bd8a55ed",
   "metadata": {},
   "outputs": [],
   "source": [
    "plot_list1 = ['Diagnosed from which Facility', 'Public/Private', 'Gender',\n",
    "             'Type', 'Site', 'HIV Status','Tretment Status']"
   ]
  },
  {
   "cell_type": "code",
   "execution_count": 58,
   "id": "51be680d-b063-4952-b887-8cfbcdd53342",
   "metadata": {},
   "outputs": [
    {
     "data": {
      "text/plain": [
       "7"
      ]
     },
     "execution_count": 58,
     "metadata": {},
     "output_type": "execute_result"
    }
   ],
   "source": [
    "len(plot_list1)"
   ]
  },
  {
   "cell_type": "code",
   "execution_count": 59,
   "id": "eb443520-ad8f-4b6d-af3a-07f2cb6e33a1",
   "metadata": {},
   "outputs": [
    {
     "data": {
      "image/png": "[encoded data removed]",
      "text/plain": [
       "<Figure size 1000x5000 with 7 Axes>"
      ]
     },
     "metadata": {},
     "output_type": "display_data"
    }
   ],
   "source": [
    "fig, axs = plt.subplots(7, 1, figsize=(10, 50))\n",
    "axs = axs.flatten()\n",
    "\n",
    "for i, col in enumerate(plot_list1):\n",
    "    if i < 8:\n",
    "        try:\n",
    "            # Get value counts and percentage\n",
    "            sub_df = data[col].value_counts(normalize=True).mul(100).reset_index()\n",
    "            sub_df.columns = [col, 'percentage']\n",
    "            # Plot percentage bars\n",
    "            sns.barplot(x=col, y='percentage', data=sub_df, ax=axs[i], palette='Set2')\n",
    "            \n",
    "            axs[i].set_title(f'{col} (in %)')\n",
    "            axs[i].set_ylabel('Percentage')\n",
    "            axs[i].tick_params(axis='x', rotation=90)\n",
    "\n",
    "            # Annotate bars\n",
    "            for bar in axs[i].patches:\n",
    "                height = bar.get_height()\n",
    "                axs[i].annotate(f'{height:.1f}%', \n",
    "                                (bar.get_x() + bar.get_width() / 2, height),\n",
    "                                ha='center', va='bottom', fontsize=9)\n",
    "\n",
    "            # plt.savefig(f'{col}_percent_plot.png')\n",
    "\n",
    "        except Exception as e:\n",
    "            print(f\"Can't plot {col}: {e}\")\n",
    "\n",
    "plt.tight_layout()"
   ]
  },
  {
   "cell_type": "markdown",
   "id": "502a28c7-430e-4d8e-9511-3912147cf889",
   "metadata": {},
   "source": [
    "##### Key findings: \n",
    "- The majority of patients, approximately 50.3%, registered at the DTC unit in Kishtwar with a smaller yet significant, 42.3% from Ramban, while Paddar represents a smaller portion, with 7.5% of cases.\n",
    "- A substantial 64.4% of patients across all three DTUs were diagnosed within the Doda District. Additional cases were recorded from nearby Jammu (22.7%) and Kashmir regions (10%), indicating a concentration of cases within Jammu and Kashmir.\n",
    "- Majority of the population (83.1)% were diagonised through public healthcare facilities.\n",
    "- Males showed a overall higher incidence. "
   ]
  },
  {
   "cell_type": "markdown",
   "id": "3d344ec1-eef1-4aef-94cd-0ca563fc8788",
   "metadata": {},
   "source": [
    "> Analyzing the remaining columns to uncover patterns in the data."
   ]
  },
  {
   "cell_type": "code",
   "execution_count": 60,
   "id": "506ffeaf-6940-4661-9c10-8e09cdf4cfb3",
   "metadata": {},
   "outputs": [
    {
     "data": {
      "text/plain": [
       "Index(['TU', 'Diagnosed from which Facility', 'Public/Private', 'Address',\n",
       "       'Diagnosis Date', 'Age', 'Gender', 'Type', 'Site', 'HIV Status',\n",
       "       'TB Drug Regimen', 'Tretment Start Date', 'Weight', 'col_x',\n",
       "       'Tretment Status'],\n",
       "      dtype='object', name=1)"
      ]
     },
     "execution_count": 60,
     "metadata": {},
     "output_type": "execute_result"
    }
   ],
   "source": [
    "data.columns"
   ]
  },
  {
   "cell_type": "code",
   "execution_count": 61,
   "id": "c1b9576d-5a46-4990-9546-7dea25729411",
   "metadata": {},
   "outputs": [
    {
     "data": {
      "text/plain": [
       "['Address',\n",
       " 'Tretment Start Date',\n",
       " 'TB Drug Regimen',\n",
       " 'col_x',\n",
       " 'Age',\n",
       " 'Diagnosis Date',\n",
       " 'TU',\n",
       " 'Weight']"
      ]
     },
     "execution_count": 61,
     "metadata": {},
     "output_type": "execute_result"
    }
   ],
   "source": [
    "list(set(data.columns) - set(plot_list1))"
   ]
  },
  {
   "cell_type": "code",
   "execution_count": 62,
   "id": "7978f50e-16ac-424b-ba9c-12fa75154a49",
   "metadata": {},
   "outputs": [],
   "source": [
    "plot_list2 = ['Tretment Start Date','TU','Age','Weight', 'Diagnosis Date','Address',\n",
    " 'TB Drug Regimen', 'col_x']"
   ]
  },
  {
   "cell_type": "code",
   "execution_count": 63,
   "id": "c29dc55b-8356-4805-84d9-e92b2425ef85",
   "metadata": {},
   "outputs": [
    {
     "data": {
      "text/html": [
       "<div>\n",
       "<style scoped>\n",
       "    .dataframe tbody tr th:only-of-type {\n",
       "        vertical-align: middle;\n",
       "    }\n",
       "\n",
       "    .dataframe tbody tr th {\n",
       "        vertical-align: top;\n",
       "    }\n",
       "\n",
       "    .dataframe thead th {\n",
       "        text-align: right;\n",
       "    }\n",
       "</style>\n",
       "<table border=\"1\" class=\"dataframe\">\n",
       "  <thead>\n",
       "    <tr style=\"text-align: right;\">\n",
       "      <th>1</th>\n",
       "      <th>Tretment Start Date</th>\n",
       "      <th>TU</th>\n",
       "      <th>Age</th>\n",
       "      <th>Weight</th>\n",
       "      <th>Diagnosis Date</th>\n",
       "      <th>Address</th>\n",
       "      <th>TB Drug Regimen</th>\n",
       "      <th>col_x</th>\n",
       "    </tr>\n",
       "  </thead>\n",
       "  <tbody>\n",
       "    <tr>\n",
       "      <th>0</th>\n",
       "      <td>NaT</td>\n",
       "      <td>dtc kishtwar</td>\n",
       "      <td>70</td>\n",
       "      <td>146.01</td>\n",
       "      <td>2024-07-11</td>\n",
       "      <td>kishtwar</td>\n",
       "      <td>NaN</td>\n",
       "      <td>0.0</td>\n",
       "    </tr>\n",
       "    <tr>\n",
       "      <th>1</th>\n",
       "      <td>2024-08-06</td>\n",
       "      <td>dtc kishtwar</td>\n",
       "      <td>24</td>\n",
       "      <td>52.00</td>\n",
       "      <td>2024-08-06</td>\n",
       "      <td>piyas kishtwar</td>\n",
       "      <td>2HRZE/4HRE</td>\n",
       "      <td>0.0</td>\n",
       "    </tr>\n",
       "    <tr>\n",
       "      <th>2</th>\n",
       "      <td>2024-08-03</td>\n",
       "      <td>dtc kishtwar</td>\n",
       "      <td>60</td>\n",
       "      <td>58.00</td>\n",
       "      <td>2024-08-03</td>\n",
       "      <td>shakti nagar kishtwar</td>\n",
       "      <td>2HRZE/4HRE</td>\n",
       "      <td>0.0</td>\n",
       "    </tr>\n",
       "    <tr>\n",
       "      <th>4</th>\n",
       "      <td>2024-07-31</td>\n",
       "      <td>dtc kishtwar</td>\n",
       "      <td>18</td>\n",
       "      <td>32.00</td>\n",
       "      <td>2024-07-31</td>\n",
       "      <td>padyarna kishtwar</td>\n",
       "      <td>2HRZE/4HRE</td>\n",
       "      <td>0.0</td>\n",
       "    </tr>\n",
       "    <tr>\n",
       "      <th>5</th>\n",
       "      <td>2024-07-29</td>\n",
       "      <td>dtc kishtwar</td>\n",
       "      <td>48</td>\n",
       "      <td>43.00</td>\n",
       "      <td>2024-07-11</td>\n",
       "      <td>vill- beramata p.o- kisthwar teh- distt- kisth...</td>\n",
       "      <td>2HRZE/4HRE</td>\n",
       "      <td>0.0</td>\n",
       "    </tr>\n",
       "    <tr>\n",
       "      <th>...</th>\n",
       "      <td>...</td>\n",
       "      <td>...</td>\n",
       "      <td>...</td>\n",
       "      <td>...</td>\n",
       "      <td>...</td>\n",
       "      <td>...</td>\n",
       "      <td>...</td>\n",
       "      <td>...</td>\n",
       "    </tr>\n",
       "    <tr>\n",
       "      <th>906</th>\n",
       "      <td>1970-01-01</td>\n",
       "      <td>ramban</td>\n",
       "      <td>39</td>\n",
       "      <td>169.00</td>\n",
       "      <td>2024-03-20</td>\n",
       "      <td>kundi</td>\n",
       "      <td>NaN</td>\n",
       "      <td>1.0</td>\n",
       "    </tr>\n",
       "    <tr>\n",
       "      <th>907</th>\n",
       "      <td>NaT</td>\n",
       "      <td>ramban</td>\n",
       "      <td>38</td>\n",
       "      <td>175.00</td>\n",
       "      <td>2024-03-29</td>\n",
       "      <td>ramban</td>\n",
       "      <td>NaN</td>\n",
       "      <td>1.0</td>\n",
       "    </tr>\n",
       "    <tr>\n",
       "      <th>908</th>\n",
       "      <td>NaT</td>\n",
       "      <td>dtc kishtwar</td>\n",
       "      <td>35</td>\n",
       "      <td>160.00</td>\n",
       "      <td>2024-04-04</td>\n",
       "      <td>path gam marwah kishtwar</td>\n",
       "      <td>NaN</td>\n",
       "      <td>1.0</td>\n",
       "    </tr>\n",
       "    <tr>\n",
       "      <th>909</th>\n",
       "      <td>NaT</td>\n",
       "      <td>padder</td>\n",
       "      <td>40</td>\n",
       "      <td>160.00</td>\n",
       "      <td>2024-03-29</td>\n",
       "      <td>lagri padder</td>\n",
       "      <td>NaN</td>\n",
       "      <td>1.0</td>\n",
       "    </tr>\n",
       "    <tr>\n",
       "      <th>911</th>\n",
       "      <td>NaT</td>\n",
       "      <td>dtc kishtwar</td>\n",
       "      <td>19</td>\n",
       "      <td>160.00</td>\n",
       "      <td>2024-04-03</td>\n",
       "      <td>dool kishtwar</td>\n",
       "      <td>NaN</td>\n",
       "      <td>1.0</td>\n",
       "    </tr>\n",
       "  </tbody>\n",
       "</table>\n",
       "<p>362 rows × 8 columns</p>\n",
       "</div>"
      ],
      "text/plain": [
       "1   Tretment Start Date            TU Age  Weight Diagnosis Date  \\\n",
       "0                   NaT  dtc kishtwar  70  146.01     2024-07-11   \n",
       "1            2024-08-06  dtc kishtwar  24   52.00     2024-08-06   \n",
       "2            2024-08-03  dtc kishtwar  60   58.00     2024-08-03   \n",
       "4            2024-07-31  dtc kishtwar  18   32.00     2024-07-31   \n",
       "5            2024-07-29  dtc kishtwar  48   43.00     2024-07-11   \n",
       "..                  ...           ...  ..     ...            ...   \n",
       "906          1970-01-01        ramban  39  169.00     2024-03-20   \n",
       "907                 NaT        ramban  38  175.00     2024-03-29   \n",
       "908                 NaT  dtc kishtwar  35  160.00     2024-04-04   \n",
       "909                 NaT        padder  40  160.00     2024-03-29   \n",
       "911                 NaT  dtc kishtwar  19  160.00     2024-04-03   \n",
       "\n",
       "1                                              Address TB Drug Regimen  col_x  \n",
       "0                                             kishtwar             NaN    0.0  \n",
       "1                                       piyas kishtwar      2HRZE/4HRE    0.0  \n",
       "2                                shakti nagar kishtwar      2HRZE/4HRE    0.0  \n",
       "4                                    padyarna kishtwar      2HRZE/4HRE    0.0  \n",
       "5    vill- beramata p.o- kisthwar teh- distt- kisth...      2HRZE/4HRE    0.0  \n",
       "..                                                 ...             ...    ...  \n",
       "906                                              kundi             NaN    1.0  \n",
       "907                                             ramban             NaN    1.0  \n",
       "908                           path gam marwah kishtwar             NaN    1.0  \n",
       "909                                       lagri padder             NaN    1.0  \n",
       "911                                      dool kishtwar             NaN    1.0  \n",
       "\n",
       "[362 rows x 8 columns]"
      ]
     },
     "execution_count": 63,
     "metadata": {},
     "output_type": "execute_result"
    }
   ],
   "source": [
    "data[plot_list2]"
   ]
  },
  {
   "cell_type": "markdown",
   "id": "59d83fa6-8940-4a97-b246-88e537ae595c",
   "metadata": {},
   "source": [
    "#### 2.2\n",
    "> Analyzing the **Address** column to understand the geographic patterns in the data."
   ]
  },
  {
   "cell_type": "code",
   "execution_count": 64,
   "id": "c0154fd7-2897-4001-b67e-61ac9026b306",
   "metadata": {},
   "outputs": [
    {
     "data": {
      "text/plain": [
       "array(['kishtwar', 'piyas kishtwar', 'shakti nagar kishtwar',\n",
       "       'padyarna kishtwar',\n",
       "       'vill- beramata p.o- kisthwar teh- distt- kisthwar j,k',\n",
       "       'bhatkoot', 'tuj pangi killar hp',\n",
       "       'kuntwara drab shalla near shiv mandir block kishtwar',\n",
       "       'kuchhal kishtwar', 'palmar kishtwar', 'dool kishtwar',\n",
       "       '77 sector 70 mohali ', 'bunjwah',\n",
       "       'rehari colony near education board jammu', 'cherhar kishtwar',\n",
       "       'dachhan kishtwar', 'kadini piyas kishtwar', 'semna kishtwar',\n",
       "       'asrarabad kishtwar', 'inshan warwan', 'dashan kishtwar',\n",
       "       'patti saroor kishtwar', 'singhpore chatroo', 'chatroo kishtwar',\n",
       "       'symbol kishtwar', 'buddharb bunjwah kishtwar',\n",
       "       'simbool mughal maidan kishtwar', '  village palmar klishtwar',\n",
       "       'hurna', 'malan kishtwar', 'kuntwara kishtwar',\n",
       "       'patimhaala kishtwar', 'bunastan kishtwar', 'mulchittar',\n",
       "       'thakraie', 'paddar', 'jwalapur bonjwah', 'kishtwar dadpeth meen',\n",
       "       'balhoti saroor kishtwar', 'kharkoot nowgam', 'tanger',\n",
       "       'kishtwar machail', 'doda', 'dedpora, kishtwar',\n",
       "       'damot mulmala ward no 6 p/o chander kote near shiv temple block ramban',\n",
       "       'singhpora', 'wohli kuntwara kishtwar', 'hudri tund kishtwar',\n",
       "       'mehtra wardno01 near  masjid district ramban',\n",
       "       'ban talab tillo amar colony h.no 56',\n",
       "       'ward no 6 near shiv temple kishtwar', 'kanga, ramban',\n",
       "       'sher bibi. wagan', 'kripak mohalla kishtwar',\n",
       "       'main chowk banihal', 'padder district kishtwar  teh atholi',\n",
       "       'poochal', 'banihal vill banquoot near g.g.h school w',\n",
       "       'sunchan padder', 'pahalkala sigdi kishtwar', 'sumber',\n",
       "       'seri ward no 1 near wasuk dev temple block bhadarwah', 'kanga',\n",
       "       'purkhoo', 'garhri ramban', 'maitra', 'ghan sarthal kishtwar',\n",
       "       'gandhari padder kishtwar', 'ramban near by primary school',\n",
       "       'banihal ramban',\n",
       "       'vill- bajmasta p.o- ramban teh- ramban distt- ramban j,k',\n",
       "       'hatta', 'raj garh near hospital block ramban',\n",
       "       'kuchhal mughal maidan kishtwar', 'pernote a ramban',\n",
       "       'sumbar ramban', 'kunate', 'village gandhri ramban',\n",
       "       'rajgarh ramban', 'ramban', 'ganote thata ramban', 'gandri ramban',\n",
       "       'sangaldan ramban', 'h.no 83 lane no 5d, upper shiv nagar',\n",
       "       'ganote', 'ramban.   adwa chakra', 'karool sarthal kishtwar',\n",
       "       'banihall chamalvass', 'rajgard 1', 'pahalgam sigdi kishtwar',\n",
       "       'rajgardh1', 'ramban (jhat gali panchyat)', 'pernote', 'nera',\n",
       "       'sigdhi bhalaana ', 'ward no 2 main bazar batyari block ram ban',\n",
       "       'sarthal  ward 6 near masjid block kishtwar',\n",
       "       'bibrota raj garh  block ramban', 'bajmasta ramban',\n",
       "       'neju saroor kishtwar', 'seri.   telimajra', '113, nera ramban',\n",
       "       'sheikhpura dool kishtwar', 'nera state bank of india kishtwar',\n",
       "       'ikhala dachhan kishtwar', 'balote', 'chandroge',\n",
       "       'dist kishtwar village iqba bonjwa',\n",
       "       'hora tattani saroor kukerwas dist kishtwar thesil drabshalla',\n",
       "       'banderna kishtwar', 'gwarian sigdi kishtwar',\n",
       "       'ramban panchayat balhota ', 'tiyari', 'h.no. 250 gujjar nagar',\n",
       "       'bus stand kishtwar', 'pakalan thakrie kishtwar',\n",
       "       'sumdar near railway station ramban', 'dhar dundhrath ramban',\n",
       "       'paddar village ungai tehsil atholi', 'chanderkote', 'adwa',\n",
       "       'gandode', 'adwa18', 'seri', 'vill.sarthal near panchyat ghar',\n",
       "       'gawalo bellasa near govt primary school block gandoh',\n",
       "       'aharbi nagsena kishtwar',\n",
       "       'huryan gowari  ward no 1 cnear govt primary school block  paddar',\n",
       "       'palmar', 'kurya', 'gam', 'rajgard',\n",
       "       'narwalbala, near shiv shakti temple', 'sangaldan', 'dundrath',\n",
       "       'district  ramban botote near dig office', 'chamalwas syeed pora',\n",
       "       'mohu lower a', 'palli', 'tatani saroor', 'bandarkoot palmar',\n",
       "       'banihal chapnari', 'halla', 'ramban village ganote', 'rajgarh',\n",
       "       'wasser kishtwar', 'mulmula',\n",
       "       'dashnan ward no 7 near shiv mandir block doda',\n",
       "       'chander kote near gp gate ward no01 block ramban',\n",
       "       'thakraie kishtwar',\n",
       "       'chathro ward no 6 near masjid block kishtwar', 'chabq',\n",
       "       'mangit nagandar', 'mahu banihal', 'udmpur',\n",
       "       'noos nagseni kishtwar', 'mangith banihal', 'gurha kalyal',\n",
       "       'padhyaarna kishtwar', 'marwah', 'doligam banihal',\n",
       "       'kuchhal  kishtwar', 'padyaarna kishtwar', 'changloo banihal',\n",
       "       'berwar kishtwar', 'kishtwar mendhar mohalla',\n",
       "       'kishtwar teh atoli. near bbn school', 'duthan',\n",
       "       'badhat saroor kishtwar', 'parnote ramban', 'kanthi',\n",
       "       'drubeel,chatru, kishtwar.', 'banihal chamalvas',\n",
       "       'gulab garh  vill garh near govt high school block paddar',\n",
       "       'chingaam chatroo',\n",
       "       'neutral tatar soon near shiva temple block rambaban',\n",
       "       'gatgali ramban', 'paddar atholi near shiv mandir block paddar',\n",
       "       'village dacchan dist kishtwar ',\n",
       "       'bhagana nagrrota ward no 3 block kishtwar', 'batote',\n",
       "       'kishtwar village paddar', 'sildhar ramban', 'tangar ramban',\n",
       "       'gulaabgarh padder', 'saroor kanwarthara kishtwar',\n",
       "       'shaheedi mohalla kishtwar', 'ghadh padder', 'kaban padder',\n",
       "       'sigdi kishtwar', 'bibrote',\n",
       "       'dokson  near shiv mandir block ramban',\n",
       "       'parna chingam chatroo kishtwar', 'kishtwar near bus stand ',\n",
       "       'honjala kishtwar',\n",
       "       'hangoo near humps block paddar district kishtwar',\n",
       "       'ladder padder',\n",
       "       'pali morh near govt middle school block bari brahmna',\n",
       "       'distt ramban', 'vill.chitto paddar', 'r/o ramban', 'maitra ',\n",
       "       'binoon bunjwah', 'poohie kishtwar', 'tanji kwar nagseni kishtwar',\n",
       "       'ramsoo', 'billawat', 'keshwan kishtwar', 'kanthi ramban',\n",
       "       'dayan sigdi kishtwar', 'ramban razgarh', 'r/o kishtwar',\n",
       "       'gure krah near masjid block gandoh district doda',\n",
       "       'thakari near govt middle school block kishtwar', 'banihal rallu',\n",
       "       'matta kishtwar', 'goharian link road kishtwar',\n",
       "       'kuntwara drabshah kishtwar', 'gulabgarhl padder kishtwar',\n",
       "       'banihal duligam tantraypora', 'girls school ktr',\n",
       "       'balgram bannon kishtwar', 'ramban neera near by middle school',\n",
       "       'karrora saroor',\n",
       "       'kishtwar teh.paddhar vill.matta near shiv mandir',\n",
       "       'gandhri, ramban', 'parnote',\n",
       "       'chatla kundi raj garh ramban near by chinar',\n",
       "       'galab ghar near by siksha abyan school',\n",
       "       'r/o resri, dacchan kishtwar', 'ramban karol',\n",
       "       '  village nagseni padyarna kishtwar', 'tantraypora banihal',\n",
       "       'fagumarh janwas kishtwar', 'rajouri', 'phagumar janwas',\n",
       "       'thanacha dachhan', 'hidyal kishtwar',\n",
       "       'r/o marmat doda\\nc/o sanyas paddar', 'balgran bounjwah kishtwar',\n",
       "       'upper dool kishtwar', 'galhaar kishtwar', 'tangi kwar kishtwar',\n",
       "       'sangpore chatroo', 'horna drubeel kishtwar', 'zinhal',\n",
       "       'balote  ramban', 'bathni', '  mugalmaidan', 'marvah',\n",
       "       'banihal chamalwas', 'tagood kishtwar', 'kundi karol', 'kriya',\n",
       "       'sigdhi kishtwar', 'mandir kukarwas saroor kishtwar',\n",
       "       'poora chandali sarthal kishtwar',\n",
       "       'mogal maidan near govt high school block kishtwar',\n",
       "       'togeod  ward no 1 near near jhang sain devta block kishtwar',\n",
       "       'saroor kishtwar', 'bajmasta', 'gandri', 'teli majra',\n",
       "       'kanga ramban', 'chapnari banihal', 'neera ramban',\n",
       "       'horna palmaar', 'r/o pullar kishtwar', 'galhaar',\n",
       "       'c/o : habib sheikh takia tethar banihal banihal', 'garh',\n",
       "       'banihal', 'ward 2',\n",
       "       'bera ward no 1 near  sarkot temple block kishtwar',\n",
       "       'r/o hamzal madwa kishtwar',\n",
       "       'thakri ward no 5 near masjid block kishtwar',\n",
       "       'tieyari ward no 5 60near govt middle school block paddar',\n",
       "       'chaka kundi rajgarh, dist ramban', 'jamia masjid kistwar',\n",
       "       'mahoomangat banihal', 'link road kishtwar', 'nagni kishtwar',\n",
       "       'poohi kishtwar', 'szar padder kishtwar', 'tangaer',\n",
       "       'janakpur dachhan kishtwar', 'r/o warha hasti kishtwar', 'karol',\n",
       "       'alim bass', 'fagow', 'ramban hala near by primary school',\n",
       "       'gandhari padder', 'zewer kishtwar', 'galhar kishtwar',\n",
       "       'banihal kharpora', 'antola.  balhote',\n",
       "       'padder fanni kishtwar near by mandir', 'harog. sumber',\n",
       "       'granite ward no 1 near government primary school block ramban',\n",
       "       'kiru nagseni kishtwar', 'ramban duthan jagir ',\n",
       "       'tatani saroor kishtwar', 'dlothi drabshalla',\n",
       "       'kakoli ghan kishtwar', 'ro kishtwar hno 52 near govt hospital',\n",
       "       'upper thathri', 'kundi', 'path gam marwah kishtwar',\n",
       "       'lagri padder'], dtype=object)"
      ]
     },
     "execution_count": 64,
     "metadata": {},
     "output_type": "execute_result"
    }
   ],
   "source": [
    "data['Address'].unique()"
   ]
  },
  {
   "cell_type": "markdown",
   "id": "f5433149-74c5-41e3-9668-d6fb0634d8ba",
   "metadata": {},
   "source": [
    "> There is repetition of the same areas in the dataset, listed under different names or varying prefixes, which requires standardization for accurate analysis."
   ]
  },
  {
   "cell_type": "code",
   "execution_count": 65,
   "id": "8d63ef22-1bb3-454c-b89c-d9efec62911f",
   "metadata": {
    "scrolled": true
   },
   "outputs": [
    {
     "data": {
      "text/plain": [
       "Address\n",
       "kishtwar            9\n",
       "ramban              8\n",
       "dool kishtwar       8\n",
       "kanga               5\n",
       "ganote              3\n",
       "pernote             3\n",
       "paddar              3\n",
       "cherhar kishtwar    3\n",
       "poochal             3\n",
       "Name: count, dtype: int64"
      ]
     },
     "execution_count": 65,
     "metadata": {},
     "output_type": "execute_result"
    }
   ],
   "source": [
    "hotspot_address = data['Address'].value_counts()[lambda x: x>=3]\n",
    "hotspot_address "
   ]
  },
  {
   "cell_type": "markdown",
   "id": "dcf44a61-c855-4b78-b75a-d6754c3d22dc",
   "metadata": {},
   "source": [
    "> This pie chart shows the distribution of patient addresses. We observe repetition of the same areas listed under different names or with varying prefixes.\n"
   ]
  },
  {
   "cell_type": "code",
   "execution_count": 66,
   "id": "44f0d347-62e2-45a4-b888-81c2140ec2ec",
   "metadata": {},
   "outputs": [
    {
     "data": {
      "text/plain": [
       "<Axes: ylabel='count'>"
      ]
     },
     "execution_count": 66,
     "metadata": {},
     "output_type": "execute_result"
    },
    {
     "data": {
      "image/png": "[encoded data removed]",
      "text/plain": [
       "<Figure size 640x480 with 1 Axes>"
      ]
     },
     "metadata": {},
     "output_type": "display_data"
    }
   ],
   "source": [
    "(data['Address'].apply(lambda x: x if x in hotspot_address else 'other').value_counts()).plot(kind = 'pie')"
   ]
  },
  {
   "cell_type": "markdown",
   "id": "bb75e37d-1674-43ce-b529-7d2dc8e42abc",
   "metadata": {},
   "source": [
    "> To standardize address entries, mapping them to key locations based on keywords."
   ]
  },
  {
   "cell_type": "code",
   "execution_count": 67,
   "id": "7d47fa5f-5b0f-4776-852d-522189913227",
   "metadata": {},
   "outputs": [],
   "source": [
    "def address(cell):\n",
    "    if 'kishtwar' in cell:\n",
    "        return 'kishtwar'\n",
    "    elif 'paddar' in cell or 'padder' in cell:\n",
    "        return 'paddar'\n",
    "    elif 'ramban' in cell:\n",
    "        return 'ramban'\n",
    "    elif pd.isna('cell'):\n",
    "        return 'missing data'\n",
    "    else:\n",
    "      return 'other'"
   ]
  },
  {
   "cell_type": "code",
   "execution_count": 68,
   "id": "fb805ec8-8411-4e18-8303-6c2aa4e00bba",
   "metadata": {},
   "outputs": [
    {
     "data": {
      "text/plain": [
       "array(['vill- beramata p.o- kisthwar teh- distt- kisthwar j,k',\n",
       "       'bhatkoot', 'tuj pangi killar hp', '77 sector 70 mohali ',\n",
       "       'bunjwah', 'rehari colony near education board jammu',\n",
       "       'inshan warwan', 'singhpore chatroo', '  village palmar klishtwar',\n",
       "       'hurna', 'mulchittar', 'thakraie', 'jwalapur bonjwah',\n",
       "       'kharkoot nowgam', 'tanger', 'doda', 'singhpora',\n",
       "       'ban talab tillo amar colony h.no 56', 'sher bibi. wagan',\n",
       "       'main chowk banihal', 'poochal',\n",
       "       'banihal vill banquoot near g.g.h school w', 'sumber',\n",
       "       'seri ward no 1 near wasuk dev temple block bhadarwah', 'kanga',\n",
       "       'purkhoo', 'maitra', 'hatta', 'kunate',\n",
       "       'h.no 83 lane no 5d, upper shiv nagar', 'ganote',\n",
       "       'banihall chamalvass', 'rajgard 1', 'rajgardh1', 'pernote', 'nera',\n",
       "       'sigdhi bhalaana ', 'ward no 2 main bazar batyari block ram ban',\n",
       "       'seri.   telimajra', 'balote', 'chandroge', 'tiyari',\n",
       "       'h.no. 250 gujjar nagar', 'chanderkote', 'adwa', 'gandode',\n",
       "       'adwa18', 'seri', 'vill.sarthal near panchyat ghar',\n",
       "       'gawalo bellasa near govt primary school block gandoh', 'palmar',\n",
       "       'kurya', 'gam', 'rajgard', 'narwalbala, near shiv shakti temple',\n",
       "       'sangaldan', 'dundrath', 'chamalwas syeed pora', 'mohu lower a',\n",
       "       'palli', 'tatani saroor', 'bandarkoot palmar', 'banihal chapnari',\n",
       "       'halla', 'rajgarh', 'mulmula',\n",
       "       'dashnan ward no 7 near shiv mandir block doda', 'chabq',\n",
       "       'mangit nagandar', 'mahu banihal', 'udmpur', 'mangith banihal',\n",
       "       'gurha kalyal', 'marwah', 'doligam banihal', 'changloo banihal',\n",
       "       'duthan', 'kanthi', 'banihal chamalvas', 'chingaam chatroo',\n",
       "       'neutral tatar soon near shiva temple block rambaban', 'batote',\n",
       "       'bibrote', 'pali morh near govt middle school block bari brahmna',\n",
       "       'maitra ', 'binoon bunjwah', 'ramsoo', 'billawat',\n",
       "       'gure krah near masjid block gandoh district doda',\n",
       "       'banihal rallu', 'banihal duligam tantraypora', 'girls school ktr',\n",
       "       'karrora saroor', 'parnote',\n",
       "       'galab ghar near by siksha abyan school', 'tantraypora banihal',\n",
       "       'rajouri', 'phagumar janwas', 'thanacha dachhan',\n",
       "       'sangpore chatroo', 'zinhal', 'bathni', '  mugalmaidan', 'marvah',\n",
       "       'banihal chamalwas', 'kundi karol', 'kriya', 'bajmasta', 'gandri',\n",
       "       'teli majra', 'chapnari banihal', 'horna palmaar', 'galhaar',\n",
       "       'c/o : habib sheikh takia tethar banihal banihal', 'garh',\n",
       "       'banihal', 'ward 2', 'jamia masjid kistwar', 'mahoomangat banihal',\n",
       "       'tangaer', 'karol', 'alim bass', 'fagow', 'banihal kharpora',\n",
       "       'antola.  balhote', 'harog. sumber', 'dlothi drabshalla',\n",
       "       'upper thathri', 'kundi'], dtype=object)"
      ]
     },
     "execution_count": 68,
     "metadata": {},
     "output_type": "execute_result"
    }
   ],
   "source": [
    "data[data['Address'].apply(address) == 'other']['Address'].unique()"
   ]
  },
  {
   "cell_type": "markdown",
   "id": "d21e1267-bef6-4f25-a7f8-b5b48353f8f6",
   "metadata": {},
   "source": [
    "> Visualizing the adress column after conversion."
   ]
  },
  {
   "cell_type": "code",
   "execution_count": 69,
   "id": "a8cce7d0-5367-4aea-afb8-d084cfce99ff",
   "metadata": {},
   "outputs": [],
   "source": [
    "data['Address'] = data['Address'].apply(address)"
   ]
  },
  {
   "cell_type": "code",
   "execution_count": 70,
   "id": "a7247970-52b5-4558-86e5-03cf0f6fb0e0",
   "metadata": {},
   "outputs": [
    {
     "data": {
      "image/png": "[encoded data removed]",
      "text/plain": [
       "<Figure size 640x480 with 1 Axes>"
      ]
     },
     "metadata": {},
     "output_type": "display_data"
    }
   ],
   "source": [
    "data['Address'].value_counts(normalize = True).mul(100).plot(kind='bar', color='skyblue', edgecolor='black')\n",
    "plt.title('Address Distribution of the Patients')\n",
    "plt.xlabel('Address')\n",
    "plt.ylabel('Count')\n",
    "plt.tight_layout()"
   ]
  },
  {
   "cell_type": "markdown",
   "id": "56f43ccd-2d57-4d43-8c99-285ac4b95761",
   "metadata": {},
   "source": [
    "##### Key Findings: \n",
    "\n",
    "- Most TB patients are from smaller or unspecified localities grouped under \"other,\".\n",
    "- Kishtwar is the most frequently identified specific address among the listed areas\n",
    "- Few cases reported from Ramban and Paddar."
   ]
  },
  {
   "cell_type": "markdown",
   "id": "dc4c11f8-0bb4-4b04-9031-f4f7d728dd50",
   "metadata": {},
   "source": [
    "#### 2.3 \n",
    "> Examining the Age column to understand the distribution,"
   ]
  },
  {
   "cell_type": "code",
   "execution_count": 71,
   "id": "fbf2ec5b-c4d1-44fe-bbef-112995980407",
   "metadata": {},
   "outputs": [
    {
     "data": {
      "text/plain": [
       "0      70\n",
       "1      24\n",
       "2      60\n",
       "4      18\n",
       "5      48\n",
       "       ..\n",
       "906    39\n",
       "907    38\n",
       "908    35\n",
       "909    40\n",
       "911    19\n",
       "Name: Age, Length: 362, dtype: object"
      ]
     },
     "execution_count": 71,
     "metadata": {},
     "output_type": "execute_result"
    }
   ],
   "source": [
    "data['Age']"
   ]
  },
  {
   "cell_type": "markdown",
   "id": "f02112fb-30aa-473a-9dce-bfdeb3097e1c",
   "metadata": {},
   "source": [
    "> Creating 'age_group' column by converting the continuous Age column into **categorical bins**, to improve interpretability."
   ]
  },
  {
   "cell_type": "code",
   "execution_count": 72,
   "id": "87a0f8d5-59ba-4852-8f98-89ee5195730a",
   "metadata": {},
   "outputs": [],
   "source": [
    "def age_groups(cell):\n",
    "    if pd.isna(cell):\n",
    "        return 'missing data'\n",
    "    elif cell <13:\n",
    "        return 'children'\n",
    "    elif 13 <= cell < 18:\n",
    "        return 'youth'\n",
    "    elif 18 <= cell < 45:\n",
    "        return 'Young Adults'\n",
    "    elif 45 <= cell < 65:\n",
    "        return ' Middle-Aged Adults'\n",
    "    else:\n",
    "        return 'senior citizens'"
   ]
  },
  {
   "cell_type": "code",
   "execution_count": 73,
   "id": "ab961dec-c5b4-47ec-9487-1c0a74897beb",
   "metadata": {},
   "outputs": [],
   "source": [
    "data['age_group'] = data['Age'].apply(age_groups)"
   ]
  },
  {
   "cell_type": "markdown",
   "id": "5c1b5f58-6e10-45a3-8369-9f4aaffcc4a4",
   "metadata": {},
   "source": [
    "> Plotting a pie chart of 'age_group' column to examine the distribution of the age. "
   ]
  },
  {
   "cell_type": "code",
   "execution_count": 74,
   "id": "84ad662b-7765-472d-8ec6-c0a23988937b",
   "metadata": {
    "scrolled": true
   },
   "outputs": [
    {
     "data": {
      "image/png": "[encoded data removed]",
      "text/plain": [
       "<Figure size 640x480 with 1 Axes>"
      ]
     },
     "metadata": {},
     "output_type": "display_data"
    }
   ],
   "source": [
    "plt.pie(data['age_group'].value_counts(), \n",
    "        labels=data['age_group'].value_counts().index,\n",
    "        autopct='%1.1f%%',\n",
    "        startangle=90,\n",
    "        colors=sns.color_palette('Set2'),\n",
    "        wedgeprops=dict(width=0.3))\n",
    "\n",
    "plt.title('TB Age Group Distribution', fontsize=16)\n",
    "\n",
    "\n",
    "plt.show()"
   ]
  },
  {
   "cell_type": "markdown",
   "id": "56c9aa22-1007-4c84-aaff-533ece01f6a0",
   "metadata": {},
   "source": [
    "#### Key findings: \n",
    "- Young Adults (18-45 years) form the largest group of TB cases at 55%.\n",
    "- Middle-Aged Adults (45-65 years) account for 22.7% of cases, followed by senior citizens, youth and children."
   ]
  },
  {
   "cell_type": "code",
   "execution_count": 75,
   "id": "001709a1-2f90-4e95-8ce8-b7134cf9ac6f",
   "metadata": {},
   "outputs": [
    {
     "data": {
      "text/plain": [
       "Tretment Start Date\n",
       "NaT           203\n",
       "1970-01-01    119\n",
       "2024-08-03      3\n",
       "2024-08-28      3\n",
       "2024-07-31      3\n",
       "2024-08-01      2\n",
       "2024-08-05      2\n",
       "2024-07-16      2\n",
       "2024-07-10      2\n",
       "2024-08-06      2\n",
       "2024-07-12      2\n",
       "2024-08-07      2\n",
       "2024-07-02      2\n",
       "2024-07-29      2\n",
       "2024-08-27      1\n",
       "2024-08-10      1\n",
       "2024-08-19      1\n",
       "2024-07-08      1\n",
       "2024-07-20      1\n",
       "2024-07-15      1\n",
       "2024-07-11      1\n",
       "2024-08-21      1\n",
       "2024-08-24      1\n",
       "2024-07-18      1\n",
       "2024-07-22      1\n",
       "2024-07-06      1\n",
       "2024-07-19      1\n",
       "Name: count, dtype: int64"
      ]
     },
     "execution_count": 75,
     "metadata": {},
     "output_type": "execute_result"
    }
   ],
   "source": [
    "data['Tretment Start Date'].value_counts(dropna = False)"
   ]
  },
  {
   "cell_type": "code",
   "execution_count": 76,
   "id": "f23a1c33-ce4d-42e6-a230-c3cc6ea23b74",
   "metadata": {},
   "outputs": [
    {
     "data": {
      "text/plain": [
       "Diagnosis Date\n",
       "2024-03-01    8\n",
       "2024-02-02    6\n",
       "2024-06-12    6\n",
       "2024-06-24    6\n",
       "2024-05-07    5\n",
       "             ..\n",
       "2024-03-26    1\n",
       "2024-04-07    1\n",
       "2024-03-08    1\n",
       "2024-02-21    1\n",
       "2024-03-20    1\n",
       "Name: count, Length: 161, dtype: int64"
      ]
     },
     "execution_count": 76,
     "metadata": {},
     "output_type": "execute_result"
    }
   ],
   "source": [
    "data['Diagnosis Date'].value_counts(dropna = False)"
   ]
  },
  {
   "cell_type": "code",
   "execution_count": 77,
   "id": "4c4ae744-0af8-4147-973a-75210eca2232",
   "metadata": {},
   "outputs": [
    {
     "data": {
      "text/plain": [
       "Weight\n",
       "160.00    62\n",
       "165.00    56\n",
       "156.00    25\n",
       "146.01    18\n",
       "169.00    17\n",
       "          ..\n",
       "145.00     1\n",
       "142.00     1\n",
       "182.00     1\n",
       "130.00     1\n",
       "183.00     1\n",
       "Name: count, Length: 79, dtype: int64"
      ]
     },
     "execution_count": 77,
     "metadata": {},
     "output_type": "execute_result"
    }
   ],
   "source": [
    "data['Weight'].value_counts()"
   ]
  },
  {
   "cell_type": "code",
   "execution_count": 78,
   "id": "a2056e2e-7709-4044-81fd-22a3b7a8b8a5",
   "metadata": {},
   "outputs": [
    {
     "data": {
      "text/plain": [
       "array([146.01,  52.  ,  58.  ,  32.  ,  43.  ,  60.  ,  42.  ,  47.  ,\n",
       "        53.  ,  49.  ,  61.  ,  40.  ,  35.  ,  44.  ,  21.  ,  36.  ,\n",
       "        97.  ,  50.  ,  64.  ,  48.  ,  54.  ,  66.  ,  46.  ,  39.  ,\n",
       "        33.  ,  63.  ,  24.  ,   5.  , 169.  , 165.  , 156.  , 170.  ,\n",
       "       178.  , 162.  , 160.  , 152.  , 153.  , 158.  ,  90.  , 172.  ,\n",
       "       159.  , 145.  , 155.  , 142.  , 157.  , 182.  ,  88.  , 130.  ,\n",
       "       166.  , 175.  , 180.  , 163.  , 168.  , 136.  , 167.  , 151.  ,\n",
       "       148.  , 164.  , 179.  , 176.  , 181.  ,  96.  ,  89.  , 185.  ,\n",
       "       188.  , 184.  , 187.  , 150.  , 108.  , 149.  , 120.  ,  82.  ,\n",
       "       123.  , 138.  , 144.  ,  98.  ,  70.  , 122.  , 183.  ])"
      ]
     },
     "execution_count": 78,
     "metadata": {},
     "output_type": "execute_result"
    }
   ],
   "source": [
    "data['Weight'].unique()"
   ]
  },
  {
   "cell_type": "markdown",
   "id": "a53698de-c6b3-4470-8c26-a1020fb86406",
   "metadata": {},
   "source": [
    "#### Key findings\n",
    "- Very less data on treatment start date and diagostic date which could introduce bias.\n",
    "- The weight column contains several suspicious values. While many entries fall within a realistic human weight range (30–90 kg), others appear to be misentered "
   ]
  },
  {
   "cell_type": "markdown",
   "id": "7151017c-b33a-4e98-9346-9615269a715a",
   "metadata": {},
   "source": [
    "#### Conclusion 1 based on univariate analysis\n",
    "\n",
    "- The majority of patients, about 50.8%, are from the District Tuberculosis Unit (DTC) in Kishtwar, with a smaller but significant proportion (41.8%) from Ramban and 7.4% from Paddar TU.\n",
    "- Patients admitted to all three TUs were mostly diagnosed in Doda District(64.8%), with a significant number from Jammu (22.4%) and nearby areas (2%). Some also came from Kashmir and surrounding regions (10%), but most were from Jammu and Kashmir.\n",
    "- Approximately 82.2% were diagnosed through public healthcare centers.\n",
    "- The majority of TB-infected patients are male(61.7%).\n",
    "- Most cases used \"other\" and trunat (mtb-rif) methods, followed by chest x-ray and microscopy, using many other diagnostic methods.\n",
    "- Approximately 10% of the patient's TB site information is missing, however around 71.9% are new cases, and 12% have either pulmonary or extra-pulmonary sites. There are also some retreatment cases(6.5%).\n",
    "- The majority portion of TB patients have active pulmonary HIV(52.7%), and a significant proportion(30.3%) have extra-pulmonary. Only 11.7% of the TB patients have non-reactive HIV. Almost 5% of the patient's HIV status is not confirmed.\n",
    "- A significant proportion of the diagnosed patients' treatment status is missing. However, many patients did start the treatment process, but few were not able to recieve any healthcare, due to reasons like already being cured, death, or other factors.\n",
    "- Around 38.3% of the TB patients are from Kishtwar, 15% from Ramban, and 4.6% from Paddar. The rest of the population has either not given a valid address or lives somewhere else.\n",
    "- Young Adults (18-45 years) form the largest group of TB cases at 54.9%, Middle-Aged Adults (45-65 years) account for 22.95% of cases, followed by senior citizens, youth and children. "
   ]
  },
  {
   "cell_type": "markdown",
   "id": "ba1cfbfd-505a-49ce-9776-1f62ebb797e1",
   "metadata": {},
   "source": [
    "## 3. Bivariate analysis "
   ]
  },
  {
   "cell_type": "code",
   "execution_count": 79,
   "id": "01c13860-d53d-451b-b758-d010ec4324f6",
   "metadata": {},
   "outputs": [
    {
     "name": "stdout",
     "output_type": "stream",
     "text": [
      "<class 'pandas.core.frame.DataFrame'>\n",
      "Index: 362 entries, 0 to 911\n",
      "Data columns (total 16 columns):\n",
      " #   Column                         Non-Null Count  Dtype         \n",
      "---  ------                         --------------  -----         \n",
      " 0   TU                             362 non-null    object        \n",
      " 1   Diagnosed from which Facility  362 non-null    object        \n",
      " 2   Public/Private                 362 non-null    object        \n",
      " 3   Address                        362 non-null    object        \n",
      " 4   Diagnosis Date                 362 non-null    datetime64[ns]\n",
      " 5   Age                            362 non-null    object        \n",
      " 6   Gender                         362 non-null    object        \n",
      " 7   Type                           362 non-null    object        \n",
      " 8   Site                           362 non-null    object        \n",
      " 9   HIV Status                     362 non-null    object        \n",
      " 10  TB Drug Regimen                40 non-null     object        \n",
      " 11  Tretment Start Date            159 non-null    datetime64[ns]\n",
      " 12  Weight                         362 non-null    float64       \n",
      " 13  col_x                          362 non-null    float64       \n",
      " 14  Tretment Status                362 non-null    object        \n",
      " 15  age_group                      362 non-null    object        \n",
      "dtypes: datetime64[ns](2), float64(2), object(12)\n",
      "memory usage: 48.1+ KB\n"
     ]
    }
   ],
   "source": [
    "data.info()"
   ]
  },
  {
   "cell_type": "code",
   "execution_count": 80,
   "id": "fea9b648-40ae-492d-b05b-e8223bb1e8d0",
   "metadata": {},
   "outputs": [
    {
     "data": {
      "text/plain": [
       "Index(['TU', 'Diagnosed from which Facility', 'Public/Private', 'Address',\n",
       "       'Diagnosis Date', 'Age', 'Gender', 'Type', 'Site', 'HIV Status',\n",
       "       'TB Drug Regimen', 'Tretment Start Date', 'Weight', 'col_x',\n",
       "       'Tretment Status', 'age_group'],\n",
       "      dtype='object', name=1)"
      ]
     },
     "execution_count": 80,
     "metadata": {},
     "output_type": "execute_result"
    }
   ],
   "source": [
    "data.columns"
   ]
  },
  {
   "cell_type": "code",
   "execution_count": 81,
   "id": "fb75dcb5-98fc-47bf-9e3a-7b7fd8385f90",
   "metadata": {},
   "outputs": [],
   "source": [
    "cat_col1 = ['Diagnosed from which Facility', 'Public/Private', 'Address',\n",
    "       'Gender', 'Type', 'Site', 'HIV Status','col_x',\n",
    "       'Tretment Status', 'age_group']"
   ]
  },
  {
   "cell_type": "markdown",
   "id": "3029447e-f949-42e5-9622-61b944267600",
   "metadata": {},
   "source": [
    "#### 3.1 Treatment Units (TUs) Vs other columns\n",
    "\n",
    "> Analyzing the relationship between Treatment Units (TUs) and other categorical columns using cross-tabulation to identify patterns and associations in the data"
   ]
  },
  {
   "cell_type": "code",
   "execution_count": 82,
   "id": "6a151761-4d41-4e1e-b2b3-a3fd19c6de68",
   "metadata": {
    "scrolled": true
   },
   "outputs": [
    {
     "name": "stdout",
     "output_type": "stream",
     "text": [
      " \n",
      "This table shows the cross-tabulation between Diagnosed from which Facility and TU.\n",
      "TU                             dtc kishtwar  padder  ramban\n",
      "Diagnosed from which Facility                              \n",
      "anantnag                                  2       0      18\n",
      "baramulla                                 0       0       2\n",
      "chandigarh                                2       1       1\n",
      "doda                                    136       8      89\n",
      "jammu                                    36      17      29\n",
      "kathua                                    1       0       0\n",
      "srinagar                                  5       1       9\n",
      "udhampur                                  0       0       5\n",
      " \n",
      "******************************\n",
      " \n",
      "This table shows the cross-tabulation between Public/Private and TU.\n",
      "TU              dtc kishtwar  padder  ramban\n",
      "Public/Private                              \n",
      "private                   40       6      15\n",
      "public                   142      21     138\n",
      " \n",
      "******************************\n",
      " \n",
      "This table shows the cross-tabulation between Address and TU.\n",
      "TU        dtc kishtwar  padder  ramban\n",
      "Address                               \n",
      "kishtwar           126      10       0\n",
      "other               48       6     100\n",
      "paddar               6      11       0\n",
      "ramban               2       0      53\n",
      " \n",
      "******************************\n",
      " \n",
      "This table shows the cross-tabulation between Gender and TU.\n",
      "TU      dtc kishtwar  padder  ramban\n",
      "Gender                              \n",
      "female            75      10      54\n",
      "male             107      17      99\n",
      " \n",
      "******************************\n",
      " \n",
      "This table shows the cross-tabulation between Type and TU.\n",
      "TU                             dtc kishtwar  padder  ramban\n",
      "Type                                                       \n",
      "cbnaat                                   11       2       5\n",
      "chest x ray                              21       2      24\n",
      "cytopathology                            13       3       1\n",
      "f line lpa                                2       0       0\n",
      "histopathology                            0       0       3\n",
      "microscopy zn and fluorescent            27       5      14\n",
      "new                                      32       0       0\n",
      "other                                    51      10      28\n",
      "retreatment: recurrent                    9       0       0\n",
      "trunat (mtb)                              1       1      11\n",
      "trunat (mtb-rif)                         15       4      67\n",
      " \n",
      "******************************\n",
      " \n",
      "This table shows the cross-tabulation between Site and TU.\n",
      "TU                      dtc kishtwar  padder  ramban\n",
      "Site                                                \n",
      "extra pulmonary                   18       0       0\n",
      "nan                               18       3      14\n",
      "new                              110      24     129\n",
      "pulmonary                         22       0       0\n",
      "retreatment: others                2       0       8\n",
      "retreatment: recurrent            12       0       2\n",
      " \n",
      "******************************\n",
      " \n",
      "This table shows the cross-tabulation between HIV Status and TU.\n",
      "TU               dtc kishtwar  padder  ramban\n",
      "HIV Status                                   \n",
      "extra pulmonary            61      13      37\n",
      "missing data                9       0       8\n",
      "non-reactive               39       0       0\n",
      "pulmonary                  71      14     108\n",
      "unknown                     2       0       0\n",
      " \n",
      "******************************\n",
      " \n",
      "This table shows the cross-tabulation between col_x and TU.\n",
      "TU     dtc kishtwar  padder  ramban\n",
      "col_x                              \n",
      "0.0              41       0       0\n",
      "1.0             141      27     153\n",
      " \n",
      "******************************\n",
      " \n",
      "This table shows the cross-tabulation between Tretment Status and TU.\n",
      "TU                             dtc kishtwar  padder  ramban\n",
      "Tretment Status                                            \n",
      "CURED                                     0       3      51\n",
      "DIED                                      2       1       3\n",
      "LOST_TO_FOLLOW_UP                         0       0       1\n",
      "NOT_EVALUATED                             5       0       1\n",
      "TREATMENT_COMPLETE                       14       5      24\n",
      "TREATMENT_REGIMEN_CHANGED                 0       0       2\n",
      "UNTRACEABLE_INCORRECT_ADDRESS             0       0       1\n",
      "WRONGLY_DIAGNOSED                         2       0       4\n",
      "missing data                            119      18      66\n",
      "started                                  40       0       0\n",
      " \n",
      "******************************\n",
      " \n",
      "This table shows the cross-tabulation between age_group and TU.\n",
      "TU                   dtc kishtwar  padder  ramban\n",
      "age_group                                        \n",
      " Middle-Aged Adults            38       5      39\n",
      "Young Adults                  105      16      78\n",
      "children                        4       1       6\n",
      "senior citizens                22       2      16\n",
      "youth                          13       3      14\n",
      " \n",
      "******************************\n"
     ]
    }
   ],
   "source": [
    "for i in cat_col1:\n",
    "    print(' ')\n",
    "    print(f'This table shows the cross-tabulation between {i} and TU.')\n",
    "    print(pd.crosstab(data[i], data['TU']))\n",
    "    print(' ')\n",
    "    print('*'*30)"
   ]
  },
  {
   "cell_type": "markdown",
   "id": "f8eeaad8-4331-43a0-b696-7395618002bc",
   "metadata": {},
   "source": [
    "##### Observation\n",
    "\n",
    "- DTC Kishtwar cases mostly diagnosed in Doda; Padder from Jammu; Ramban from Doda.\n",
    "\n",
    "- Majority of cases in all TUs diagnosed via public healthcare.\n",
    "\n",
    "- Males are more affected across all TUs.\n",
    "\n",
    "- Multiple diagnostic methods are used.\n",
    "\n",
    "- Young adults (18–35 years) are the most affected group."
   ]
  },
  {
   "cell_type": "markdown",
   "id": "34853976-4478-48e4-96f5-6757bbf11ceb",
   "metadata": {},
   "source": [
    "#### 3.2 Diagonestic ceter Vs other columns\n",
    "> Analyzing the relationship between the type of diagonestic center (Public/Private) and other categorical columns using cross-tabulation"
   ]
  },
  {
   "cell_type": "code",
   "execution_count": 83,
   "id": "606b562e-47c5-4740-ab74-2ca016293e0d",
   "metadata": {},
   "outputs": [],
   "source": [
    "cat_col2 = ['Address', 'Gender', 'Type', 'Site', 'HIV Status','col_x',\n",
    "       'Tretment Status', 'age_group']"
   ]
  },
  {
   "cell_type": "code",
   "execution_count": 84,
   "id": "3bf93536-679c-4021-a451-74a61b463f00",
   "metadata": {},
   "outputs": [
    {
     "name": "stdout",
     "output_type": "stream",
     "text": [
      " \n",
      "This table shows the cross-tabulation between Address and from which facility did the patient got diagnosed from (Public/Private).\n",
      "Public/Private  private  public\n",
      "Address                        \n",
      "kishtwar             36     100\n",
      "other                14     140\n",
      "paddar                3      14\n",
      "ramban                8      47\n",
      " \n",
      "******************************\n",
      " \n",
      "This table shows the cross-tabulation between Gender and from which facility did the patient got diagnosed from (Public/Private).\n",
      "Public/Private  private  public\n",
      "Gender                         \n",
      "female               23     116\n",
      "male                 38     185\n",
      " \n",
      "******************************\n",
      " \n",
      "This table shows the cross-tabulation between Type and from which facility did the patient got diagnosed from (Public/Private).\n",
      "Public/Private                 private  public\n",
      "Type                                          \n",
      "cbnaat                               2      16\n",
      "chest x ray                         14      33\n",
      "cytopathology                       12       5\n",
      "f line lpa                           0       2\n",
      "histopathology                       1       2\n",
      "microscopy zn and fluorescent        7      39\n",
      "new                                  6      26\n",
      "other                               13      76\n",
      "retreatment: recurrent               2       7\n",
      "trunat (mtb)                         0      13\n",
      "trunat (mtb-rif)                     4      82\n",
      " \n",
      "******************************\n",
      " \n",
      "This table shows the cross-tabulation between Site and from which facility did the patient got diagnosed from (Public/Private).\n",
      "Public/Private          private  public\n",
      "Site                                   \n",
      "extra pulmonary               5      13\n",
      "nan                          16      19\n",
      "new                          35     228\n",
      "pulmonary                     3      19\n",
      "retreatment: others           0      10\n",
      "retreatment: recurrent        2      12\n",
      " \n",
      "******************************\n",
      " \n",
      "This table shows the cross-tabulation between HIV Status and from which facility did the patient got diagnosed from (Public/Private).\n",
      "Public/Private   private  public\n",
      "HIV Status                      \n",
      "extra pulmonary       26      85\n",
      "missing data           3      14\n",
      "non-reactive           8      31\n",
      "pulmonary             24     169\n",
      "unknown                0       2\n",
      " \n",
      "******************************\n",
      " \n",
      "This table shows the cross-tabulation between col_x and from which facility did the patient got diagnosed from (Public/Private).\n",
      "Public/Private  private  public\n",
      "col_x                          \n",
      "0.0                   8      33\n",
      "1.0                  53     268\n",
      " \n",
      "******************************\n",
      " \n",
      "This table shows the cross-tabulation between Tretment Status and from which facility did the patient got diagnosed from (Public/Private).\n",
      "Public/Private                 private  public\n",
      "Tretment Status                               \n",
      "CURED                                3      51\n",
      "DIED                                 2       4\n",
      "LOST_TO_FOLLOW_UP                    0       1\n",
      "NOT_EVALUATED                        2       4\n",
      "TREATMENT_COMPLETE                   7      36\n",
      "TREATMENT_REGIMEN_CHANGED            0       2\n",
      "UNTRACEABLE_INCORRECT_ADDRESS        1       0\n",
      "WRONGLY_DIAGNOSED                    0       6\n",
      "missing data                        38     165\n",
      "started                              8      32\n",
      " \n",
      "******************************\n",
      " \n",
      "This table shows the cross-tabulation between age_group and from which facility did the patient got diagnosed from (Public/Private).\n",
      "Public/Private       private  public\n",
      "age_group                           \n",
      " Middle-Aged Adults       14      68\n",
      "Young Adults              28     171\n",
      "children                   2       9\n",
      "senior citizens           10      30\n",
      "youth                      7      23\n",
      " \n",
      "******************************\n"
     ]
    }
   ],
   "source": [
    "for i in cat_col2:\n",
    "    print(' ')\n",
    "    print(f'This table shows the cross-tabulation between {i} and from which facility did the patient got diagnosed from (Public/Private).')\n",
    "    print(pd.crosstab(data[i], data['Public/Private']))\n",
    "    print(' ')\n",
    "    print('*'*30)"
   ]
  },
  {
   "cell_type": "markdown",
   "id": "99736110-8307-419c-8b00-0267726f1091",
   "metadata": {},
   "source": [
    "##### Observations\n",
    "- Most patients are diagnosed and treated in public facilities\n",
    "- Males dominate in both sectors\n",
    "- Majority of cases are new, with more retreatment in public\n",
    "- Public sector shows better treatment recording and more cured cases.\n",
    "- Young adults are the most affected in both sectors."
   ]
  },
  {
   "cell_type": "markdown",
   "id": "280a94b2-1a6f-42b9-98a9-14337c3d0c41",
   "metadata": {},
   "source": [
    "#### 3.3 Adress Vs other columns \n",
    "> Analyzing the relationship between the adress of the patient and other categorical columns using cross-tabulation"
   ]
  },
  {
   "cell_type": "code",
   "execution_count": 85,
   "id": "a579eb12-3c12-4959-8d97-dcb9f7d726fd",
   "metadata": {},
   "outputs": [
    {
     "name": "stdout",
     "output_type": "stream",
     "text": [
      " \n",
      "This table shows the cross-tabulation between Address and the address of the patients.\n",
      "Address   kishtwar  other  paddar  ramban\n",
      "Address                                  \n",
      "kishtwar       136      0       0       0\n",
      "other            0    154       0       0\n",
      "paddar           0      0      17       0\n",
      "ramban           0      0       0      55\n",
      " \n",
      "******************************\n",
      " \n",
      "This table shows the cross-tabulation between Gender and the address of the patients.\n",
      "Address  kishtwar  other  paddar  ramban\n",
      "Gender                                  \n",
      "female         53     64       6      16\n",
      "male           83     90      11      39\n",
      " \n",
      "******************************\n",
      " \n",
      "This table shows the cross-tabulation between Type and the address of the patients.\n",
      "Address                        kishtwar  other  paddar  ramban\n",
      "Type                                                          \n",
      "cbnaat                                7      7       0       4\n",
      "chest x ray                          16     25       1       5\n",
      "cytopathology                        11      3       2       1\n",
      "f line lpa                            1      1       0       0\n",
      "histopathology                        0      1       0       2\n",
      "microscopy zn and fluorescent        23     12       4       7\n",
      "new                                  20     10       2       0\n",
      "other                                36     36       7      10\n",
      "retreatment: recurrent                6      3       0       0\n",
      "trunat (mtb)                          0     11       0       2\n",
      "trunat (mtb-rif)                     16     45       1      24\n",
      " \n",
      "******************************\n",
      " \n",
      "This table shows the cross-tabulation between Site and the address of the patients.\n",
      "Address                 kishtwar  other  paddar  ramban\n",
      "Site                                                   \n",
      "extra pulmonary               13      4       1       0\n",
      "nan                           18     10       2       5\n",
      "new                           83    127      12      41\n",
      "pulmonary                     12      9       1       0\n",
      "retreatment: others            2      2       0       6\n",
      "retreatment: recurrent         8      2       1       3\n",
      " \n",
      "******************************\n",
      " \n",
      "This table shows the cross-tabulation between HIV Status and the address of the patients.\n",
      "Address          kishtwar  other  paddar  ramban\n",
      "HIV Status                                      \n",
      "extra pulmonary        45     42       9      15\n",
      "missing data            3      9       0       5\n",
      "non-reactive           24     13       2       0\n",
      "pulmonary              62     90       6      35\n",
      "unknown                 2      0       0       0\n",
      " \n",
      "******************************\n",
      " \n",
      "This table shows the cross-tabulation between col_x and the address of the patients.\n",
      "Address  kishtwar  other  paddar  ramban\n",
      "col_x                                   \n",
      "0.0            26     13       2       0\n",
      "1.0           110    141      15      55\n",
      " \n",
      "******************************\n",
      " \n",
      "This table shows the cross-tabulation between Tretment Status and the address of the patients.\n",
      "Address                        kishtwar  other  paddar  ramban\n",
      "Tretment Status                                               \n",
      "CURED                                 2     38       0      14\n",
      "DIED                                  3      3       0       0\n",
      "LOST_TO_FOLLOW_UP                     0      1       0       0\n",
      "NOT_EVALUATED                         2      2       0       2\n",
      "TREATMENT_COMPLETE                   10     19       3      11\n",
      "TREATMENT_REGIMEN_CHANGED             0      1       0       1\n",
      "UNTRACEABLE_INCORRECT_ADDRESS         0      0       0       1\n",
      "WRONGLY_DIAGNOSED                     0      5       0       1\n",
      "missing data                         94     72      12      25\n",
      "started                              25     13       2       0\n",
      " \n",
      "******************************\n",
      " \n",
      "This table shows the cross-tabulation between age_group and the address of the patients.\n",
      "Address              kishtwar  other  paddar  ramban\n",
      "age_group                                           \n",
      " Middle-Aged Adults        26     38       2      16\n",
      "Young Adults               83     83       7      26\n",
      "children                    4      5       0       2\n",
      "senior citizens            17     14       3       6\n",
      "youth                       6     14       5       5\n",
      " \n",
      "******************************\n"
     ]
    }
   ],
   "source": [
    "cat_col3 = ['Gender', 'Type', 'Site', 'HIV Status','col_x',\n",
    "       'Tretment Status', 'age_group']\n",
    "\n",
    "for i in cat_col2:\n",
    "    print(' ')\n",
    "    print(f'This table shows the cross-tabulation between {i} and the address of the patients.')\n",
    "    print(pd.crosstab(data[i], data['Address']))\n",
    "    print(' ')\n",
    "    print('*'*30)"
   ]
  },
  {
   "cell_type": "markdown",
   "id": "4ed155cf-9aa6-41f3-a328-82312a772c35",
   "metadata": {},
   "source": [
    "##### Observations\n",
    "- Patients mostly receive care in their own region (e.g., Kishtwar → Kishtwar, Ramban → Ramban).\n",
    "- Males outnumber females across all addresses.\n",
    "- Young adults are the most affected group, followed by middle-aged adults."
   ]
  },
  {
   "cell_type": "markdown",
   "id": "5d0bbcb8-0b5a-44c6-b086-d83e2d15c6a9",
   "metadata": {},
   "source": [
    "#### 3.4 Gender Vs other columns\n",
    "> Analyzing the relationship between Gender of the patients and other categorical columns using cross-tabulation"
   ]
  },
  {
   "cell_type": "code",
   "execution_count": 86,
   "id": "761a7097-2c19-46a2-be4f-7da3b54cab28",
   "metadata": {},
   "outputs": [
    {
     "name": "stdout",
     "output_type": "stream",
     "text": [
      " \n",
      "This table shows the cross-tabulation between Address and Gender of the patients.\n",
      "Gender    female  male\n",
      "Address               \n",
      "kishtwar      53    83\n",
      "other         64    90\n",
      "paddar         6    11\n",
      "ramban        16    39\n",
      " \n",
      "******************************\n",
      " \n",
      "This table shows the cross-tabulation between Gender and Gender of the patients.\n",
      "Gender  female  male\n",
      "Gender              \n",
      "female     139     0\n",
      "male         0   223\n",
      " \n",
      "******************************\n",
      " \n",
      "This table shows the cross-tabulation between Type and Gender of the patients.\n",
      "Gender                         female  male\n",
      "Type                                       \n",
      "cbnaat                             11     7\n",
      "chest x ray                        16    31\n",
      "cytopathology                      10     7\n",
      "f line lpa                          1     1\n",
      "histopathology                      2     1\n",
      "microscopy zn and fluorescent      19    27\n",
      "new                                14    18\n",
      "other                              32    57\n",
      "retreatment: recurrent              4     5\n",
      "trunat (mtb)                        4     9\n",
      "trunat (mtb-rif)                   26    60\n",
      " \n",
      "******************************\n",
      " \n",
      "This table shows the cross-tabulation between Site and Gender of the patients.\n",
      "Gender                  female  male\n",
      "Site                                \n",
      "extra pulmonary              9     9\n",
      "nan                         10    25\n",
      "new                        104   159\n",
      "pulmonary                    9    13\n",
      "retreatment: others          2     8\n",
      "retreatment: recurrent       5     9\n",
      " \n",
      "******************************\n",
      " \n",
      "This table shows the cross-tabulation between HIV Status and Gender of the patients.\n",
      "Gender           female  male\n",
      "HIV Status                   \n",
      "extra pulmonary      38    73\n",
      "missing data          8     9\n",
      "non-reactive         17    22\n",
      "pulmonary            75   118\n",
      "unknown               1     1\n",
      " \n",
      "******************************\n",
      " \n",
      "This table shows the cross-tabulation between col_x and Gender of the patients.\n",
      "Gender  female  male\n",
      "col_x               \n",
      "0.0         18    23\n",
      "1.0        121   200\n",
      " \n",
      "******************************\n",
      " \n",
      "This table shows the cross-tabulation between Tretment Status and Gender of the patients.\n",
      "Gender                         female  male\n",
      "Tretment Status                            \n",
      "CURED                              15    39\n",
      "DIED                                2     4\n",
      "LOST_TO_FOLLOW_UP                   0     1\n",
      "NOT_EVALUATED                       2     4\n",
      "TREATMENT_COMPLETE                 18    25\n",
      "TREATMENT_REGIMEN_CHANGED           1     1\n",
      "UNTRACEABLE_INCORRECT_ADDRESS       0     1\n",
      "WRONGLY_DIAGNOSED                   4     2\n",
      "missing data                       79   124\n",
      "started                            18    22\n",
      " \n",
      "******************************\n",
      " \n",
      "This table shows the cross-tabulation between age_group and Gender of the patients.\n",
      "Gender               female  male\n",
      "age_group                        \n",
      " Middle-Aged Adults      25    57\n",
      "Young Adults             80   119\n",
      "children                  9     2\n",
      "senior citizens          12    28\n",
      "youth                    13    17\n",
      " \n",
      "******************************\n"
     ]
    }
   ],
   "source": [
    "cat_col4 = ['Type', 'Site', 'HIV Status','col_x',\n",
    "       'Tretment Status', 'age_group']\n",
    "\n",
    "for i in cat_col2:\n",
    "    print(' ')\n",
    "    print(f'This table shows the cross-tabulation between {i} and Gender of the patients.')\n",
    "    print(pd.crosstab(data[i], data['Gender']))\n",
    "    print(' ')\n",
    "    print('*'*30)"
   ]
  },
  {
   "cell_type": "markdown",
   "id": "4435c157-4aea-45a3-85d4-d009e3fefb12",
   "metadata": {},
   "source": [
    "##### Observation\n",
    "- This table presents the cross-tabulation of patients' treatment status and age group. We observe that a significant amount of data appears to be missing."
   ]
  },
  {
   "cell_type": "markdown",
   "id": "44335faf-5b6f-49ed-8d3c-9740b97999e0",
   "metadata": {},
   "source": [
    "#### 3.5\n",
    ">Analyzing the relationship between Treatment Status and age_group using cross-tabulation"
   ]
  },
  {
   "cell_type": "code",
   "execution_count": 87,
   "id": "fc886417-04c8-462b-9dca-2e6ef1181486",
   "metadata": {
    "scrolled": true
   },
   "outputs": [
    {
     "data": {
      "text/html": [
       "<div>\n",
       "<style scoped>\n",
       "    .dataframe tbody tr th:only-of-type {\n",
       "        vertical-align: middle;\n",
       "    }\n",
       "\n",
       "    .dataframe tbody tr th {\n",
       "        vertical-align: top;\n",
       "    }\n",
       "\n",
       "    .dataframe thead th {\n",
       "        text-align: right;\n",
       "    }\n",
       "</style>\n",
       "<table border=\"1\" class=\"dataframe\">\n",
       "  <thead>\n",
       "    <tr style=\"text-align: right;\">\n",
       "      <th>age_group</th>\n",
       "      <th>Middle-Aged Adults</th>\n",
       "      <th>Young Adults</th>\n",
       "      <th>children</th>\n",
       "      <th>senior citizens</th>\n",
       "      <th>youth</th>\n",
       "    </tr>\n",
       "    <tr>\n",
       "      <th>Tretment Status</th>\n",
       "      <th></th>\n",
       "      <th></th>\n",
       "      <th></th>\n",
       "      <th></th>\n",
       "      <th></th>\n",
       "    </tr>\n",
       "  </thead>\n",
       "  <tbody>\n",
       "    <tr>\n",
       "      <th>CURED</th>\n",
       "      <td>16</td>\n",
       "      <td>28</td>\n",
       "      <td>1</td>\n",
       "      <td>6</td>\n",
       "      <td>3</td>\n",
       "    </tr>\n",
       "    <tr>\n",
       "      <th>DIED</th>\n",
       "      <td>2</td>\n",
       "      <td>1</td>\n",
       "      <td>0</td>\n",
       "      <td>3</td>\n",
       "      <td>0</td>\n",
       "    </tr>\n",
       "    <tr>\n",
       "      <th>LOST_TO_FOLLOW_UP</th>\n",
       "      <td>0</td>\n",
       "      <td>1</td>\n",
       "      <td>0</td>\n",
       "      <td>0</td>\n",
       "      <td>0</td>\n",
       "    </tr>\n",
       "    <tr>\n",
       "      <th>NOT_EVALUATED</th>\n",
       "      <td>2</td>\n",
       "      <td>3</td>\n",
       "      <td>0</td>\n",
       "      <td>0</td>\n",
       "      <td>1</td>\n",
       "    </tr>\n",
       "    <tr>\n",
       "      <th>TREATMENT_COMPLETE</th>\n",
       "      <td>16</td>\n",
       "      <td>14</td>\n",
       "      <td>2</td>\n",
       "      <td>4</td>\n",
       "      <td>7</td>\n",
       "    </tr>\n",
       "    <tr>\n",
       "      <th>TREATMENT_REGIMEN_CHANGED</th>\n",
       "      <td>1</td>\n",
       "      <td>1</td>\n",
       "      <td>0</td>\n",
       "      <td>0</td>\n",
       "      <td>0</td>\n",
       "    </tr>\n",
       "    <tr>\n",
       "      <th>UNTRACEABLE_INCORRECT_ADDRESS</th>\n",
       "      <td>0</td>\n",
       "      <td>0</td>\n",
       "      <td>0</td>\n",
       "      <td>1</td>\n",
       "      <td>0</td>\n",
       "    </tr>\n",
       "    <tr>\n",
       "      <th>WRONGLY_DIAGNOSED</th>\n",
       "      <td>1</td>\n",
       "      <td>5</td>\n",
       "      <td>0</td>\n",
       "      <td>0</td>\n",
       "      <td>0</td>\n",
       "    </tr>\n",
       "    <tr>\n",
       "      <th>missing data</th>\n",
       "      <td>34</td>\n",
       "      <td>126</td>\n",
       "      <td>6</td>\n",
       "      <td>21</td>\n",
       "      <td>16</td>\n",
       "    </tr>\n",
       "    <tr>\n",
       "      <th>started</th>\n",
       "      <td>10</td>\n",
       "      <td>20</td>\n",
       "      <td>2</td>\n",
       "      <td>5</td>\n",
       "      <td>3</td>\n",
       "    </tr>\n",
       "  </tbody>\n",
       "</table>\n",
       "</div>"
      ],
      "text/plain": [
       "age_group                       Middle-Aged Adults  Young Adults  children  \\\n",
       "Tretment Status                                                              \n",
       "CURED                                           16            28         1   \n",
       "DIED                                             2             1         0   \n",
       "LOST_TO_FOLLOW_UP                                0             1         0   \n",
       "NOT_EVALUATED                                    2             3         0   \n",
       "TREATMENT_COMPLETE                              16            14         2   \n",
       "TREATMENT_REGIMEN_CHANGED                        1             1         0   \n",
       "UNTRACEABLE_INCORRECT_ADDRESS                    0             0         0   \n",
       "WRONGLY_DIAGNOSED                                1             5         0   \n",
       "missing data                                    34           126         6   \n",
       "started                                         10            20         2   \n",
       "\n",
       "age_group                      senior citizens  youth  \n",
       "Tretment Status                                        \n",
       "CURED                                        6      3  \n",
       "DIED                                         3      0  \n",
       "LOST_TO_FOLLOW_UP                            0      0  \n",
       "NOT_EVALUATED                                0      1  \n",
       "TREATMENT_COMPLETE                           4      7  \n",
       "TREATMENT_REGIMEN_CHANGED                    0      0  \n",
       "UNTRACEABLE_INCORRECT_ADDRESS                1      0  \n",
       "WRONGLY_DIAGNOSED                            0      0  \n",
       "missing data                                21     16  \n",
       "started                                      5      3  "
      ]
     },
     "execution_count": 87,
     "metadata": {},
     "output_type": "execute_result"
    }
   ],
   "source": [
    "pd.crosstab(data['Tretment Status'], data['age_group'])"
   ]
  },
  {
   "cell_type": "markdown",
   "id": "5caf008d-4619-4862-82e2-7d1c378d8e96",
   "metadata": {},
   "source": [
    "#### 3.6 Data visualization for bivariate analysis \n",
    "> Analyzing the tratment status of the patients across the age group using stacked bar plots. "
   ]
  },
  {
   "cell_type": "code",
   "execution_count": 88,
   "id": "f34ad64c-9625-451f-8881-00cf5206aa3c",
   "metadata": {},
   "outputs": [
    {
     "data": {
      "image/png": "[encoded data removed]",
      "text/plain": [
       "<Figure size 800x800 with 1 Axes>"
      ]
     },
     "metadata": {},
     "output_type": "display_data"
    }
   ],
   "source": [
    "# contingency table for treatment status and age group\n",
    "pivot_df = data.groupby(['Tretment Status', 'age_group']).size().unstack(fill_value=0)\n",
    "\n",
    "# plotting the pivotal table \n",
    "pivot_df.plot(kind='bar', stacked=True, colormap='Set3', figsize = (8,8))\n",
    "\n",
    "plt.title('Treatment Status across all age groups')  # Fixed typo in \"Treatment\"\n",
    "plt.xlabel('Treatment status')\n",
    "plt.ylabel('Count')\n",
    "plt.xticks(rotation = 90)\n",
    "plt.tight_layout()\n",
    "plt.show()"
   ]
  },
  {
   "cell_type": "markdown",
   "id": "7c15182a-db30-40f4-b604-38cf67a18a1f",
   "metadata": {},
   "source": [
    "##### Observations\n",
    "\n",
    "- Most “CURED” and “TREATMENT_COMPLETE” cases are among Middle-Aged and Young Adults.\n",
    "- Children have few cases but relatively good outcomes (few deaths, some completions).\n",
    "- Senior Citizens show higher mortality and missing data rates.\n",
    "- Missing data is notably high in Young Adults, suggesting gaps in documentation."
   ]
  },
  {
   "cell_type": "markdown",
   "id": "17f00008-1a96-4cd7-aef6-7cbbbe3b9e0e",
   "metadata": {},
   "source": [
    "### 4. Multivariate analysis "
   ]
  },
  {
   "cell_type": "code",
   "execution_count": 89,
   "id": "fc4bcf18-e17b-4d42-86e9-644c13ac31a0",
   "metadata": {},
   "outputs": [
    {
     "data": {
      "text/plain": [
       "Index(['TU', 'Diagnosed from which Facility', 'Public/Private', 'Address',\n",
       "       'Diagnosis Date', 'Age', 'Gender', 'Type', 'Site', 'HIV Status',\n",
       "       'TB Drug Regimen', 'Tretment Start Date', 'Weight', 'col_x',\n",
       "       'Tretment Status', 'age_group'],\n",
       "      dtype='object', name=1)"
      ]
     },
     "execution_count": 89,
     "metadata": {},
     "output_type": "execute_result"
    }
   ],
   "source": [
    "data.columns"
   ]
  },
  {
   "cell_type": "markdown",
   "id": "103ffad5-10e6-488c-87b9-d69676dc6fdf",
   "metadata": {},
   "source": [
    "> Examining the relationship between Treatment Units (TUs), Diagnosed From Which Facility, and Public/Private columns together to understand how diagnosis sources and healthcare types vary across different treatment units."
   ]
  },
  {
   "cell_type": "code",
   "execution_count": 90,
   "id": "dce91583-f533-4856-96c9-150c212fc656",
   "metadata": {},
   "outputs": [
    {
     "data": {
      "text/html": [
       "<div>\n",
       "<style scoped>\n",
       "    .dataframe tbody tr th:only-of-type {\n",
       "        vertical-align: middle;\n",
       "    }\n",
       "\n",
       "    .dataframe tbody tr th {\n",
       "        vertical-align: top;\n",
       "    }\n",
       "\n",
       "    .dataframe thead th {\n",
       "        text-align: right;\n",
       "    }\n",
       "</style>\n",
       "<table border=\"1\" class=\"dataframe\">\n",
       "  <thead>\n",
       "    <tr style=\"text-align: right;\">\n",
       "      <th></th>\n",
       "      <th>TU</th>\n",
       "      <th>Diagnosed from which Facility</th>\n",
       "      <th>Public/Private</th>\n",
       "      <th>count</th>\n",
       "    </tr>\n",
       "  </thead>\n",
       "  <tbody>\n",
       "    <tr>\n",
       "      <th>0</th>\n",
       "      <td>dtc kishtwar</td>\n",
       "      <td>anantnag</td>\n",
       "      <td>public</td>\n",
       "      <td>2</td>\n",
       "    </tr>\n",
       "    <tr>\n",
       "      <th>1</th>\n",
       "      <td>dtc kishtwar</td>\n",
       "      <td>chandigarh</td>\n",
       "      <td>public</td>\n",
       "      <td>2</td>\n",
       "    </tr>\n",
       "    <tr>\n",
       "      <th>2</th>\n",
       "      <td>dtc kishtwar</td>\n",
       "      <td>doda</td>\n",
       "      <td>public</td>\n",
       "      <td>109</td>\n",
       "    </tr>\n",
       "    <tr>\n",
       "      <th>3</th>\n",
       "      <td>dtc kishtwar</td>\n",
       "      <td>doda</td>\n",
       "      <td>private</td>\n",
       "      <td>27</td>\n",
       "    </tr>\n",
       "    <tr>\n",
       "      <th>4</th>\n",
       "      <td>dtc kishtwar</td>\n",
       "      <td>jammu</td>\n",
       "      <td>public</td>\n",
       "      <td>24</td>\n",
       "    </tr>\n",
       "    <tr>\n",
       "      <th>5</th>\n",
       "      <td>dtc kishtwar</td>\n",
       "      <td>jammu</td>\n",
       "      <td>private</td>\n",
       "      <td>12</td>\n",
       "    </tr>\n",
       "    <tr>\n",
       "      <th>6</th>\n",
       "      <td>dtc kishtwar</td>\n",
       "      <td>kathua</td>\n",
       "      <td>public</td>\n",
       "      <td>1</td>\n",
       "    </tr>\n",
       "    <tr>\n",
       "      <th>7</th>\n",
       "      <td>dtc kishtwar</td>\n",
       "      <td>srinagar</td>\n",
       "      <td>public</td>\n",
       "      <td>4</td>\n",
       "    </tr>\n",
       "    <tr>\n",
       "      <th>8</th>\n",
       "      <td>dtc kishtwar</td>\n",
       "      <td>srinagar</td>\n",
       "      <td>private</td>\n",
       "      <td>1</td>\n",
       "    </tr>\n",
       "    <tr>\n",
       "      <th>14</th>\n",
       "      <td>padder</td>\n",
       "      <td>srinagar</td>\n",
       "      <td>public</td>\n",
       "      <td>1</td>\n",
       "    </tr>\n",
       "    <tr>\n",
       "      <th>12</th>\n",
       "      <td>padder</td>\n",
       "      <td>jammu</td>\n",
       "      <td>public</td>\n",
       "      <td>14</td>\n",
       "    </tr>\n",
       "    <tr>\n",
       "      <th>13</th>\n",
       "      <td>padder</td>\n",
       "      <td>jammu</td>\n",
       "      <td>private</td>\n",
       "      <td>3</td>\n",
       "    </tr>\n",
       "    <tr>\n",
       "      <th>10</th>\n",
       "      <td>padder</td>\n",
       "      <td>doda</td>\n",
       "      <td>public</td>\n",
       "      <td>5</td>\n",
       "    </tr>\n",
       "    <tr>\n",
       "      <th>9</th>\n",
       "      <td>padder</td>\n",
       "      <td>chandigarh</td>\n",
       "      <td>public</td>\n",
       "      <td>1</td>\n",
       "    </tr>\n",
       "    <tr>\n",
       "      <th>11</th>\n",
       "      <td>padder</td>\n",
       "      <td>doda</td>\n",
       "      <td>private</td>\n",
       "      <td>3</td>\n",
       "    </tr>\n",
       "    <tr>\n",
       "      <th>25</th>\n",
       "      <td>ramban</td>\n",
       "      <td>udhampur</td>\n",
       "      <td>public</td>\n",
       "      <td>3</td>\n",
       "    </tr>\n",
       "    <tr>\n",
       "      <th>15</th>\n",
       "      <td>ramban</td>\n",
       "      <td>anantnag</td>\n",
       "      <td>public</td>\n",
       "      <td>17</td>\n",
       "    </tr>\n",
       "    <tr>\n",
       "      <th>16</th>\n",
       "      <td>ramban</td>\n",
       "      <td>anantnag</td>\n",
       "      <td>private</td>\n",
       "      <td>1</td>\n",
       "    </tr>\n",
       "    <tr>\n",
       "      <th>17</th>\n",
       "      <td>ramban</td>\n",
       "      <td>baramulla</td>\n",
       "      <td>public</td>\n",
       "      <td>2</td>\n",
       "    </tr>\n",
       "    <tr>\n",
       "      <th>18</th>\n",
       "      <td>ramban</td>\n",
       "      <td>chandigarh</td>\n",
       "      <td>public</td>\n",
       "      <td>1</td>\n",
       "    </tr>\n",
       "    <tr>\n",
       "      <th>19</th>\n",
       "      <td>ramban</td>\n",
       "      <td>doda</td>\n",
       "      <td>public</td>\n",
       "      <td>84</td>\n",
       "    </tr>\n",
       "    <tr>\n",
       "      <th>20</th>\n",
       "      <td>ramban</td>\n",
       "      <td>doda</td>\n",
       "      <td>private</td>\n",
       "      <td>5</td>\n",
       "    </tr>\n",
       "    <tr>\n",
       "      <th>21</th>\n",
       "      <td>ramban</td>\n",
       "      <td>jammu</td>\n",
       "      <td>public</td>\n",
       "      <td>24</td>\n",
       "    </tr>\n",
       "    <tr>\n",
       "      <th>22</th>\n",
       "      <td>ramban</td>\n",
       "      <td>jammu</td>\n",
       "      <td>private</td>\n",
       "      <td>5</td>\n",
       "    </tr>\n",
       "    <tr>\n",
       "      <th>23</th>\n",
       "      <td>ramban</td>\n",
       "      <td>srinagar</td>\n",
       "      <td>public</td>\n",
       "      <td>7</td>\n",
       "    </tr>\n",
       "    <tr>\n",
       "      <th>24</th>\n",
       "      <td>ramban</td>\n",
       "      <td>srinagar</td>\n",
       "      <td>private</td>\n",
       "      <td>2</td>\n",
       "    </tr>\n",
       "    <tr>\n",
       "      <th>26</th>\n",
       "      <td>ramban</td>\n",
       "      <td>udhampur</td>\n",
       "      <td>private</td>\n",
       "      <td>2</td>\n",
       "    </tr>\n",
       "  </tbody>\n",
       "</table>\n",
       "</div>"
      ],
      "text/plain": [
       "              TU Diagnosed from which Facility Public/Private  count\n",
       "0   dtc kishtwar                      anantnag         public      2\n",
       "1   dtc kishtwar                    chandigarh         public      2\n",
       "2   dtc kishtwar                          doda         public    109\n",
       "3   dtc kishtwar                          doda        private     27\n",
       "4   dtc kishtwar                         jammu         public     24\n",
       "5   dtc kishtwar                         jammu        private     12\n",
       "6   dtc kishtwar                        kathua         public      1\n",
       "7   dtc kishtwar                      srinagar         public      4\n",
       "8   dtc kishtwar                      srinagar        private      1\n",
       "14        padder                      srinagar         public      1\n",
       "12        padder                         jammu         public     14\n",
       "13        padder                         jammu        private      3\n",
       "10        padder                          doda         public      5\n",
       "9         padder                    chandigarh         public      1\n",
       "11        padder                          doda        private      3\n",
       "25        ramban                      udhampur         public      3\n",
       "15        ramban                      anantnag         public     17\n",
       "16        ramban                      anantnag        private      1\n",
       "17        ramban                     baramulla         public      2\n",
       "18        ramban                    chandigarh         public      1\n",
       "19        ramban                          doda         public     84\n",
       "20        ramban                          doda        private      5\n",
       "21        ramban                         jammu         public     24\n",
       "22        ramban                         jammu        private      5\n",
       "23        ramban                      srinagar         public      7\n",
       "24        ramban                      srinagar        private      2\n",
       "26        ramban                      udhampur        private      2"
      ]
     },
     "execution_count": 90,
     "metadata": {},
     "output_type": "execute_result"
    }
   ],
   "source": [
    "data.groupby(['TU', 'Diagnosed from which Facility'])['Public/Private'].value_counts().reset_index().sort_values(by='TU')"
   ]
  },
  {
   "cell_type": "markdown",
   "id": "0f69016e-cd81-44b7-860a-0790f0805796",
   "metadata": {},
   "source": [
    "> Plotting bar plot to analyize the relationship between Treatment Units (TUs), Diagnosed From Which Facility, and Public/Private columns together."
   ]
  },
  {
   "cell_type": "code",
   "execution_count": 91,
   "id": "d6c2ef8c-7246-44c8-ac2a-af25779f6ceb",
   "metadata": {},
   "outputs": [
    {
     "data": {
      "image/png": "[encoded data removed]",
      "text/plain": [
       "<Figure size 1000x600 with 1 Axes>"
      ]
     },
     "metadata": {},
     "output_type": "display_data"
    }
   ],
   "source": [
    "data_grouped = data.groupby(['TU', 'Diagnosed from which Facility', 'Public/Private']).size().reset_index(name='Count')\n",
    "plt.figure(figsize=(10, 6))\n",
    "# Plot with seaborn to get grouped bars\n",
    "sns.barplot(data=data_grouped, x='TU', y='Count', hue='Public/Private', errorbar=None, palette='Set2', dodge=True)\n",
    "\n",
    "plt.title('Public/Private Status by TU and Facility')\n",
    "plt.xlabel('TU')\n",
    "plt.ylabel('Count')\n",
    "plt.xticks(rotation=45)\n",
    "plt.tight_layout()\n",
    "plt.show()"
   ]
  },
  {
   "cell_type": "markdown",
   "id": "3f2476eb-a489-487e-94e8-487889009826",
   "metadata": {},
   "source": [
    "> Examining the relationship between Gender, age_group and Public/Private columns together to understand how gender and dydonostic types vary across different age groups."
   ]
  },
  {
   "cell_type": "code",
   "execution_count": 92,
   "id": "dfed0b85-da40-42b9-905b-f9c518e1873b",
   "metadata": {},
   "outputs": [
    {
     "data": {
      "text/html": [
       "<div>\n",
       "<style scoped>\n",
       "    .dataframe tbody tr th:only-of-type {\n",
       "        vertical-align: middle;\n",
       "    }\n",
       "\n",
       "    .dataframe tbody tr th {\n",
       "        vertical-align: top;\n",
       "    }\n",
       "\n",
       "    .dataframe thead th {\n",
       "        text-align: right;\n",
       "    }\n",
       "</style>\n",
       "<table border=\"1\" class=\"dataframe\">\n",
       "  <thead>\n",
       "    <tr style=\"text-align: right;\">\n",
       "      <th></th>\n",
       "      <th>Gender</th>\n",
       "      <th>age_group</th>\n",
       "      <th>Public/Private</th>\n",
       "      <th>count</th>\n",
       "    </tr>\n",
       "  </thead>\n",
       "  <tbody>\n",
       "    <tr>\n",
       "      <th>0</th>\n",
       "      <td>female</td>\n",
       "      <td>Middle-Aged Adults</td>\n",
       "      <td>public</td>\n",
       "      <td>19</td>\n",
       "    </tr>\n",
       "    <tr>\n",
       "      <th>1</th>\n",
       "      <td>female</td>\n",
       "      <td>Middle-Aged Adults</td>\n",
       "      <td>private</td>\n",
       "      <td>6</td>\n",
       "    </tr>\n",
       "    <tr>\n",
       "      <th>2</th>\n",
       "      <td>female</td>\n",
       "      <td>Young Adults</td>\n",
       "      <td>public</td>\n",
       "      <td>69</td>\n",
       "    </tr>\n",
       "    <tr>\n",
       "      <th>3</th>\n",
       "      <td>female</td>\n",
       "      <td>Young Adults</td>\n",
       "      <td>private</td>\n",
       "      <td>11</td>\n",
       "    </tr>\n",
       "    <tr>\n",
       "      <th>4</th>\n",
       "      <td>female</td>\n",
       "      <td>children</td>\n",
       "      <td>public</td>\n",
       "      <td>8</td>\n",
       "    </tr>\n",
       "    <tr>\n",
       "      <th>5</th>\n",
       "      <td>female</td>\n",
       "      <td>children</td>\n",
       "      <td>private</td>\n",
       "      <td>1</td>\n",
       "    </tr>\n",
       "    <tr>\n",
       "      <th>6</th>\n",
       "      <td>female</td>\n",
       "      <td>senior citizens</td>\n",
       "      <td>public</td>\n",
       "      <td>10</td>\n",
       "    </tr>\n",
       "    <tr>\n",
       "      <th>7</th>\n",
       "      <td>female</td>\n",
       "      <td>senior citizens</td>\n",
       "      <td>private</td>\n",
       "      <td>2</td>\n",
       "    </tr>\n",
       "    <tr>\n",
       "      <th>8</th>\n",
       "      <td>female</td>\n",
       "      <td>youth</td>\n",
       "      <td>public</td>\n",
       "      <td>10</td>\n",
       "    </tr>\n",
       "    <tr>\n",
       "      <th>9</th>\n",
       "      <td>female</td>\n",
       "      <td>youth</td>\n",
       "      <td>private</td>\n",
       "      <td>3</td>\n",
       "    </tr>\n",
       "    <tr>\n",
       "      <th>10</th>\n",
       "      <td>male</td>\n",
       "      <td>Middle-Aged Adults</td>\n",
       "      <td>public</td>\n",
       "      <td>49</td>\n",
       "    </tr>\n",
       "    <tr>\n",
       "      <th>11</th>\n",
       "      <td>male</td>\n",
       "      <td>Middle-Aged Adults</td>\n",
       "      <td>private</td>\n",
       "      <td>8</td>\n",
       "    </tr>\n",
       "    <tr>\n",
       "      <th>12</th>\n",
       "      <td>male</td>\n",
       "      <td>Young Adults</td>\n",
       "      <td>public</td>\n",
       "      <td>102</td>\n",
       "    </tr>\n",
       "    <tr>\n",
       "      <th>13</th>\n",
       "      <td>male</td>\n",
       "      <td>Young Adults</td>\n",
       "      <td>private</td>\n",
       "      <td>17</td>\n",
       "    </tr>\n",
       "    <tr>\n",
       "      <th>14</th>\n",
       "      <td>male</td>\n",
       "      <td>children</td>\n",
       "      <td>private</td>\n",
       "      <td>1</td>\n",
       "    </tr>\n",
       "    <tr>\n",
       "      <th>15</th>\n",
       "      <td>male</td>\n",
       "      <td>children</td>\n",
       "      <td>public</td>\n",
       "      <td>1</td>\n",
       "    </tr>\n",
       "    <tr>\n",
       "      <th>16</th>\n",
       "      <td>male</td>\n",
       "      <td>senior citizens</td>\n",
       "      <td>public</td>\n",
       "      <td>20</td>\n",
       "    </tr>\n",
       "    <tr>\n",
       "      <th>17</th>\n",
       "      <td>male</td>\n",
       "      <td>senior citizens</td>\n",
       "      <td>private</td>\n",
       "      <td>8</td>\n",
       "    </tr>\n",
       "    <tr>\n",
       "      <th>18</th>\n",
       "      <td>male</td>\n",
       "      <td>youth</td>\n",
       "      <td>public</td>\n",
       "      <td>13</td>\n",
       "    </tr>\n",
       "    <tr>\n",
       "      <th>19</th>\n",
       "      <td>male</td>\n",
       "      <td>youth</td>\n",
       "      <td>private</td>\n",
       "      <td>4</td>\n",
       "    </tr>\n",
       "  </tbody>\n",
       "</table>\n",
       "</div>"
      ],
      "text/plain": [
       "    Gender            age_group Public/Private  count\n",
       "0   female   Middle-Aged Adults         public     19\n",
       "1   female   Middle-Aged Adults        private      6\n",
       "2   female         Young Adults         public     69\n",
       "3   female         Young Adults        private     11\n",
       "4   female             children         public      8\n",
       "5   female             children        private      1\n",
       "6   female      senior citizens         public     10\n",
       "7   female      senior citizens        private      2\n",
       "8   female                youth         public     10\n",
       "9   female                youth        private      3\n",
       "10    male   Middle-Aged Adults         public     49\n",
       "11    male   Middle-Aged Adults        private      8\n",
       "12    male         Young Adults         public    102\n",
       "13    male         Young Adults        private     17\n",
       "14    male             children        private      1\n",
       "15    male             children         public      1\n",
       "16    male      senior citizens         public     20\n",
       "17    male      senior citizens        private      8\n",
       "18    male                youth         public     13\n",
       "19    male                youth        private      4"
      ]
     },
     "execution_count": 92,
     "metadata": {},
     "output_type": "execute_result"
    }
   ],
   "source": [
    "data.groupby(['Gender','age_group'])[['age_group','Gender', 'Public/Private']].value_counts().reset_index()"
   ]
  },
  {
   "cell_type": "code",
   "execution_count": 93,
   "id": "d529e1c6-6239-493a-b5da-b2dd1293d83d",
   "metadata": {},
   "outputs": [
    {
     "data": {
      "text/plain": [
       "Index(['TU', 'Diagnosed from which Facility', 'Public/Private', 'Address',\n",
       "       'Diagnosis Date', 'Age', 'Gender', 'Type', 'Site', 'HIV Status',\n",
       "       'TB Drug Regimen', 'Tretment Start Date', 'Weight', 'col_x',\n",
       "       'Tretment Status', 'age_group'],\n",
       "      dtype='object', name=1)"
      ]
     },
     "execution_count": 93,
     "metadata": {},
     "output_type": "execute_result"
    }
   ],
   "source": [
    "data.columns"
   ]
  },
  {
   "cell_type": "markdown",
   "id": "4727f8c0-759e-44a9-ab62-ce3978fb1d0e",
   "metadata": {},
   "source": [
    "#### 5. Chi-square Test\n",
    "> Performing Chi-square tests to assess the association between HIV Status and other categorical variables."
   ]
  },
  {
   "cell_type": "code",
   "execution_count": 94,
   "id": "41915da9-6630-47fb-9fa2-b4f755c898de",
   "metadata": {},
   "outputs": [],
   "source": [
    "list = ['Gender', 'Age', 'age_group','Site', 'Type', 'TU', 'Address']"
   ]
  },
  {
   "cell_type": "code",
   "execution_count": 95,
   "id": "a1b266be-5e77-43eb-a001-795d81f3f4ca",
   "metadata": {},
   "outputs": [
    {
     "name": "stdout",
     "output_type": "stream",
     "text": [
      " \n",
      "Chi-square Statistic: 1.9283124178506235, p-value: 0.7489422014670815\n",
      "No significant association between  of Gender and Status of HIV.\n",
      " \n",
      "******************************\n",
      " \n",
      "Chi-square Statistic: 275.62756829067246, p-value: 0.5625848985143294\n",
      "No significant association between  of Age and Status of HIV.\n",
      " \n",
      "******************************\n",
      " \n",
      "Chi-square Statistic: 25.597670309476733, p-value: 0.05995871308159371\n",
      "No significant association between  of age_group and Status of HIV.\n",
      " \n",
      "******************************\n",
      " \n",
      "Chi-square Statistic: 372.88094973576295, p-value: 8.441005051782261e-67\n",
      "There is a significant association between Site and Status of HIV.\n",
      " \n",
      "******************************\n",
      " \n",
      "Chi-square Statistic: 650.7617680751985, p-value: 2.3188607061777735e-111\n",
      "There is a significant association between Type and Status of HIV.\n",
      " \n",
      "******************************\n",
      " \n",
      "Chi-square Statistic: 62.76210202504794, p-value: 1.3346598425564e-10\n",
      "There is a significant association between TU and Status of HIV.\n",
      " \n",
      "******************************\n",
      " \n",
      "Chi-square Statistic: 29.506906959019844, p-value: 0.0033110311851165465\n",
      "There is a significant association between Address and Status of HIV.\n",
      " \n",
      "******************************\n"
     ]
    }
   ],
   "source": [
    "from scipy.stats import chi2_contingency\n",
    "for i in list:\n",
    "    contingency_table = pd.crosstab(data['HIV Status'], data[i])\n",
    "    chi2, p, dof, expected = chi2_contingency(contingency_table)\n",
    "    print(' ')\n",
    "    print(f\"Chi-square Statistic: {chi2}, p-value: {p}\")\n",
    "    if p < 0.05:\n",
    "      print(f\"There is a significant association between {i} and Status of HIV.\")\n",
    "    else:\n",
    "      print(f\"No significant association between  of {i} and Status of HIV.\")\n",
    "    print(' ')\n",
    "    print('*'*30)"
   ]
  },
  {
   "cell_type": "markdown",
   "id": "0a5b4fc0-a93f-4c83-83ec-57ebefec9756",
   "metadata": {},
   "source": [
    "#### Key findings:\n",
    "- There is a significant relationship between site and status of HIV, TUs and Status of HIV, Address and status of HIV."
   ]
  },
  {
   "cell_type": "markdown",
   "id": "436e71f7-8be9-4c2e-a557-8f2b27c77e18",
   "metadata": {},
   "source": [
    "> Visualizing the distribution of HIV Status across different TUs using a count plot for better comparison. "
   ]
  },
  {
   "cell_type": "code",
   "execution_count": 96,
   "id": "1c70a610-f699-4df0-bf2b-92064620f236",
   "metadata": {},
   "outputs": [
    {
     "data": {
      "image/png": "[encoded data removed]",
      "text/plain": [
       "<Figure size 1200x600 with 1 Axes>"
      ]
     },
     "metadata": {},
     "output_type": "display_data"
    }
   ],
   "source": [
    "plt.figure(figsize=(12,6))\n",
    "sns.countplot(data=data, x='TU', hue='HIV Status', palette='pastel')\n",
    "plt.grid(axis='y', linestyle='--', alpha=0.7)\n",
    "plt.title('TB Status across TUs')\n",
    "plt.xlabel('TU')\n",
    "plt.ylabel('Number of Patients with HIV')\n",
    "plt.show()"
   ]
  },
  {
   "cell_type": "markdown",
   "id": "9c5f4288-cdc6-4d0c-ab28-e18cb673bba3",
   "metadata": {},
   "source": [
    "> Visualizing the distribution of HIV Status among TB patients across different addresses to identify regional patterns."
   ]
  },
  {
   "cell_type": "code",
   "execution_count": 97,
   "id": "3013644f-8028-4edd-898a-4b64d5baded5",
   "metadata": {},
   "outputs": [
    {
     "data": {
      "image/png": "[encoded data removed]",
      "text/plain": [
       "<Figure size 1200x600 with 1 Axes>"
      ]
     },
     "metadata": {},
     "output_type": "display_data"
    }
   ],
   "source": [
    "plt.figure(figsize=(12,6))\n",
    "sns.countplot(data=data, x='Address', hue='HIV Status', palette='pastel')\n",
    "plt.grid(axis='y', linestyle='--', alpha=0.7)\n",
    "plt.title('Address with the TB patients')\n",
    "plt.xlabel('Address')\n",
    "plt.ylabel('Number of Patients with HIV')\n",
    "plt.show()"
   ]
  },
  {
   "cell_type": "markdown",
   "id": "53f19d6b-a49a-478d-b39a-11c14f60923d",
   "metadata": {},
   "source": [
    "## Final conclusion \n",
    "\n",
    "#### Patient Distribution Across DTUs\n",
    "•\tPrimary Distribution: The majority of patients, approximately 50.3%, originate from the DTC unit in Kishtwar with a smaller yet significant, 42.3% from Ramban, while Paddar represents a smaller portion, with 7.5% of cases. \n",
    "•\tGeographic Insights: A substantial 64.4% of patients across all three DTUs were diagnosed within the Doda District. Additional cases are recorded from nearby Jammu (22.7%) and Kashmir regions (10%), indicating a concentration of cases within Jammu and Kashmir.\n",
    "•\tProximity Effect: The high concentration of patients diagnosed in Doda may relate to the proximity of the place from Kishtwar, Ramban, and Paddar, which are the main addresses of the infected TB patients. However, the existence of functional TB units in these areas, suggests that TB prevalence and identification may vary across districts, potentially due to the regional health care service available or local transmission factor. Doda, which serves as a central diagnostic hub, reflects the need for better case detection facilities in the neighborhood of the hotspot areas.\n",
    "\n",
    "#### Patient Address and Treatment Unit Alignment\n",
    "\n",
    "•\tAddress Data Observations: A notable proportion of patients either lacked a valid address or resided outside the immediate treatment area. Patients with addresses close to the DTUs are receiving the treatment near their respective addresses. \n",
    "\n",
    "•\tHowever, several patients are receiving treatment at locations farther from their homes, with Paddar, in particular, seeing a comparable share of patients from Kishtwar. \n",
    "•\tKishtwar also serves many patients from Ramban and Paddar regions, highlighting the cross-district movement for treatment accessibility.\n",
    "\n",
    "#### Diagnosis and Referral Patterns\n",
    "\n",
    "•\tReferrals: A majority of patients, irrespective of demographic variables (age, gender, area, HIV status), were diagnosed in Doda or Jammu and subsequently referred to DTC Kishtwar or Ramban, with a smaller fraction directed to Paddar. The majority of the patients getting diagnosed in Kashmir are receiving treatment from Ramabn.\n",
    "\n",
    "•\tPublic Healthcare Dominance: As evident from the data, public health services play a crucial role in TB detection, as their diagnostics were predominant over private services. A significant portion of treatment initiation data is missing for both privately and publicly diagnosed cases, which raises concerns about tracking and continuity of care in both sectors. Approximately 2% of individuals diagnosed through the public sector were misdiagnosed, highlighting a need for improved diagnostic accuracy. The cases diagnosed through private facilities were primarily seen in Jammu.\n",
    "\n",
    "\n",
    "•\tTB spread in Low-Income Populations: Targeted screening and diagnostics facilities may account for the concentration of cases in public healthcare, as these affordable services are often preferred by economically disadvantaged populations, highlighting a potential spread of TB in lower-income communities.\n",
    "•\tDiverse Patient Types Across DTUs: Each TU received many new TB cases; however, DTU Kishtwar exhibited a broader spectrum of case types, with the highest proportion of extrapulmonary and pulmonary TB patients. The large proportion of new cases indicates active transmission in the community and the effectiveness of TB screening programs in identifying new or previously undiagnosed cases. Kishtwar and Ramban also saw some retreatment cases, underscoring the importance of follow-ups and sustained or repeated care. \n",
    "\n",
    "#### Diagnostic Accuracy\n",
    "\n",
    "•\tMissing Data: A significant portion of patient records was incomplete, complicating unbiased data analysis and can obscure critical insights needed for effective healthcare. Strengthening data management processes could help bridge treatment gaps for effective prevention measures and ultimately improve patient outcomes. \n",
    "•\tInvalid Data: Some portion of the patient information was invalid which may lead to difficulty in follow-ups thus measures, such as reliable data entry, implementing validation checks, and encouraging regular data audits, healthcare providers could achieve more comprehensive and accurate information. This approach would enhance the quality of analyses, making it easier to identify and address treatment gaps.\n",
    "•\tDiagnostic Errors: Data indicates instances where DTC Kishtwar and Ramban patients were misdiagnosed, signaling the need for strengthened diagnostic protocols, to ensure appropriate treatment and avoid resource misallocation.\n",
    "\n",
    "#### Demographic Breakdown of TB Cases\n",
    "\n",
    "•\tGender: Males showed a higher incidence of TB across all three TUs. The disparity could reflect the health-seeking practices between genders. It is essential to pay close attention to women's health in this context.\n",
    "•\tAge Trends:  With young adults (18-45 years) representing the largest group (55.0%), middle-aged adults (45-65 years) followed at 22.7%, with smaller proportions for senior citizens, children and youth, thus indicating a high impact on the working-age population or increased vulnerability with the aging immune system. Many cases of death were observed among senior citizens, possibly due to the increased risk of TB associated with age. \n",
    "\n",
    "#### TB Case Classification and Diagnostic Methods\n",
    "\n",
    "•\tSite of TB: Most of the recorded cases are new, with some involving pulmonary or extrapulmonary sites and retreatment cases.\n",
    "•\tDiagnostic Techniques: The \"other\" category and Trunat (MTB-RIF) represent the most common diagnostic methods, followed by chest X-rays and microscopy (ZN and fluorescent). This diversity in diagnostic methods suggests the need for more standardized diagnostic protocols across the region.\n",
    "\n",
    "####  HIV Co-infection: \n",
    "\n",
    "•\tTB patients with pulmonary HIV represent the majority (52.7%), followed by extrapulmonary cases (30.3%). Non-reactive HIV cases comprise 11.7% of the population, while 5% remain unconfirmed. Kishtwar hosts a higher number of extrapulmonary cases, while Ramban records more pulmonary cases. Notably, non-reactive cases are concentrated in Kishtwar. The number of TB patients with active HIV cases, along with the serious threat posed by HIV to TB treatment, underscores the need for urgent attention. The data clearly shows that patients who died, regardless of age, gender, or the site of TB, had a history of active HIV.\n",
    "\n",
    "•\tInferential Analysis\n",
    "\n",
    "  - Chi-Square Test Findings: Hypothesis testing using the Chi-Square test indicated no significant association between gender or age and HIV status, suggesting these factors do not influence HIV prevalence in the TB patient population.\n",
    "  - Significant Associations: Strong associations were found between the TB site, TB case type, address, and treatment unit, suggesting that patient location and TB classification may impact treatment patterns and resource requirements.\n"
   ]
  },
  {
   "cell_type": "markdown",
   "id": "b988a72a-b207-4275-9abc-c4ccd46c1095",
   "metadata": {},
   "source": [
    "## Summary\n",
    "\n",
    "This analysis uncovered critical patterns in Tuberculosis (TB) cases from the Kishtwar district of Jammu and Kashmir, using real-world hospital data. Through demographic segmentation, exploratory data analysis, and statistical methods, several actionable insights emerged:\n",
    "\n",
    "- Public healthcare facilities are the primary source of diagnosis and treatment, highlighting the need for better infrastructure and support within Treatment Units (TUs).\n",
    "\n",
    "- Middle-aged individuals (31–45 years) showed the highest TB prevalence, suggesting a need for age-targeted awareness and screening programs.\n",
    "\n",
    "- Male patients accounted for a higher share of positive cases, which could reflect behavioral, occupational, or access-related gender disparities.\n",
    "\n",
    "- The presence of missing and inconsistent data emphasizes the importance of improved data recording practices within local healthcare systems.\n",
    "\n",
    "- Strengthening data-driven decision-making can help bridge treatment gaps and ensure more equitable TB prevention strategies across the district.\n",
    "\n",
    "#### Use Case \n",
    "\n",
    "The findings can help local healthcare authorities:\n",
    "\n",
    "- Strengthen TB awareness campaigns in high-risk areas.\n",
    "\n",
    "- Improve data recording practices.\n",
    "\n",
    "- Ensure better follow-up and treatment completion.\n",
    "\n"
   ]
  }
 ],
 "metadata": {
  "kernelspec": {
   "display_name": "Python 3 (ipykernel)",
   "language": "python",
   "name": "python3"
  },
  "language_info": {
   "codemirror_mode": {
    "name": "ipython",
    "version": 3
   },
   "file_extension": ".py",
   "mimetype": "text/x-python",
   "name": "python",
   "nbconvert_exporter": "python",
   "pygments_lexer": "ipython3",
   "version": "3.11.7"
  }
 },
 "nbformat": 4,
 "nbformat_minor": 5
}
